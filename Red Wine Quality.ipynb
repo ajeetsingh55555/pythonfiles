{
 "cells": [
  {
   "cell_type": "code",
   "execution_count": 2,
   "id": "eed2a215",
   "metadata": {},
   "outputs": [],
   "source": [
    "import pandas as pd\n",
    "import numpy as np\n",
    "import seaborn as sns\n",
    "import warnings\n",
    "warnings.filterwarnings('ignore')"
   ]
  },
  {
   "cell_type": "code",
   "execution_count": 3,
   "id": "24ad38d5",
   "metadata": {},
   "outputs": [],
   "source": [
    "#data downloaded from github as getting space error while fetching direct from site\n",
    "df=pd.read_csv(\"https://raw.githubusercontent.com/dsrscientist/DSData/master/winequality-red.csv\")"
   ]
  },
  {
   "cell_type": "code",
   "execution_count": 4,
   "id": "f90ef41c",
   "metadata": {},
   "outputs": [
    {
     "data": {
      "text/plain": [
       "Index(['fixed acidity', 'volatile acidity', 'citric acid', 'residual sugar',\n",
       "       'chlorides', 'free sulfur dioxide', 'total sulfur dioxide', 'density',\n",
       "       'pH', 'sulphates', 'alcohol', 'quality'],\n",
       "      dtype='object')"
      ]
     },
     "execution_count": 4,
     "metadata": {},
     "output_type": "execute_result"
    }
   ],
   "source": [
    "df.columns"
   ]
  },
  {
   "cell_type": "code",
   "execution_count": 5,
   "id": "e2f9f2a5",
   "metadata": {},
   "outputs": [
    {
     "data": {
      "text/plain": [
       "<AxesSubplot:>"
      ]
     },
     "execution_count": 5,
     "metadata": {},
     "output_type": "execute_result"
    },
    {
     "data": {
      "image/png": "[encoded data removed]",
      "text/plain": [
       "<Figure size 432x288 with 2 Axes>"
      ]
     },
     "metadata": {
      "needs_background": "light"
     },
     "output_type": "display_data"
    }
   ],
   "source": [
    "sns.heatmap(df.isnull())\n",
    "#there is no null"
   ]
  },
  {
   "cell_type": "code",
   "execution_count": 6,
   "id": "2d4276aa",
   "metadata": {},
   "outputs": [
    {
     "data": {
      "text/plain": [
       "fixed acidity           0\n",
       "volatile acidity        0\n",
       "citric acid             0\n",
       "residual sugar          0\n",
       "chlorides               0\n",
       "free sulfur dioxide     0\n",
       "total sulfur dioxide    0\n",
       "density                 0\n",
       "pH                      0\n",
       "sulphates               0\n",
       "alcohol                 0\n",
       "quality                 0\n",
       "dtype: int64"
      ]
     },
     "execution_count": 6,
     "metadata": {},
     "output_type": "execute_result"
    }
   ],
   "source": [
    "df.isnull().sum()\n",
    "# all data type look fine"
   ]
  },
  {
   "cell_type": "code",
   "execution_count": 7,
   "id": "46d368d1",
   "metadata": {},
   "outputs": [
    {
     "data": {
      "text/plain": [
       "fixed acidity           float64\n",
       "volatile acidity        float64\n",
       "citric acid             float64\n",
       "residual sugar          float64\n",
       "chlorides               float64\n",
       "free sulfur dioxide     float64\n",
       "total sulfur dioxide    float64\n",
       "density                 float64\n",
       "pH                      float64\n",
       "sulphates               float64\n",
       "alcohol                 float64\n",
       "quality                   int64\n",
       "dtype: object"
      ]
     },
     "execution_count": 7,
     "metadata": {},
     "output_type": "execute_result"
    }
   ],
   "source": [
    "df.dtypes"
   ]
  },
  {
   "cell_type": "code",
   "execution_count": 8,
   "id": "03365506",
   "metadata": {},
   "outputs": [
    {
     "data": {
      "text/html": [
       "<div>\n",
       "<style scoped>\n",
       "    .dataframe tbody tr th:only-of-type {\n",
       "        vertical-align: middle;\n",
       "    }\n",
       "\n",
       "    .dataframe tbody tr th {\n",
       "        vertical-align: top;\n",
       "    }\n",
       "\n",
       "    .dataframe thead th {\n",
       "        text-align: right;\n",
       "    }\n",
       "</style>\n",
       "<table border=\"1\" class=\"dataframe\">\n",
       "  <thead>\n",
       "    <tr style=\"text-align: right;\">\n",
       "      <th></th>\n",
       "      <th>fixed acidity</th>\n",
       "      <th>volatile acidity</th>\n",
       "      <th>citric acid</th>\n",
       "      <th>residual sugar</th>\n",
       "      <th>chlorides</th>\n",
       "      <th>free sulfur dioxide</th>\n",
       "      <th>total sulfur dioxide</th>\n",
       "      <th>density</th>\n",
       "      <th>pH</th>\n",
       "      <th>sulphates</th>\n",
       "      <th>alcohol</th>\n",
       "      <th>quality</th>\n",
       "    </tr>\n",
       "  </thead>\n",
       "  <tbody>\n",
       "    <tr>\n",
       "      <th>count</th>\n",
       "      <td>1599.000000</td>\n",
       "      <td>1599.000000</td>\n",
       "      <td>1599.000000</td>\n",
       "      <td>1599.000000</td>\n",
       "      <td>1599.000000</td>\n",
       "      <td>1599.000000</td>\n",
       "      <td>1599.000000</td>\n",
       "      <td>1599.000000</td>\n",
       "      <td>1599.000000</td>\n",
       "      <td>1599.000000</td>\n",
       "      <td>1599.000000</td>\n",
       "      <td>1599.000000</td>\n",
       "    </tr>\n",
       "    <tr>\n",
       "      <th>mean</th>\n",
       "      <td>8.319637</td>\n",
       "      <td>0.527821</td>\n",
       "      <td>0.270976</td>\n",
       "      <td>2.538806</td>\n",
       "      <td>0.087467</td>\n",
       "      <td>15.874922</td>\n",
       "      <td>46.467792</td>\n",
       "      <td>0.996747</td>\n",
       "      <td>3.311113</td>\n",
       "      <td>0.658149</td>\n",
       "      <td>10.422983</td>\n",
       "      <td>5.636023</td>\n",
       "    </tr>\n",
       "    <tr>\n",
       "      <th>std</th>\n",
       "      <td>1.741096</td>\n",
       "      <td>0.179060</td>\n",
       "      <td>0.194801</td>\n",
       "      <td>1.409928</td>\n",
       "      <td>0.047065</td>\n",
       "      <td>10.460157</td>\n",
       "      <td>32.895324</td>\n",
       "      <td>0.001887</td>\n",
       "      <td>0.154386</td>\n",
       "      <td>0.169507</td>\n",
       "      <td>1.065668</td>\n",
       "      <td>0.807569</td>\n",
       "    </tr>\n",
       "    <tr>\n",
       "      <th>min</th>\n",
       "      <td>4.600000</td>\n",
       "      <td>0.120000</td>\n",
       "      <td>0.000000</td>\n",
       "      <td>0.900000</td>\n",
       "      <td>0.012000</td>\n",
       "      <td>1.000000</td>\n",
       "      <td>6.000000</td>\n",
       "      <td>0.990070</td>\n",
       "      <td>2.740000</td>\n",
       "      <td>0.330000</td>\n",
       "      <td>8.400000</td>\n",
       "      <td>3.000000</td>\n",
       "    </tr>\n",
       "    <tr>\n",
       "      <th>25%</th>\n",
       "      <td>7.100000</td>\n",
       "      <td>0.390000</td>\n",
       "      <td>0.090000</td>\n",
       "      <td>1.900000</td>\n",
       "      <td>0.070000</td>\n",
       "      <td>7.000000</td>\n",
       "      <td>22.000000</td>\n",
       "      <td>0.995600</td>\n",
       "      <td>3.210000</td>\n",
       "      <td>0.550000</td>\n",
       "      <td>9.500000</td>\n",
       "      <td>5.000000</td>\n",
       "    </tr>\n",
       "    <tr>\n",
       "      <th>50%</th>\n",
       "      <td>7.900000</td>\n",
       "      <td>0.520000</td>\n",
       "      <td>0.260000</td>\n",
       "      <td>2.200000</td>\n",
       "      <td>0.079000</td>\n",
       "      <td>14.000000</td>\n",
       "      <td>38.000000</td>\n",
       "      <td>0.996750</td>\n",
       "      <td>3.310000</td>\n",
       "      <td>0.620000</td>\n",
       "      <td>10.200000</td>\n",
       "      <td>6.000000</td>\n",
       "    </tr>\n",
       "    <tr>\n",
       "      <th>75%</th>\n",
       "      <td>9.200000</td>\n",
       "      <td>0.640000</td>\n",
       "      <td>0.420000</td>\n",
       "      <td>2.600000</td>\n",
       "      <td>0.090000</td>\n",
       "      <td>21.000000</td>\n",
       "      <td>62.000000</td>\n",
       "      <td>0.997835</td>\n",
       "      <td>3.400000</td>\n",
       "      <td>0.730000</td>\n",
       "      <td>11.100000</td>\n",
       "      <td>6.000000</td>\n",
       "    </tr>\n",
       "    <tr>\n",
       "      <th>max</th>\n",
       "      <td>15.900000</td>\n",
       "      <td>1.580000</td>\n",
       "      <td>1.000000</td>\n",
       "      <td>15.500000</td>\n",
       "      <td>0.611000</td>\n",
       "      <td>72.000000</td>\n",
       "      <td>289.000000</td>\n",
       "      <td>1.003690</td>\n",
       "      <td>4.010000</td>\n",
       "      <td>2.000000</td>\n",
       "      <td>14.900000</td>\n",
       "      <td>8.000000</td>\n",
       "    </tr>\n",
       "  </tbody>\n",
       "</table>\n",
       "</div>"
      ],
      "text/plain": [
       "       fixed acidity  volatile acidity  citric acid  residual sugar  \\\n",
       "count    1599.000000       1599.000000  1599.000000     1599.000000   \n",
       "mean        8.319637          0.527821     0.270976        2.538806   \n",
       "std         1.741096          0.179060     0.194801        1.409928   \n",
       "min         4.600000          0.120000     0.000000        0.900000   \n",
       "25%         7.100000          0.390000     0.090000        1.900000   \n",
       "50%         7.900000          0.520000     0.260000        2.200000   \n",
       "75%         9.200000          0.640000     0.420000        2.600000   \n",
       "max        15.900000          1.580000     1.000000       15.500000   \n",
       "\n",
       "         chlorides  free sulfur dioxide  total sulfur dioxide      density  \\\n",
       "count  1599.000000          1599.000000           1599.000000  1599.000000   \n",
       "mean      0.087467            15.874922             46.467792     0.996747   \n",
       "std       0.047065            10.460157             32.895324     0.001887   \n",
       "min       0.012000             1.000000              6.000000     0.990070   \n",
       "25%       0.070000             7.000000             22.000000     0.995600   \n",
       "50%       0.079000            14.000000             38.000000     0.996750   \n",
       "75%       0.090000            21.000000             62.000000     0.997835   \n",
       "max       0.611000            72.000000            289.000000     1.003690   \n",
       "\n",
       "                pH    sulphates      alcohol      quality  \n",
       "count  1599.000000  1599.000000  1599.000000  1599.000000  \n",
       "mean      3.311113     0.658149    10.422983     5.636023  \n",
       "std       0.154386     0.169507     1.065668     0.807569  \n",
       "min       2.740000     0.330000     8.400000     3.000000  \n",
       "25%       3.210000     0.550000     9.500000     5.000000  \n",
       "50%       3.310000     0.620000    10.200000     6.000000  \n",
       "75%       3.400000     0.730000    11.100000     6.000000  \n",
       "max       4.010000     2.000000    14.900000     8.000000  "
      ]
     },
     "execution_count": 8,
     "metadata": {},
     "output_type": "execute_result"
    }
   ],
   "source": [
    "df.describe()"
   ]
  },
  {
   "cell_type": "code",
   "execution_count": 20,
   "id": "f8015632",
   "metadata": {},
   "outputs": [
    {
     "data": {
      "text/html": [
       "<div>\n",
       "<style scoped>\n",
       "    .dataframe tbody tr th:only-of-type {\n",
       "        vertical-align: middle;\n",
       "    }\n",
       "\n",
       "    .dataframe tbody tr th {\n",
       "        vertical-align: top;\n",
       "    }\n",
       "\n",
       "    .dataframe thead th {\n",
       "        text-align: right;\n",
       "    }\n",
       "</style>\n",
       "<table border=\"1\" class=\"dataframe\">\n",
       "  <thead>\n",
       "    <tr style=\"text-align: right;\">\n",
       "      <th></th>\n",
       "      <th>quality</th>\n",
       "      <th>density</th>\n",
       "    </tr>\n",
       "  </thead>\n",
       "  <tbody>\n",
       "    <tr>\n",
       "      <th>0</th>\n",
       "      <td>5</td>\n",
       "      <td>0.99780</td>\n",
       "    </tr>\n",
       "    <tr>\n",
       "      <th>1</th>\n",
       "      <td>5</td>\n",
       "      <td>0.99680</td>\n",
       "    </tr>\n",
       "    <tr>\n",
       "      <th>2</th>\n",
       "      <td>5</td>\n",
       "      <td>0.99700</td>\n",
       "    </tr>\n",
       "    <tr>\n",
       "      <th>3</th>\n",
       "      <td>6</td>\n",
       "      <td>0.99800</td>\n",
       "    </tr>\n",
       "    <tr>\n",
       "      <th>4</th>\n",
       "      <td>5</td>\n",
       "      <td>0.99780</td>\n",
       "    </tr>\n",
       "    <tr>\n",
       "      <th>...</th>\n",
       "      <td>...</td>\n",
       "      <td>...</td>\n",
       "    </tr>\n",
       "    <tr>\n",
       "      <th>1594</th>\n",
       "      <td>5</td>\n",
       "      <td>0.99490</td>\n",
       "    </tr>\n",
       "    <tr>\n",
       "      <th>1595</th>\n",
       "      <td>6</td>\n",
       "      <td>0.99512</td>\n",
       "    </tr>\n",
       "    <tr>\n",
       "      <th>1596</th>\n",
       "      <td>6</td>\n",
       "      <td>0.99574</td>\n",
       "    </tr>\n",
       "    <tr>\n",
       "      <th>1597</th>\n",
       "      <td>5</td>\n",
       "      <td>0.99547</td>\n",
       "    </tr>\n",
       "    <tr>\n",
       "      <th>1598</th>\n",
       "      <td>6</td>\n",
       "      <td>0.99549</td>\n",
       "    </tr>\n",
       "  </tbody>\n",
       "</table>\n",
       "<p>1599 rows × 2 columns</p>\n",
       "</div>"
      ],
      "text/plain": [
       "      quality  density\n",
       "0           5  0.99780\n",
       "1           5  0.99680\n",
       "2           5  0.99700\n",
       "3           6  0.99800\n",
       "4           5  0.99780\n",
       "...       ...      ...\n",
       "1594        5  0.99490\n",
       "1595        6  0.99512\n",
       "1596        6  0.99574\n",
       "1597        5  0.99547\n",
       "1598        6  0.99549\n",
       "\n",
       "[1599 rows x 2 columns]"
      ]
     },
     "execution_count": 20,
     "metadata": {},
     "output_type": "execute_result"
    }
   ],
   "source": [
    "#Making dataframe of nominal data\n",
    "df_vis_nom=df[[\"quality\",\"density\"]].copy()\n",
    "df_vis_nom\n",
    "\n"
   ]
  },
  {
   "cell_type": "code",
   "execution_count": 21,
   "id": "524fd264",
   "metadata": {},
   "outputs": [
    {
     "name": "stdout",
     "output_type": "stream",
     "text": [
      "5    681\n",
      "6    638\n",
      "7    199\n",
      "4     53\n",
      "8     18\n",
      "3     10\n",
      "Name: quality, dtype: int64\n"
     ]
    },
    {
     "data": {
      "image/png": "[encoded data removed]",
      "text/plain": [
       "<Figure size 432x288 with 1 Axes>"
      ]
     },
     "metadata": {
      "needs_background": "light"
     },
     "output_type": "display_data"
    }
   ],
   "source": [
    "#checking ditribution of nominal columns\n",
    "import seaborn as sns\n",
    "ax=sns.countplot(x=\"quality\",data=df_vis_nom)\n",
    "print(df_vis_nom[\"quality\"].value_counts())"
   ]
  },
  {
   "cell_type": "code",
   "execution_count": 22,
   "id": "63665f92",
   "metadata": {},
   "outputs": [
    {
     "data": {
      "text/plain": [
       "<AxesSubplot:>"
      ]
     },
     "execution_count": 22,
     "metadata": {},
     "output_type": "execute_result"
    },
    {
     "data": {
      "image/png": "[encoded data removed]",
      "text/plain": [
       "<Figure size 1584x504 with 2 Axes>"
      ]
     },
     "metadata": {
      "needs_background": "light"
     },
     "output_type": "display_data"
    }
   ],
   "source": [
    "#Describing data in heatmap\n",
    "import matplotlib.pyplot as plt\n",
    "plt.figure(figsize=(22,7))\n",
    "sns.heatmap(df.describe(),annot=True,linewidths=0.1,linecolor=\"black\",fmt=\"0.2f\")"
   ]
  },
  {
   "cell_type": "code",
   "execution_count": 23,
   "id": "55fcdf66",
   "metadata": {},
   "outputs": [
    {
     "data": {
      "text/plain": [
       "<AxesSubplot:>"
      ]
     },
     "execution_count": 23,
     "metadata": {},
     "output_type": "execute_result"
    },
    {
     "data": {
      "image/png": "[encoded data removed]",
      "text/plain": [
       "<Figure size 432x288 with 2 Axes>"
      ]
     },
     "metadata": {
      "needs_background": "light"
     },
     "output_type": "display_data"
    }
   ],
   "source": [
    "#Correlation in heatmap\n",
    "sns.heatmap(df.corr(),annot=True,linewidths=0.1,linecolor=\"black\",fmt=\"0.1f\")"
   ]
  },
  {
   "cell_type": "code",
   "execution_count": 24,
   "id": "75956f80",
   "metadata": {},
   "outputs": [
    {
     "data": {
      "text/html": [
       "<div>\n",
       "<style scoped>\n",
       "    .dataframe tbody tr th:only-of-type {\n",
       "        vertical-align: middle;\n",
       "    }\n",
       "\n",
       "    .dataframe tbody tr th {\n",
       "        vertical-align: top;\n",
       "    }\n",
       "\n",
       "    .dataframe thead th {\n",
       "        text-align: right;\n",
       "    }\n",
       "</style>\n",
       "<table border=\"1\" class=\"dataframe\">\n",
       "  <thead>\n",
       "    <tr style=\"text-align: right;\">\n",
       "      <th></th>\n",
       "      <th>fixed acidity</th>\n",
       "      <th>volatile acidity</th>\n",
       "      <th>citric acid</th>\n",
       "      <th>residual sugar</th>\n",
       "      <th>chlorides</th>\n",
       "      <th>free sulfur dioxide</th>\n",
       "      <th>total sulfur dioxide</th>\n",
       "      <th>density</th>\n",
       "      <th>pH</th>\n",
       "      <th>sulphates</th>\n",
       "      <th>alcohol</th>\n",
       "      <th>quality</th>\n",
       "    </tr>\n",
       "  </thead>\n",
       "  <tbody>\n",
       "    <tr>\n",
       "      <th>fixed acidity</th>\n",
       "      <td>1.000000</td>\n",
       "      <td>-0.256131</td>\n",
       "      <td>0.671703</td>\n",
       "      <td>0.114777</td>\n",
       "      <td>0.093705</td>\n",
       "      <td>-0.153794</td>\n",
       "      <td>-0.113181</td>\n",
       "      <td>0.668047</td>\n",
       "      <td>-0.682978</td>\n",
       "      <td>0.183006</td>\n",
       "      <td>-0.061668</td>\n",
       "      <td>0.124052</td>\n",
       "    </tr>\n",
       "    <tr>\n",
       "      <th>volatile acidity</th>\n",
       "      <td>-0.256131</td>\n",
       "      <td>1.000000</td>\n",
       "      <td>-0.552496</td>\n",
       "      <td>0.001918</td>\n",
       "      <td>0.061298</td>\n",
       "      <td>-0.010504</td>\n",
       "      <td>0.076470</td>\n",
       "      <td>0.022026</td>\n",
       "      <td>0.234937</td>\n",
       "      <td>-0.260987</td>\n",
       "      <td>-0.202288</td>\n",
       "      <td>-0.390558</td>\n",
       "    </tr>\n",
       "    <tr>\n",
       "      <th>citric acid</th>\n",
       "      <td>0.671703</td>\n",
       "      <td>-0.552496</td>\n",
       "      <td>1.000000</td>\n",
       "      <td>0.143577</td>\n",
       "      <td>0.203823</td>\n",
       "      <td>-0.060978</td>\n",
       "      <td>0.035533</td>\n",
       "      <td>0.364947</td>\n",
       "      <td>-0.541904</td>\n",
       "      <td>0.312770</td>\n",
       "      <td>0.109903</td>\n",
       "      <td>0.226373</td>\n",
       "    </tr>\n",
       "    <tr>\n",
       "      <th>residual sugar</th>\n",
       "      <td>0.114777</td>\n",
       "      <td>0.001918</td>\n",
       "      <td>0.143577</td>\n",
       "      <td>1.000000</td>\n",
       "      <td>0.055610</td>\n",
       "      <td>0.187049</td>\n",
       "      <td>0.203028</td>\n",
       "      <td>0.355283</td>\n",
       "      <td>-0.085652</td>\n",
       "      <td>0.005527</td>\n",
       "      <td>0.042075</td>\n",
       "      <td>0.013732</td>\n",
       "    </tr>\n",
       "    <tr>\n",
       "      <th>chlorides</th>\n",
       "      <td>0.093705</td>\n",
       "      <td>0.061298</td>\n",
       "      <td>0.203823</td>\n",
       "      <td>0.055610</td>\n",
       "      <td>1.000000</td>\n",
       "      <td>0.005562</td>\n",
       "      <td>0.047400</td>\n",
       "      <td>0.200632</td>\n",
       "      <td>-0.265026</td>\n",
       "      <td>0.371260</td>\n",
       "      <td>-0.221141</td>\n",
       "      <td>-0.128907</td>\n",
       "    </tr>\n",
       "    <tr>\n",
       "      <th>free sulfur dioxide</th>\n",
       "      <td>-0.153794</td>\n",
       "      <td>-0.010504</td>\n",
       "      <td>-0.060978</td>\n",
       "      <td>0.187049</td>\n",
       "      <td>0.005562</td>\n",
       "      <td>1.000000</td>\n",
       "      <td>0.667666</td>\n",
       "      <td>-0.021946</td>\n",
       "      <td>0.070377</td>\n",
       "      <td>0.051658</td>\n",
       "      <td>-0.069408</td>\n",
       "      <td>-0.050656</td>\n",
       "    </tr>\n",
       "    <tr>\n",
       "      <th>total sulfur dioxide</th>\n",
       "      <td>-0.113181</td>\n",
       "      <td>0.076470</td>\n",
       "      <td>0.035533</td>\n",
       "      <td>0.203028</td>\n",
       "      <td>0.047400</td>\n",
       "      <td>0.667666</td>\n",
       "      <td>1.000000</td>\n",
       "      <td>0.071269</td>\n",
       "      <td>-0.066495</td>\n",
       "      <td>0.042947</td>\n",
       "      <td>-0.205654</td>\n",
       "      <td>-0.185100</td>\n",
       "    </tr>\n",
       "    <tr>\n",
       "      <th>density</th>\n",
       "      <td>0.668047</td>\n",
       "      <td>0.022026</td>\n",
       "      <td>0.364947</td>\n",
       "      <td>0.355283</td>\n",
       "      <td>0.200632</td>\n",
       "      <td>-0.021946</td>\n",
       "      <td>0.071269</td>\n",
       "      <td>1.000000</td>\n",
       "      <td>-0.341699</td>\n",
       "      <td>0.148506</td>\n",
       "      <td>-0.496180</td>\n",
       "      <td>-0.174919</td>\n",
       "    </tr>\n",
       "    <tr>\n",
       "      <th>pH</th>\n",
       "      <td>-0.682978</td>\n",
       "      <td>0.234937</td>\n",
       "      <td>-0.541904</td>\n",
       "      <td>-0.085652</td>\n",
       "      <td>-0.265026</td>\n",
       "      <td>0.070377</td>\n",
       "      <td>-0.066495</td>\n",
       "      <td>-0.341699</td>\n",
       "      <td>1.000000</td>\n",
       "      <td>-0.196648</td>\n",
       "      <td>0.205633</td>\n",
       "      <td>-0.057731</td>\n",
       "    </tr>\n",
       "    <tr>\n",
       "      <th>sulphates</th>\n",
       "      <td>0.183006</td>\n",
       "      <td>-0.260987</td>\n",
       "      <td>0.312770</td>\n",
       "      <td>0.005527</td>\n",
       "      <td>0.371260</td>\n",
       "      <td>0.051658</td>\n",
       "      <td>0.042947</td>\n",
       "      <td>0.148506</td>\n",
       "      <td>-0.196648</td>\n",
       "      <td>1.000000</td>\n",
       "      <td>0.093595</td>\n",
       "      <td>0.251397</td>\n",
       "    </tr>\n",
       "    <tr>\n",
       "      <th>alcohol</th>\n",
       "      <td>-0.061668</td>\n",
       "      <td>-0.202288</td>\n",
       "      <td>0.109903</td>\n",
       "      <td>0.042075</td>\n",
       "      <td>-0.221141</td>\n",
       "      <td>-0.069408</td>\n",
       "      <td>-0.205654</td>\n",
       "      <td>-0.496180</td>\n",
       "      <td>0.205633</td>\n",
       "      <td>0.093595</td>\n",
       "      <td>1.000000</td>\n",
       "      <td>0.476166</td>\n",
       "    </tr>\n",
       "    <tr>\n",
       "      <th>quality</th>\n",
       "      <td>0.124052</td>\n",
       "      <td>-0.390558</td>\n",
       "      <td>0.226373</td>\n",
       "      <td>0.013732</td>\n",
       "      <td>-0.128907</td>\n",
       "      <td>-0.050656</td>\n",
       "      <td>-0.185100</td>\n",
       "      <td>-0.174919</td>\n",
       "      <td>-0.057731</td>\n",
       "      <td>0.251397</td>\n",
       "      <td>0.476166</td>\n",
       "      <td>1.000000</td>\n",
       "    </tr>\n",
       "  </tbody>\n",
       "</table>\n",
       "</div>"
      ],
      "text/plain": [
       "                      fixed acidity  volatile acidity  citric acid  \\\n",
       "fixed acidity              1.000000         -0.256131     0.671703   \n",
       "volatile acidity          -0.256131          1.000000    -0.552496   \n",
       "citric acid                0.671703         -0.552496     1.000000   \n",
       "residual sugar             0.114777          0.001918     0.143577   \n",
       "chlorides                  0.093705          0.061298     0.203823   \n",
       "free sulfur dioxide       -0.153794         -0.010504    -0.060978   \n",
       "total sulfur dioxide      -0.113181          0.076470     0.035533   \n",
       "density                    0.668047          0.022026     0.364947   \n",
       "pH                        -0.682978          0.234937    -0.541904   \n",
       "sulphates                  0.183006         -0.260987     0.312770   \n",
       "alcohol                   -0.061668         -0.202288     0.109903   \n",
       "quality                    0.124052         -0.390558     0.226373   \n",
       "\n",
       "                      residual sugar  chlorides  free sulfur dioxide  \\\n",
       "fixed acidity               0.114777   0.093705            -0.153794   \n",
       "volatile acidity            0.001918   0.061298            -0.010504   \n",
       "citric acid                 0.143577   0.203823            -0.060978   \n",
       "residual sugar              1.000000   0.055610             0.187049   \n",
       "chlorides                   0.055610   1.000000             0.005562   \n",
       "free sulfur dioxide         0.187049   0.005562             1.000000   \n",
       "total sulfur dioxide        0.203028   0.047400             0.667666   \n",
       "density                     0.355283   0.200632            -0.021946   \n",
       "pH                         -0.085652  -0.265026             0.070377   \n",
       "sulphates                   0.005527   0.371260             0.051658   \n",
       "alcohol                     0.042075  -0.221141            -0.069408   \n",
       "quality                     0.013732  -0.128907            -0.050656   \n",
       "\n",
       "                      total sulfur dioxide   density        pH  sulphates  \\\n",
       "fixed acidity                    -0.113181  0.668047 -0.682978   0.183006   \n",
       "volatile acidity                  0.076470  0.022026  0.234937  -0.260987   \n",
       "citric acid                       0.035533  0.364947 -0.541904   0.312770   \n",
       "residual sugar                    0.203028  0.355283 -0.085652   0.005527   \n",
       "chlorides                         0.047400  0.200632 -0.265026   0.371260   \n",
       "free sulfur dioxide               0.667666 -0.021946  0.070377   0.051658   \n",
       "total sulfur dioxide              1.000000  0.071269 -0.066495   0.042947   \n",
       "density                           0.071269  1.000000 -0.341699   0.148506   \n",
       "pH                               -0.066495 -0.341699  1.000000  -0.196648   \n",
       "sulphates                         0.042947  0.148506 -0.196648   1.000000   \n",
       "alcohol                          -0.205654 -0.496180  0.205633   0.093595   \n",
       "quality                          -0.185100 -0.174919 -0.057731   0.251397   \n",
       "\n",
       "                       alcohol   quality  \n",
       "fixed acidity        -0.061668  0.124052  \n",
       "volatile acidity     -0.202288 -0.390558  \n",
       "citric acid           0.109903  0.226373  \n",
       "residual sugar        0.042075  0.013732  \n",
       "chlorides            -0.221141 -0.128907  \n",
       "free sulfur dioxide  -0.069408 -0.050656  \n",
       "total sulfur dioxide -0.205654 -0.185100  \n",
       "density              -0.496180 -0.174919  \n",
       "pH                    0.205633 -0.057731  \n",
       "sulphates             0.093595  0.251397  \n",
       "alcohol               1.000000  0.476166  \n",
       "quality               0.476166  1.000000  "
      ]
     },
     "execution_count": 24,
     "metadata": {},
     "output_type": "execute_result"
    }
   ],
   "source": [
    "df.corr()\n"
   ]
  },
  {
   "cell_type": "code",
   "execution_count": 25,
   "id": "d1cd85a9",
   "metadata": {},
   "outputs": [
    {
     "data": {
      "text/plain": [
       "quality                 1.000000\n",
       "alcohol                 0.476166\n",
       "sulphates               0.251397\n",
       "citric acid             0.226373\n",
       "fixed acidity           0.124052\n",
       "residual sugar          0.013732\n",
       "free sulfur dioxide    -0.050656\n",
       "pH                     -0.057731\n",
       "chlorides              -0.128907\n",
       "density                -0.174919\n",
       "total sulfur dioxide   -0.185100\n",
       "volatile acidity       -0.390558\n",
       "Name: quality, dtype: float64"
      ]
     },
     "execution_count": 25,
     "metadata": {},
     "output_type": "execute_result"
    }
   ],
   "source": [
    "corr_matrix=df.corr()\n",
    "corr_matrix[\"quality\"].sort_values(ascending=False)\n",
    "#from the below we can drop ph as it has similar correlation as free sulphur dioxide, can also drop resudual suger which is very less correlated\n"
   ]
  },
  {
   "cell_type": "code",
   "execution_count": 26,
   "id": "4b146da2",
   "metadata": {},
   "outputs": [
    {
     "data": {
      "text/html": [
       "<div>\n",
       "<style scoped>\n",
       "    .dataframe tbody tr th:only-of-type {\n",
       "        vertical-align: middle;\n",
       "    }\n",
       "\n",
       "    .dataframe tbody tr th {\n",
       "        vertical-align: top;\n",
       "    }\n",
       "\n",
       "    .dataframe thead th {\n",
       "        text-align: right;\n",
       "    }\n",
       "</style>\n",
       "<table border=\"1\" class=\"dataframe\">\n",
       "  <thead>\n",
       "    <tr style=\"text-align: right;\">\n",
       "      <th></th>\n",
       "      <th>fixed acidity</th>\n",
       "      <th>volatile acidity</th>\n",
       "      <th>citric acid</th>\n",
       "      <th>chlorides</th>\n",
       "      <th>free sulfur dioxide</th>\n",
       "      <th>total sulfur dioxide</th>\n",
       "      <th>density</th>\n",
       "      <th>pH</th>\n",
       "      <th>sulphates</th>\n",
       "      <th>alcohol</th>\n",
       "      <th>quality</th>\n",
       "    </tr>\n",
       "  </thead>\n",
       "  <tbody>\n",
       "    <tr>\n",
       "      <th>0</th>\n",
       "      <td>7.4</td>\n",
       "      <td>0.700</td>\n",
       "      <td>0.00</td>\n",
       "      <td>0.076</td>\n",
       "      <td>11.0</td>\n",
       "      <td>34.0</td>\n",
       "      <td>0.99780</td>\n",
       "      <td>3.51</td>\n",
       "      <td>0.56</td>\n",
       "      <td>9.4</td>\n",
       "      <td>5</td>\n",
       "    </tr>\n",
       "    <tr>\n",
       "      <th>1</th>\n",
       "      <td>7.8</td>\n",
       "      <td>0.880</td>\n",
       "      <td>0.00</td>\n",
       "      <td>0.098</td>\n",
       "      <td>25.0</td>\n",
       "      <td>67.0</td>\n",
       "      <td>0.99680</td>\n",
       "      <td>3.20</td>\n",
       "      <td>0.68</td>\n",
       "      <td>9.8</td>\n",
       "      <td>5</td>\n",
       "    </tr>\n",
       "    <tr>\n",
       "      <th>2</th>\n",
       "      <td>7.8</td>\n",
       "      <td>0.760</td>\n",
       "      <td>0.04</td>\n",
       "      <td>0.092</td>\n",
       "      <td>15.0</td>\n",
       "      <td>54.0</td>\n",
       "      <td>0.99700</td>\n",
       "      <td>3.26</td>\n",
       "      <td>0.65</td>\n",
       "      <td>9.8</td>\n",
       "      <td>5</td>\n",
       "    </tr>\n",
       "    <tr>\n",
       "      <th>3</th>\n",
       "      <td>11.2</td>\n",
       "      <td>0.280</td>\n",
       "      <td>0.56</td>\n",
       "      <td>0.075</td>\n",
       "      <td>17.0</td>\n",
       "      <td>60.0</td>\n",
       "      <td>0.99800</td>\n",
       "      <td>3.16</td>\n",
       "      <td>0.58</td>\n",
       "      <td>9.8</td>\n",
       "      <td>6</td>\n",
       "    </tr>\n",
       "    <tr>\n",
       "      <th>4</th>\n",
       "      <td>7.4</td>\n",
       "      <td>0.700</td>\n",
       "      <td>0.00</td>\n",
       "      <td>0.076</td>\n",
       "      <td>11.0</td>\n",
       "      <td>34.0</td>\n",
       "      <td>0.99780</td>\n",
       "      <td>3.51</td>\n",
       "      <td>0.56</td>\n",
       "      <td>9.4</td>\n",
       "      <td>5</td>\n",
       "    </tr>\n",
       "    <tr>\n",
       "      <th>...</th>\n",
       "      <td>...</td>\n",
       "      <td>...</td>\n",
       "      <td>...</td>\n",
       "      <td>...</td>\n",
       "      <td>...</td>\n",
       "      <td>...</td>\n",
       "      <td>...</td>\n",
       "      <td>...</td>\n",
       "      <td>...</td>\n",
       "      <td>...</td>\n",
       "      <td>...</td>\n",
       "    </tr>\n",
       "    <tr>\n",
       "      <th>1594</th>\n",
       "      <td>6.2</td>\n",
       "      <td>0.600</td>\n",
       "      <td>0.08</td>\n",
       "      <td>0.090</td>\n",
       "      <td>32.0</td>\n",
       "      <td>44.0</td>\n",
       "      <td>0.99490</td>\n",
       "      <td>3.45</td>\n",
       "      <td>0.58</td>\n",
       "      <td>10.5</td>\n",
       "      <td>5</td>\n",
       "    </tr>\n",
       "    <tr>\n",
       "      <th>1595</th>\n",
       "      <td>5.9</td>\n",
       "      <td>0.550</td>\n",
       "      <td>0.10</td>\n",
       "      <td>0.062</td>\n",
       "      <td>39.0</td>\n",
       "      <td>51.0</td>\n",
       "      <td>0.99512</td>\n",
       "      <td>3.52</td>\n",
       "      <td>0.76</td>\n",
       "      <td>11.2</td>\n",
       "      <td>6</td>\n",
       "    </tr>\n",
       "    <tr>\n",
       "      <th>1596</th>\n",
       "      <td>6.3</td>\n",
       "      <td>0.510</td>\n",
       "      <td>0.13</td>\n",
       "      <td>0.076</td>\n",
       "      <td>29.0</td>\n",
       "      <td>40.0</td>\n",
       "      <td>0.99574</td>\n",
       "      <td>3.42</td>\n",
       "      <td>0.75</td>\n",
       "      <td>11.0</td>\n",
       "      <td>6</td>\n",
       "    </tr>\n",
       "    <tr>\n",
       "      <th>1597</th>\n",
       "      <td>5.9</td>\n",
       "      <td>0.645</td>\n",
       "      <td>0.12</td>\n",
       "      <td>0.075</td>\n",
       "      <td>32.0</td>\n",
       "      <td>44.0</td>\n",
       "      <td>0.99547</td>\n",
       "      <td>3.57</td>\n",
       "      <td>0.71</td>\n",
       "      <td>10.2</td>\n",
       "      <td>5</td>\n",
       "    </tr>\n",
       "    <tr>\n",
       "      <th>1598</th>\n",
       "      <td>6.0</td>\n",
       "      <td>0.310</td>\n",
       "      <td>0.47</td>\n",
       "      <td>0.067</td>\n",
       "      <td>18.0</td>\n",
       "      <td>42.0</td>\n",
       "      <td>0.99549</td>\n",
       "      <td>3.39</td>\n",
       "      <td>0.66</td>\n",
       "      <td>11.0</td>\n",
       "      <td>6</td>\n",
       "    </tr>\n",
       "  </tbody>\n",
       "</table>\n",
       "<p>1599 rows × 11 columns</p>\n",
       "</div>"
      ],
      "text/plain": [
       "      fixed acidity  volatile acidity  citric acid  chlorides  \\\n",
       "0               7.4             0.700         0.00      0.076   \n",
       "1               7.8             0.880         0.00      0.098   \n",
       "2               7.8             0.760         0.04      0.092   \n",
       "3              11.2             0.280         0.56      0.075   \n",
       "4               7.4             0.700         0.00      0.076   \n",
       "...             ...               ...          ...        ...   \n",
       "1594            6.2             0.600         0.08      0.090   \n",
       "1595            5.9             0.550         0.10      0.062   \n",
       "1596            6.3             0.510         0.13      0.076   \n",
       "1597            5.9             0.645         0.12      0.075   \n",
       "1598            6.0             0.310         0.47      0.067   \n",
       "\n",
       "      free sulfur dioxide  total sulfur dioxide  density    pH  sulphates  \\\n",
       "0                    11.0                  34.0  0.99780  3.51       0.56   \n",
       "1                    25.0                  67.0  0.99680  3.20       0.68   \n",
       "2                    15.0                  54.0  0.99700  3.26       0.65   \n",
       "3                    17.0                  60.0  0.99800  3.16       0.58   \n",
       "4                    11.0                  34.0  0.99780  3.51       0.56   \n",
       "...                   ...                   ...      ...   ...        ...   \n",
       "1594                 32.0                  44.0  0.99490  3.45       0.58   \n",
       "1595                 39.0                  51.0  0.99512  3.52       0.76   \n",
       "1596                 29.0                  40.0  0.99574  3.42       0.75   \n",
       "1597                 32.0                  44.0  0.99547  3.57       0.71   \n",
       "1598                 18.0                  42.0  0.99549  3.39       0.66   \n",
       "\n",
       "      alcohol  quality  \n",
       "0         9.4        5  \n",
       "1         9.8        5  \n",
       "2         9.8        5  \n",
       "3         9.8        6  \n",
       "4         9.4        5  \n",
       "...       ...      ...  \n",
       "1594     10.5        5  \n",
       "1595     11.2        6  \n",
       "1596     11.0        6  \n",
       "1597     10.2        5  \n",
       "1598     11.0        6  \n",
       "\n",
       "[1599 rows x 11 columns]"
      ]
     },
     "execution_count": 26,
     "metadata": {},
     "output_type": "execute_result"
    }
   ],
   "source": [
    "#Sex is very low correlated with Salary , will drop\n",
    "df1=df.drop(\"residual sugar\",axis=1)\n",
    "df1"
   ]
  },
  {
   "cell_type": "code",
   "execution_count": 28,
   "id": "9a77dbba",
   "metadata": {},
   "outputs": [
    {
     "data": {
      "image/png": "[encoded data removed]",
      "text/plain": [
       "<Figure size 2160x6480 with 11 Axes>"
      ]
     },
     "metadata": {
      "needs_background": "light"
     },
     "output_type": "display_data"
    }
   ],
   "source": [
    "import warnings\n",
    "warnings.filterwarnings('ignore')\n",
    "collist=df1.columns.values\n",
    "ncol=30\n",
    "nrows=14\n",
    "plt.figure(figsize=(ncol,3*ncol))\n",
    "for i in range(0,len(collist)):\n",
    "    plt.subplot(nrows,ncol,i+1)\n",
    "    sns.boxplot(df1[collist[i]],color='blue',orient='v')\n",
    "    plt.tight_layout()"
   ]
  },
  {
   "cell_type": "code",
   "execution_count": 29,
   "id": "4b1656cc",
   "metadata": {},
   "outputs": [],
   "source": [
    "# We have seen data has outliers so need to remove\n",
    "from scipy.stats import zscore\n",
    "import numpy as np"
   ]
  },
  {
   "cell_type": "code",
   "execution_count": 30,
   "id": "f912f42d",
   "metadata": {},
   "outputs": [],
   "source": [
    "z=np.abs(zscore(df1))"
   ]
  },
  {
   "cell_type": "code",
   "execution_count": 31,
   "id": "29211e68",
   "metadata": {},
   "outputs": [
    {
     "data": {
      "text/plain": [
       "(1599, 11)"
      ]
     },
     "execution_count": 31,
     "metadata": {},
     "output_type": "execute_result"
    }
   ],
   "source": [
    "z.shape"
   ]
  },
  {
   "cell_type": "code",
   "execution_count": 32,
   "id": "26179acd",
   "metadata": {},
   "outputs": [
    {
     "name": "stdout",
     "output_type": "stream",
     "text": [
      "(array([  13,   14,   15,   15,   17,   17,   19,   38,   42,   43,   45,\n",
      "         57,   81,   81,   83,   86,   88,   91,   92,   95,  106,  106,\n",
      "        109,  120,  126,  127,  142,  144,  147,  151,  151,  151,  151,\n",
      "        169,  169,  181,  199,  226,  226,  240,  243,  244,  258,  258,\n",
      "        281,  291,  339,  340,  347,  354,  374,  381,  391,  396,  400,\n",
      "        442,  442,  451,  459,  467,  480,  515,  517,  544,  554,  554,\n",
      "        555,  555,  557,  557,  568,  584,  588,  591,  608,  614,  636,\n",
      "        639,  649,  651,  652,  652,  672,  672,  684,  690,  690,  692,\n",
      "        692,  695,  723,  724,  730,  754,  776,  777,  795,  821,  832,\n",
      "        836,  837,  889,  899,  925,  926,  982, 1017, 1018, 1051, 1051,\n",
      "       1079, 1081, 1111, 1114, 1131, 1154, 1165, 1175, 1231, 1244, 1244,\n",
      "       1260, 1269, 1269, 1270, 1270, 1288, 1289, 1295, 1296, 1299, 1299,\n",
      "       1300, 1312, 1316, 1319, 1319, 1321, 1358, 1367, 1370, 1370, 1372,\n",
      "       1372, 1374, 1374, 1434, 1434, 1435, 1435, 1469, 1474, 1474, 1476,\n",
      "       1476, 1478, 1493, 1496, 1505, 1558, 1558, 1570], dtype=int64), array([ 8,  4,  4,  5,  3,  8,  3,  1,  3,  8,  7,  4,  3,  8,  3,  8,  8,\n",
      "        8,  8,  7,  3,  8,  5,  1,  1,  1,  9,  9,  3,  2,  3,  7,  8,  3,\n",
      "        8,  3,  1,  3,  8,  3,  0,  0,  3,  8,  3,  3,  8,  8,  0,  5,  0,\n",
      "        0,  0,  4,  4,  0,  6,  3, 10,  9,  6,  5, 10,  0,  0,  6,  0,  6,\n",
      "        0,  6,  3,  4,  9,  5,  6,  8,  5,  8,  5,  5,  0,  9,  1,  5,  5,\n",
      "        1, 10,  3,  8,  7,  8,  1,  3,  3,  3,  3,  8,  9, 10,  6,  6,  6,\n",
      "       10,  4,  4,  4,  6,  6,  3,  8,  5,  5,  7,  6,  4,  4,  3,  4,  4,\n",
      "        4,  5,  3,  6,  9,  6,  9,  8,  8,  4,  4,  1, 10,  7,  1,  7,  3,\n",
      "        8,  7,  4,  8,  3,  8,  3,  8,  3, 10,  4,  6,  4,  6, 10,  4,  6,\n",
      "        4,  6, 10,  5,  5, 10,  3,  4,  3], dtype=int64))\n"
     ]
    }
   ],
   "source": [
    "threshold=3\n",
    "print(np.where(z>3))"
   ]
  },
  {
   "cell_type": "code",
   "execution_count": 33,
   "id": "12bb2e4e",
   "metadata": {},
   "outputs": [
    {
     "data": {
      "text/plain": [
       "162"
      ]
     },
     "execution_count": 33,
     "metadata": {},
     "output_type": "execute_result"
    }
   ],
   "source": [
    "len(np.where(z>3)[0])"
   ]
  },
  {
   "cell_type": "code",
   "execution_count": 34,
   "id": "6dc0521b",
   "metadata": {},
   "outputs": [],
   "source": [
    "df_new=df1[(z<3).all(axis=1)]"
   ]
  },
  {
   "cell_type": "code",
   "execution_count": 35,
   "id": "cc8e07e4",
   "metadata": {},
   "outputs": [
    {
     "name": "stdout",
     "output_type": "stream",
     "text": [
      "old dataframe (1599, 11)\n",
      "new dataframe (1469, 11)\n",
      "total dropped 130\n"
     ]
    }
   ],
   "source": [
    "print(\"old dataframe\",df1.shape)\n",
    "print(\"new dataframe\",df_new.shape)\n",
    "print(\"total dropped\",df1.shape[0]-df_new.shape[0])"
   ]
  },
  {
   "cell_type": "code",
   "execution_count": 36,
   "id": "1d9d3b33",
   "metadata": {},
   "outputs": [
    {
     "name": "stdout",
     "output_type": "stream",
     "text": [
      "8.130081300813007 %\n"
     ]
    }
   ],
   "source": [
    "loss_percent=(1599-1469)/1599*100\n",
    "print(loss_percent,\"%\")"
   ]
  },
  {
   "cell_type": "code",
   "execution_count": 37,
   "id": "b6094ab6",
   "metadata": {},
   "outputs": [
    {
     "data": {
      "text/plain": [
       "fixed acidity           0.825197\n",
       "volatile acidity        0.377547\n",
       "citric acid             0.299070\n",
       "chlorides               2.271494\n",
       "free sulfur dioxide     0.850141\n",
       "total sulfur dioxide    1.156632\n",
       "density                 0.062194\n",
       "pH                      0.113857\n",
       "sulphates               0.895967\n",
       "alcohol                 0.759104\n",
       "quality                 0.405824\n",
       "dtype: float64"
      ]
     },
     "execution_count": 37,
     "metadata": {},
     "output_type": "execute_result"
    }
   ],
   "source": [
    "df_new.skew()"
   ]
  },
  {
   "cell_type": "code",
   "execution_count": 38,
   "id": "48906105",
   "metadata": {},
   "outputs": [],
   "source": [
    "# We will break data into input and output and then remove skewness\n",
    "inpt=df_new.drop(\"quality\",axis=1)\n",
    "target=df_new[\"quality\"]"
   ]
  },
  {
   "cell_type": "code",
   "execution_count": 39,
   "id": "f3b0e9b7",
   "metadata": {},
   "outputs": [],
   "source": [
    "#Transform data to remove skewness\n",
    "from sklearn.preprocessing import power_transform"
   ]
  },
  {
   "cell_type": "code",
   "execution_count": 40,
   "id": "3e0f6828",
   "metadata": {},
   "outputs": [
    {
     "data": {
      "text/plain": [
       "0    0.019063\n",
       "1    0.005027\n",
       "2    0.018394\n",
       "3   -0.114265\n",
       "4   -0.022989\n",
       "5   -0.007026\n",
       "6   -0.001202\n",
       "7   -0.000076\n",
       "8    0.021297\n",
       "9    0.116233\n",
       "dtype: float64"
      ]
     },
     "execution_count": 40,
     "metadata": {},
     "output_type": "execute_result"
    }
   ],
   "source": [
    "inpt=power_transform(inpt,method='yeo-johnson')\n",
    "pd.DataFrame(inpt).skew()"
   ]
  },
  {
   "cell_type": "code",
   "execution_count": 41,
   "id": "76af6eee",
   "metadata": {},
   "outputs": [
    {
     "data": {
      "text/plain": [
       "array([[-0.4615869 ,  1.05526283, -1.53115891, ...,  1.36442168,\n",
       "        -0.5855244 , -1.11326023],\n",
       "       [-0.16459744,  1.91997721, -1.53115891, ..., -0.81912254,\n",
       "         0.45751779, -0.52365175],\n",
       "       [-0.16459744,  1.35680671, -1.25070086, ..., -0.38244687,\n",
       "         0.22579273, -0.52365175],\n",
       "       ...,\n",
       "       [-1.44488136, -0.0038625 , -0.66906099, ...,  0.74855959,\n",
       "         0.9364246 ,  0.7470025 ],\n",
       "       [-1.87961073,  0.76586264, -0.73059437, ...,  1.76726161,\n",
       "         0.67272194, -0.02820267],\n",
       "       [-1.76630193, -1.33433916,  1.07239185, ...,  0.54008828,\n",
       "         0.30496543,  0.7470025 ]])"
      ]
     },
     "execution_count": 41,
     "metadata": {},
     "output_type": "execute_result"
    }
   ],
   "source": [
    "from sklearn.preprocessing import StandardScaler\n",
    "sc=StandardScaler()\n",
    "inpt=sc.fit_transform(inpt)\n",
    "inpt"
   ]
  },
  {
   "cell_type": "code",
   "execution_count": 42,
   "id": "89ff4535",
   "metadata": {},
   "outputs": [],
   "source": [
    "from sklearn.linear_model import LinearRegression\n",
    "lr=LinearRegression()\n",
    "from sklearn.metrics import r2_score,accuracy_score,classification_report,confusion_matrix\n",
    "from sklearn.model_selection import train_test_split\n",
    "import warnings\n",
    "warnings.filterwarnings('ignore')"
   ]
  },
  {
   "cell_type": "code",
   "execution_count": 43,
   "id": "07ae0556",
   "metadata": {},
   "outputs": [
    {
     "name": "stdout",
     "output_type": "stream",
     "text": [
      "at random state0,the training accuracy is:- 0.3777050377277146\n",
      "at random state0,the testing accuracy is:- 0.3532883784471893\n",
      "\n",
      "\n",
      "at random state1,the training accuracy is:- 0.37829968644475975\n",
      "at random state1,the testing accuracy is:- 0.3531864761436646\n",
      "\n",
      "\n",
      "at random state2,the training accuracy is:- 0.3623561490676327\n",
      "at random state2,the testing accuracy is:- 0.4203271441582389\n",
      "\n",
      "\n",
      "at random state3,the training accuracy is:- 0.37163536797176644\n",
      "at random state3,the testing accuracy is:- 0.3713183386490748\n",
      "\n",
      "\n",
      "at random state4,the training accuracy is:- 0.37940121303568664\n",
      "at random state4,the testing accuracy is:- 0.3508746875958809\n",
      "\n",
      "\n",
      "at random state5,the training accuracy is:- 0.38227207826361953\n",
      "at random state5,the testing accuracy is:- 0.3371437682951358\n",
      "\n",
      "\n",
      "at random state6,the training accuracy is:- 0.37606414330469573\n",
      "at random state6,the testing accuracy is:- 0.36345899294565753\n",
      "\n",
      "\n",
      "at random state7,the training accuracy is:- 0.3774386467208113\n",
      "at random state7,the testing accuracy is:- 0.3510148493461468\n",
      "\n",
      "\n",
      "at random state8,the training accuracy is:- 0.36399470406766155\n",
      "at random state8,the testing accuracy is:- 0.39978274702514904\n",
      "\n",
      "\n",
      "at random state9,the training accuracy is:- 0.3790426835820011\n",
      "at random state9,the testing accuracy is:- 0.33735969698970303\n",
      "\n",
      "\n",
      "at random state10,the training accuracy is:- 0.36766400002356014\n",
      "at random state10,the testing accuracy is:- 0.3909383702335677\n",
      "\n",
      "\n",
      "at random state11,the training accuracy is:- 0.3770222986217783\n",
      "at random state11,the testing accuracy is:- 0.3588786030188693\n",
      "\n",
      "\n",
      "at random state12,the training accuracy is:- 0.3634765818739141\n",
      "at random state12,the testing accuracy is:- 0.37970801201445437\n",
      "\n",
      "\n",
      "at random state13,the training accuracy is:- 0.38332409138028833\n",
      "at random state13,the testing accuracy is:- 0.33422557493742466\n",
      "\n",
      "\n",
      "at random state14,the training accuracy is:- 0.373621286823122\n",
      "at random state14,the testing accuracy is:- 0.36662359847367343\n",
      "\n",
      "\n",
      "at random state15,the training accuracy is:- 0.39179601977955403\n",
      "at random state15,the testing accuracy is:- 0.29302235675941335\n",
      "\n",
      "\n",
      "at random state16,the training accuracy is:- 0.3537829434191939\n",
      "at random state16,the testing accuracy is:- 0.4488683014691407\n",
      "\n",
      "\n",
      "at random state17,the training accuracy is:- 0.3788698459441828\n",
      "at random state17,the testing accuracy is:- 0.349727238708767\n",
      "\n",
      "\n",
      "at random state18,the training accuracy is:- 0.3603555398332954\n",
      "at random state18,the testing accuracy is:- 0.4230028444923596\n",
      "\n",
      "\n",
      "at random state19,the training accuracy is:- 0.39826558264216794\n",
      "at random state19,the testing accuracy is:- 0.2748616425103707\n",
      "\n",
      "\n",
      "at random state20,the training accuracy is:- 0.3812554820727154\n",
      "at random state20,the testing accuracy is:- 0.3351924862571043\n",
      "\n",
      "\n",
      "at random state21,the training accuracy is:- 0.3687332733380687\n",
      "at random state21,the testing accuracy is:- 0.38949782678039746\n",
      "\n",
      "\n",
      "at random state22,the training accuracy is:- 0.3917371433459934\n",
      "at random state22,the testing accuracy is:- 0.29568682450440864\n",
      "\n",
      "\n",
      "at random state23,the training accuracy is:- 0.3748959694311981\n",
      "at random state23,the testing accuracy is:- 0.3634688982967593\n",
      "\n",
      "\n",
      "at random state24,the training accuracy is:- 0.3822609857457482\n",
      "at random state24,the testing accuracy is:- 0.3290641022122025\n",
      "\n",
      "\n",
      "at random state25,the training accuracy is:- 0.37579270476308946\n",
      "at random state25,the testing accuracy is:- 0.36648022807596536\n",
      "\n",
      "\n",
      "at random state26,the training accuracy is:- 0.3896557469252382\n",
      "at random state26,the testing accuracy is:- 0.3090614736539975\n",
      "\n",
      "\n",
      "at random state27,the training accuracy is:- 0.3996555730799768\n",
      "at random state27,the testing accuracy is:- 0.2222725668722253\n",
      "\n",
      "\n",
      "at random state28,the training accuracy is:- 0.36870626457702216\n",
      "at random state28,the testing accuracy is:- 0.3941749626040326\n",
      "\n",
      "\n",
      "at random state29,the training accuracy is:- 0.3791507880065026\n",
      "at random state29,the testing accuracy is:- 0.345275382739209\n",
      "\n",
      "\n",
      "at random state30,the training accuracy is:- 0.38672639526881947\n",
      "at random state30,the testing accuracy is:- 0.3092122785093866\n",
      "\n",
      "\n",
      "at random state31,the training accuracy is:- 0.3852677676287444\n",
      "at random state31,the testing accuracy is:- 0.32713461040070824\n",
      "\n",
      "\n",
      "at random state32,the training accuracy is:- 0.37915612040552527\n",
      "at random state32,the testing accuracy is:- 0.34593742918793413\n",
      "\n",
      "\n",
      "at random state33,the training accuracy is:- 0.3787931011189991\n",
      "at random state33,the testing accuracy is:- 0.3405449577672788\n",
      "\n",
      "\n",
      "at random state34,the training accuracy is:- 0.3945697512404931\n",
      "at random state34,the testing accuracy is:- 0.269268210655478\n",
      "\n",
      "\n",
      "at random state35,the training accuracy is:- 0.37747525689717465\n",
      "at random state35,the testing accuracy is:- 0.35890596272879893\n",
      "\n",
      "\n",
      "at random state36,the training accuracy is:- 0.3604639989231613\n",
      "at random state36,the testing accuracy is:- 0.40885740525346126\n",
      "\n",
      "\n",
      "at random state37,the training accuracy is:- 0.365610594511095\n",
      "at random state37,the testing accuracy is:- 0.3982412867158037\n",
      "\n",
      "\n",
      "at random state38,the training accuracy is:- 0.3769813356033316\n",
      "at random state38,the testing accuracy is:- 0.3587923356094914\n",
      "\n",
      "\n",
      "at random state39,the training accuracy is:- 0.3863874985697582\n",
      "at random state39,the testing accuracy is:- 0.32052199113369395\n",
      "\n",
      "\n",
      "at random state40,the training accuracy is:- 0.38595276799907385\n",
      "at random state40,the testing accuracy is:- 0.3172121837674192\n",
      "\n",
      "\n",
      "at random state41,the training accuracy is:- 0.37892673846001357\n",
      "at random state41,the testing accuracy is:- 0.34386267682489957\n",
      "\n",
      "\n",
      "at random state42,the training accuracy is:- 0.37066466524582\n",
      "at random state42,the testing accuracy is:- 0.3767189353827869\n",
      "\n",
      "\n",
      "at random state43,the training accuracy is:- 0.3734790743995272\n",
      "at random state43,the testing accuracy is:- 0.3737893153687242\n",
      "\n",
      "\n",
      "at random state44,the training accuracy is:- 0.3787777726918816\n",
      "at random state44,the testing accuracy is:- 0.3502755575515124\n",
      "\n",
      "\n",
      "at random state45,the training accuracy is:- 0.3895047039944629\n",
      "at random state45,the testing accuracy is:- 0.2889146706812308\n",
      "\n",
      "\n",
      "at random state46,the training accuracy is:- 0.38388201031685376\n",
      "at random state46,the testing accuracy is:- 0.3266906553279285\n",
      "\n",
      "\n",
      "at random state47,the training accuracy is:- 0.37006741396249365\n",
      "at random state47,the testing accuracy is:- 0.38736785194559054\n",
      "\n",
      "\n",
      "at random state48,the training accuracy is:- 0.36252626175350766\n",
      "at random state48,the testing accuracy is:- 0.4098810148019212\n",
      "\n",
      "\n",
      "at random state49,the training accuracy is:- 0.3774429439578637\n",
      "at random state49,the testing accuracy is:- 0.3555270249094581\n",
      "\n",
      "\n",
      "at random state50,the training accuracy is:- 0.3801849751667693\n",
      "at random state50,the testing accuracy is:- 0.3438451571565502\n",
      "\n",
      "\n",
      "at random state51,the training accuracy is:- 0.3829020842028674\n",
      "at random state51,the testing accuracy is:- 0.33289070601198745\n",
      "\n",
      "\n",
      "at random state52,the training accuracy is:- 0.4041856672019386\n",
      "at random state52,the testing accuracy is:- 0.21046151422799042\n",
      "\n",
      "\n",
      "at random state53,the training accuracy is:- 0.37127305913940933\n",
      "at random state53,the testing accuracy is:- 0.3815120994927269\n",
      "\n",
      "\n",
      "at random state54,the training accuracy is:- 0.37559045605461705\n",
      "at random state54,the testing accuracy is:- 0.359321243587681\n",
      "\n",
      "\n",
      "at random state55,the training accuracy is:- 0.37062548075213664\n",
      "at random state55,the testing accuracy is:- 0.3785614873344384\n",
      "\n",
      "\n",
      "at random state56,the training accuracy is:- 0.37320889504200827\n",
      "at random state56,the testing accuracy is:- 0.37404733763438336\n",
      "\n",
      "\n",
      "at random state57,the training accuracy is:- 0.3667477351959566\n",
      "at random state57,the testing accuracy is:- 0.40510197058249575\n",
      "\n",
      "\n",
      "at random state58,the training accuracy is:- 0.38300318281891477\n",
      "at random state58,the testing accuracy is:- 0.3331374778321322\n",
      "\n",
      "\n",
      "at random state59,the training accuracy is:- 0.36502545663153985\n",
      "at random state59,the testing accuracy is:- 0.39920058754857024\n",
      "\n",
      "\n",
      "at random state60,the training accuracy is:- 0.3770865323774961\n",
      "at random state60,the testing accuracy is:- 0.3487699973556012\n",
      "\n",
      "\n",
      "at random state61,the training accuracy is:- 0.3876603387405374\n",
      "at random state61,the testing accuracy is:- 0.31374833830021254\n",
      "\n",
      "\n",
      "at random state62,the training accuracy is:- 0.3725163409756571\n",
      "at random state62,the testing accuracy is:- 0.3786871811294228\n",
      "\n",
      "\n",
      "at random state63,the training accuracy is:- 0.3927127416166487\n",
      "at random state63,the testing accuracy is:- 0.2808351887713074\n",
      "\n",
      "\n",
      "at random state64,the training accuracy is:- 0.36258325235895505\n",
      "at random state64,the testing accuracy is:- 0.40663000672390326\n",
      "\n",
      "\n",
      "at random state65,the training accuracy is:- 0.37167079787304624\n",
      "at random state65,the testing accuracy is:- 0.3724495950423917\n",
      "\n",
      "\n",
      "at random state66,the training accuracy is:- 0.3608910150855117\n",
      "at random state66,the testing accuracy is:- 0.4185670211969049\n",
      "\n",
      "\n",
      "at random state67,the training accuracy is:- 0.3862143350918994\n",
      "at random state67,the testing accuracy is:- 0.31553974593298517\n",
      "\n",
      "\n",
      "at random state68,the training accuracy is:- 0.38552559050343926\n",
      "at random state68,the testing accuracy is:- 0.3242845135660505\n",
      "\n",
      "\n",
      "at random state69,the training accuracy is:- 0.3799512271109826\n",
      "at random state69,the testing accuracy is:- 0.34739789343909233\n",
      "\n",
      "\n",
      "at random state70,the training accuracy is:- 0.37034127841077846\n",
      "at random state70,the testing accuracy is:- 0.3844310024955956\n",
      "\n",
      "\n",
      "at random state71,the training accuracy is:- 0.3964227378047904\n"
     ]
    },
    {
     "name": "stdout",
     "output_type": "stream",
     "text": [
      "at random state71,the testing accuracy is:- 0.2690404259510216\n",
      "\n",
      "\n",
      "at random state72,the training accuracy is:- 0.3620218979994535\n",
      "at random state72,the testing accuracy is:- 0.41374070689486886\n",
      "\n",
      "\n",
      "at random state73,the training accuracy is:- 0.3758287935365976\n",
      "at random state73,the testing accuracy is:- 0.3646566767516668\n",
      "\n",
      "\n",
      "at random state74,the training accuracy is:- 0.3686536997493167\n",
      "at random state74,the testing accuracy is:- 0.3906999422192382\n",
      "\n",
      "\n",
      "at random state75,the training accuracy is:- 0.38258287535243685\n",
      "at random state75,the testing accuracy is:- 0.3286902001841844\n",
      "\n",
      "\n",
      "at random state76,the training accuracy is:- 0.3631704237061566\n",
      "at random state76,the testing accuracy is:- 0.4091664280680378\n",
      "\n",
      "\n",
      "at random state77,the training accuracy is:- 0.36794112415091984\n",
      "at random state77,the testing accuracy is:- 0.3924457209886424\n",
      "\n",
      "\n",
      "at random state78,the training accuracy is:- 0.37207561047694826\n",
      "at random state78,the testing accuracy is:- 0.37619607603715877\n",
      "\n",
      "\n",
      "at random state79,the training accuracy is:- 0.3759743549552308\n",
      "at random state79,the testing accuracy is:- 0.35754561049484224\n",
      "\n",
      "\n",
      "at random state80,the training accuracy is:- 0.3831734157545803\n",
      "at random state80,the testing accuracy is:- 0.3343214484526744\n",
      "\n",
      "\n",
      "at random state81,the training accuracy is:- 0.3729974926270928\n",
      "at random state81,the testing accuracy is:- 0.37526473728647947\n",
      "\n",
      "\n",
      "at random state82,the training accuracy is:- 0.38384712197458204\n",
      "at random state82,the testing accuracy is:- 0.3260635692298077\n",
      "\n",
      "\n",
      "at random state83,the training accuracy is:- 0.3674194704893201\n",
      "at random state83,the testing accuracy is:- 0.3878102223377867\n",
      "\n",
      "\n",
      "at random state84,the training accuracy is:- 0.37827897187357873\n",
      "at random state84,the testing accuracy is:- 0.3506022686649619\n",
      "\n",
      "\n",
      "at random state85,the training accuracy is:- 0.3745214161552929\n",
      "at random state85,the testing accuracy is:- 0.36734903579719125\n",
      "\n",
      "\n",
      "at random state86,the training accuracy is:- 0.36620651044954555\n",
      "at random state86,the testing accuracy is:- 0.3985132252151393\n",
      "\n",
      "\n",
      "at random state87,the training accuracy is:- 0.3680888705364822\n",
      "at random state87,the testing accuracy is:- 0.39077301085979943\n",
      "\n",
      "\n",
      "at random state88,the training accuracy is:- 0.3631750233500166\n",
      "at random state88,the testing accuracy is:- 0.4079000350464611\n",
      "\n",
      "\n",
      "at random state89,the training accuracy is:- 0.3857563441141163\n",
      "at random state89,the testing accuracy is:- 0.3119069510640614\n",
      "\n",
      "\n",
      "at random state90,the training accuracy is:- 0.37859862247980536\n",
      "at random state90,the testing accuracy is:- 0.3541729102439709\n",
      "\n",
      "\n",
      "at random state91,the training accuracy is:- 0.3659710708737889\n",
      "at random state91,the testing accuracy is:- 0.40276274536743983\n",
      "\n",
      "\n",
      "at random state92,the training accuracy is:- 0.3738417856502113\n",
      "at random state92,the testing accuracy is:- 0.36714014152539876\n",
      "\n",
      "\n",
      "at random state93,the training accuracy is:- 0.37141785990862586\n",
      "at random state93,the testing accuracy is:- 0.3772172101193949\n",
      "\n",
      "\n",
      "at random state94,the training accuracy is:- 0.37370126199130527\n",
      "at random state94,the testing accuracy is:- 0.36740949031495773\n",
      "\n",
      "\n",
      "at random state95,the training accuracy is:- 0.3871585733142945\n",
      "at random state95,the testing accuracy is:- 0.3193236066413916\n",
      "\n",
      "\n",
      "at random state96,the training accuracy is:- 0.3867411273109824\n",
      "at random state96,the testing accuracy is:- 0.3241417781342255\n",
      "\n",
      "\n",
      "at random state97,the training accuracy is:- 0.36816435937595515\n",
      "at random state97,the testing accuracy is:- 0.39632882431950744\n",
      "\n",
      "\n",
      "at random state98,the training accuracy is:- 0.3881869486835978\n",
      "at random state98,the testing accuracy is:- 0.29619980505951715\n",
      "\n",
      "\n",
      "at random state99,the training accuracy is:- 0.36828639630119986\n",
      "at random state99,the testing accuracy is:- 0.39416644494641495\n",
      "\n",
      "\n"
     ]
    }
   ],
   "source": [
    "#finding best random state\n",
    "for i in range(0,100):\n",
    "    inpt_train,inpt_test,target_train,target_test=train_test_split(inpt,target,test_size=0.2,random_state=i)\n",
    "    lr.fit(inpt_train,target_train)\n",
    "    pred_train=lr.predict(inpt_train)\n",
    "    pred_test=lr.predict(inpt_test)\n",
    "    print(f\"at random state{i},the training accuracy is:- {r2_score(target_train,pred_train)}\")\n",
    "    print(f\"at random state{i},the testing accuracy is:- {r2_score(target_test,pred_test)}\")\n",
    "    print(\"\\n\")\n"
   ]
  },
  {
   "cell_type": "code",
   "execution_count": 46,
   "id": "98ca579c",
   "metadata": {},
   "outputs": [
    {
     "name": "stdout",
     "output_type": "stream",
     "text": [
      "0.3713183386490748\n"
     ]
    }
   ],
   "source": [
    "#We will go with random state 3\n",
    "inpt_train,inpt_test,target_train,target_test=train_test_split(inpt,target,test_size=0.2,random_state=3)\n",
    "lr.fit(inpt_train,target_train)\n",
    "predlr=lr.predict(inpt_test)\n",
    "print(r2_score(target_test,predlr))\n"
   ]
  },
  {
   "cell_type": "code",
   "execution_count": 48,
   "id": "1a227e89",
   "metadata": {},
   "outputs": [
    {
     "data": {
      "text/plain": [
       "0.3188081700827873"
      ]
     },
     "execution_count": 48,
     "metadata": {},
     "output_type": "execute_result"
    }
   ],
   "source": [
    "from sklearn.model_selection import cross_val_score\n",
    "cv_score=cross_val_score(lr,inpt,target,cv=5)\n",
    "cv_mean=cv_score.mean()\n",
    "cv_mean"
   ]
  },
  {
   "cell_type": "code",
   "execution_count": 61,
   "id": "10e40ffe",
   "metadata": {},
   "outputs": [
    {
     "name": "stdout",
     "output_type": "stream",
     "text": [
      "0.6292517006802721\n",
      "[[ 0  6  0  0  0]\n",
      " [ 0 90 25  0  0]\n",
      " [ 0 39 83  7  0]\n",
      " [ 0  1 30 12  0]\n",
      " [ 0  0  1  0  0]]\n",
      "              precision    recall  f1-score   support\n",
      "\n",
      "           4       0.00      0.00      0.00         6\n",
      "           5       0.66      0.78      0.72       115\n",
      "           6       0.60      0.64      0.62       129\n",
      "           7       0.63      0.28      0.39        43\n",
      "           8       0.00      0.00      0.00         1\n",
      "\n",
      "    accuracy                           0.63       294\n",
      "   macro avg       0.38      0.34      0.34       294\n",
      "weighted avg       0.61      0.63      0.61       294\n",
      "\n"
     ]
    }
   ],
   "source": [
    "#below also gives better results with rbf\n",
    "from sklearn.svm import SVC\n",
    "svc=SVC(kernel='rbf')\n",
    "svc.fit(inpt_train,target_train)\n",
    "svc.score(inpt_train,target_train)\n",
    "predsvc=svc.predict(inpt_test)\n",
    "print(accuracy_score(target_test,predsvc))\n",
    "print(confusion_matrix(target_test,predsvc))\n",
    "print(classification_report(target_test,predsvc))\n"
   ]
  },
  {
   "cell_type": "code",
   "execution_count": 50,
   "id": "dc7625ec",
   "metadata": {},
   "outputs": [
    {
     "name": "stdout",
     "output_type": "stream",
     "text": [
      "0.6258503401360545\n",
      "[[ 1  3  2  0  0]\n",
      " [ 5 75 34  1  0]\n",
      " [ 3 33 80 11  2]\n",
      " [ 1  5 10 27  0]\n",
      " [ 0  0  0  0  1]]\n",
      "              precision    recall  f1-score   support\n",
      "\n",
      "           4       0.10      0.17      0.12         6\n",
      "           5       0.65      0.65      0.65       115\n",
      "           6       0.63      0.62      0.63       129\n",
      "           7       0.69      0.63      0.66        43\n",
      "           8       0.33      1.00      0.50         1\n",
      "\n",
      "    accuracy                           0.63       294\n",
      "   macro avg       0.48      0.61      0.51       294\n",
      "weighted avg       0.64      0.63      0.63       294\n",
      "\n"
     ]
    }
   ],
   "source": [
    "#below also gives very bad results\n",
    "from sklearn.tree import DecisionTreeClassifier\n",
    "dtc=DecisionTreeClassifier()\n",
    "dtc.fit(inpt_train,target_train)\n",
    "dtc.score(inpt_train,target_train)\n",
    "preddtc=dtc.predict(inpt_test)\n",
    "print(accuracy_score(target_test,preddtc))\n",
    "print(confusion_matrix(target_test,preddtc))\n",
    "print(classification_report(target_test,preddtc))"
   ]
  },
  {
   "cell_type": "code",
   "execution_count": 51,
   "id": "2eb8001c",
   "metadata": {},
   "outputs": [
    {
     "name": "stdout",
     "output_type": "stream",
     "text": [
      "{'alpha': 0.0001, 'random_state': 0}\n"
     ]
    }
   ],
   "source": [
    "#Regularization , getting best parameters\n",
    "from sklearn.model_selection import GridSearchCV\n",
    "from sklearn.model_selection import cross_val_score\n",
    "import warnings\n",
    "warnings.filterwarnings('ignore')\n",
    "from sklearn.linear_model import Lasso\n",
    "parameters={'alpha':[.0001,.001,.1,1,10],'random_state':list(range(0,10))}\n",
    "ls=Lasso()\n",
    "clf=GridSearchCV(ls,parameters)\n",
    "clf.fit(inpt_train,target_train)\n",
    "print(clf.best_params_)"
   ]
  },
  {
   "cell_type": "code",
   "execution_count": 52,
   "id": "8f9cfef0",
   "metadata": {},
   "outputs": [
    {
     "data": {
      "text/plain": [
       "0.37140491212762117"
      ]
     },
     "execution_count": 52,
     "metadata": {},
     "output_type": "execute_result"
    }
   ],
   "source": [
    "ls=Lasso(alpha=0.0001,random_state=0)\n",
    "ls.fit(inpt_train,target_train)\n",
    "ls.score(inpt_train,target_train)\n",
    "pred_ls=ls.predict(inpt_test)\n",
    "lss=r2_score(target_test,pred_ls)\n",
    "lss"
   ]
  },
  {
   "cell_type": "code",
   "execution_count": 53,
   "id": "5482a7a1",
   "metadata": {},
   "outputs": [
    {
     "data": {
      "text/plain": [
       "0.3187934205014455"
      ]
     },
     "execution_count": 53,
     "metadata": {},
     "output_type": "execute_result"
    }
   ],
   "source": [
    "cv_score=cross_val_score(ls,inpt,target,cv=5)\n",
    "cv_mean=cv_score.mean()\n",
    "cv_mean"
   ]
  },
  {
   "cell_type": "code",
   "execution_count": 62,
   "id": "e6dbe028",
   "metadata": {},
   "outputs": [
    {
     "data": {
      "text/plain": [
       "0.5738640848831"
      ]
     },
     "execution_count": 62,
     "metadata": {},
     "output_type": "execute_result"
    }
   ],
   "source": [
    "cv_score2=cross_val_score(svc,inpt,target,cv=5)\n",
    "cv_mean=cv_score2.mean()\n",
    "cv_mean\n",
    "\n"
   ]
  },
  {
   "cell_type": "code",
   "execution_count": 56,
   "id": "812241b8",
   "metadata": {},
   "outputs": [
    {
     "data": {
      "text/plain": [
       "0.46496946901627545"
      ]
     },
     "execution_count": 56,
     "metadata": {},
     "output_type": "execute_result"
    }
   ],
   "source": [
    "cv_score3=cross_val_score(dtc,inpt,target,cv=5)\n",
    "cv_mean=cv_score3.mean()\n",
    "cv_mean"
   ]
  },
  {
   "cell_type": "code",
   "execution_count": 57,
   "id": "d3f1491c",
   "metadata": {},
   "outputs": [
    {
     "name": "stdout",
     "output_type": "stream",
     "text": [
      "{'criterion': 'mse', 'max_features': 'log2'}\n"
     ]
    }
   ],
   "source": [
    "#We will use ensembling technique for more improvement\n",
    "from sklearn.model_selection import GridSearchCV\n",
    "from sklearn.ensemble import RandomForestRegressor\n",
    "parameters={'criterion':['mse','mae'],'max_features':[\"auto\",\"sqrt\",\"log2\"]}\n",
    "rf=RandomForestRegressor()\n",
    "clf=GridSearchCV(rf,parameters)\n",
    "clf.fit(inpt_train,target_train)\n",
    "print(clf.best_params_)"
   ]
  },
  {
   "cell_type": "code",
   "execution_count": 58,
   "id": "50ae247d",
   "metadata": {},
   "outputs": [
    {
     "name": "stdout",
     "output_type": "stream",
     "text": [
      "r2_score 54.940515429524595\n",
      "cross val score: 33.3122927877306\n"
     ]
    }
   ],
   "source": [
    "rf=RandomForestRegressor(criterion=\"mse\",max_features=\"log2\")\n",
    "rf.fit(inpt_train,target_train)\n",
    "rf.score(inpt_train,target_train)\n",
    "pred_decision=rf.predict(inpt_test)\n",
    "rfs=r2_score(target_test,pred_decision)\n",
    "print(\"r2_score\",rfs*100)\n",
    "rfscore=cross_val_score(rf,inpt,target,cv=5)\n",
    "rfc=rfscore.mean()\n",
    "print(\"cross val score:\",rfc*100)"
   ]
  },
  {
   "cell_type": "code",
   "execution_count": 63,
   "id": "02a2481b",
   "metadata": {},
   "outputs": [],
   "source": [
    "#above gives better % accuracy than previous methods\n",
    "import pickle"
   ]
  },
  {
   "cell_type": "code",
   "execution_count": 65,
   "id": "d1cf02e5",
   "metadata": {},
   "outputs": [],
   "source": [
    "#Here i am selecting svc model with rbf as this gives best cross val score as well as acuracy as compared to other models\n",
    "filename='winequality.pkl'\n",
    "pickle.dump(svc,open(filename,'wb'))"
   ]
  },
  {
   "cell_type": "code",
   "execution_count": 66,
   "id": "abbc06d3",
   "metadata": {},
   "outputs": [
    {
     "name": "stdout",
     "output_type": "stream",
     "text": [
      "0.6292517006802721\n"
     ]
    }
   ],
   "source": [
    "#Conclusion\n",
    "loaded_model=pickle.load(open('winequality.pkl','rb'))\n",
    "result=loaded_model.score(inpt_test,target_test)\n",
    "print(result)\n",
    "                        "
   ]
  },
  {
   "cell_type": "code",
   "execution_count": 67,
   "id": "79ec3ff5",
   "metadata": {},
   "outputs": [
    {
     "data": {
      "text/html": [
       "<div>\n",
       "<style scoped>\n",
       "    .dataframe tbody tr th:only-of-type {\n",
       "        vertical-align: middle;\n",
       "    }\n",
       "\n",
       "    .dataframe tbody tr th {\n",
       "        vertical-align: top;\n",
       "    }\n",
       "\n",
       "    .dataframe thead th {\n",
       "        text-align: right;\n",
       "    }\n",
       "</style>\n",
       "<table border=\"1\" class=\"dataframe\">\n",
       "  <thead>\n",
       "    <tr style=\"text-align: right;\">\n",
       "      <th></th>\n",
       "      <th>0</th>\n",
       "      <th>1</th>\n",
       "      <th>2</th>\n",
       "      <th>3</th>\n",
       "      <th>4</th>\n",
       "      <th>5</th>\n",
       "      <th>6</th>\n",
       "      <th>7</th>\n",
       "      <th>8</th>\n",
       "      <th>9</th>\n",
       "      <th>...</th>\n",
       "      <th>284</th>\n",
       "      <th>285</th>\n",
       "      <th>286</th>\n",
       "      <th>287</th>\n",
       "      <th>288</th>\n",
       "      <th>289</th>\n",
       "      <th>290</th>\n",
       "      <th>291</th>\n",
       "      <th>292</th>\n",
       "      <th>293</th>\n",
       "    </tr>\n",
       "  </thead>\n",
       "  <tbody>\n",
       "    <tr>\n",
       "      <th>Predicted</th>\n",
       "      <td>5.00</td>\n",
       "      <td>7.0</td>\n",
       "      <td>5.0</td>\n",
       "      <td>6.0</td>\n",
       "      <td>6.00</td>\n",
       "      <td>6.00</td>\n",
       "      <td>6.00</td>\n",
       "      <td>6.00</td>\n",
       "      <td>5.00</td>\n",
       "      <td>6.00</td>\n",
       "      <td>...</td>\n",
       "      <td>5.00</td>\n",
       "      <td>6.00</td>\n",
       "      <td>5.00</td>\n",
       "      <td>6.00</td>\n",
       "      <td>6.00</td>\n",
       "      <td>5.00</td>\n",
       "      <td>6.00</td>\n",
       "      <td>5.00</td>\n",
       "      <td>5.00</td>\n",
       "      <td>6.00</td>\n",
       "    </tr>\n",
       "    <tr>\n",
       "      <th>Original</th>\n",
       "      <td>5.44</td>\n",
       "      <td>6.2</td>\n",
       "      <td>5.5</td>\n",
       "      <td>5.5</td>\n",
       "      <td>6.22</td>\n",
       "      <td>6.33</td>\n",
       "      <td>5.84</td>\n",
       "      <td>6.13</td>\n",
       "      <td>5.77</td>\n",
       "      <td>7.44</td>\n",
       "      <td>...</td>\n",
       "      <td>5.07</td>\n",
       "      <td>6.29</td>\n",
       "      <td>5.48</td>\n",
       "      <td>6.05</td>\n",
       "      <td>5.97</td>\n",
       "      <td>5.04</td>\n",
       "      <td>5.91</td>\n",
       "      <td>5.58</td>\n",
       "      <td>5.51</td>\n",
       "      <td>6.23</td>\n",
       "    </tr>\n",
       "  </tbody>\n",
       "</table>\n",
       "<p>2 rows × 294 columns</p>\n",
       "</div>"
      ],
      "text/plain": [
       "            0    1    2    3     4     5     6     7     8     9    ...   284  \\\n",
       "Predicted  5.00  7.0  5.0  6.0  6.00  6.00  6.00  6.00  5.00  6.00  ...  5.00   \n",
       "Original   5.44  6.2  5.5  5.5  6.22  6.33  5.84  6.13  5.77  7.44  ...  5.07   \n",
       "\n",
       "            285   286   287   288   289   290   291   292   293  \n",
       "Predicted  6.00  5.00  6.00  6.00  5.00  6.00  5.00  5.00  6.00  \n",
       "Original   6.29  5.48  6.05  5.97  5.04  5.91  5.58  5.51  6.23  \n",
       "\n",
       "[2 rows x 294 columns]"
      ]
     },
     "execution_count": 67,
     "metadata": {},
     "output_type": "execute_result"
    }
   ],
   "source": [
    "#not working for me ,need help\n",
    "conclusion=pd.DataFrame([loaded_model.predict(inpt_test)[:],pred_decision[:]],index=[\"Predicted\",\"Original\"])\n",
    "conclusion"
   ]
  },
  {
   "cell_type": "code",
   "execution_count": null,
   "id": "dac89c93",
   "metadata": {},
   "outputs": [],
   "source": []
  },
  {
   "cell_type": "code",
   "execution_count": null,
   "id": "f2331f16",
   "metadata": {},
   "outputs": [],
   "source": []
  },
  {
   "cell_type": "code",
   "execution_count": null,
   "id": "e7be2bae",
   "metadata": {},
   "outputs": [],
   "source": []
  }
 ],
 "metadata": {
  "kernelspec": {
   "display_name": "Python 3 (ipykernel)",
   "language": "python",
   "name": "python3"
  },
  "language_info": {
   "codemirror_mode": {
    "name": "ipython",
    "version": 3
   },
   "file_extension": ".py",
   "mimetype": "text/x-python",
   "name": "python",
   "nbconvert_exporter": "python",
   "pygments_lexer": "ipython3",
   "version": "3.9.7"
  }
 },
 "nbformat": 4,
 "nbformat_minor": 5
}
