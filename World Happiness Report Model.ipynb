{
 "cells": [
  {
   "cell_type": "code",
   "execution_count": 127,
   "id": "eed2a215",
   "metadata": {},
   "outputs": [],
   "source": [
    "import pandas as pd\n",
    "import numpy as np\n",
    "import seaborn as sns\n",
    "import warnings\n",
    "warnings.filterwarnings('ignore')"
   ]
  },
  {
   "cell_type": "code",
   "execution_count": 128,
   "id": "24ad38d5",
   "metadata": {},
   "outputs": [],
   "source": [
    "#data downloaded from github as getting space error while fetching direct from site\n",
    "df=pd.read_csv(\"Hapinessreport.csv\")"
   ]
  },
  {
   "cell_type": "code",
   "execution_count": 129,
   "id": "f90ef41c",
   "metadata": {},
   "outputs": [
    {
     "data": {
      "text/plain": [
       "Index(['Country', 'Region', 'Happiness Rank', 'Happiness Score',\n",
       "       'Standard Error', 'Economy (GDP per Capita)', 'Family',\n",
       "       'Health (Life Expectancy)', 'Freedom', 'Trust (Government Corruption)',\n",
       "       'Generosity', 'Dystopia Residual'],\n",
       "      dtype='object')"
      ]
     },
     "execution_count": 129,
     "metadata": {},
     "output_type": "execute_result"
    }
   ],
   "source": [
    "df.columns"
   ]
  },
  {
   "cell_type": "code",
   "execution_count": 130,
   "id": "e2f9f2a5",
   "metadata": {},
   "outputs": [
    {
     "data": {
      "text/plain": [
       "<AxesSubplot:>"
      ]
     },
     "execution_count": 130,
     "metadata": {},
     "output_type": "execute_result"
    },
    {
     "data": {
      "image/png": "[encoded data removed]",
      "text/plain": [
       "<Figure size 432x288 with 2 Axes>"
      ]
     },
     "metadata": {
      "needs_background": "light"
     },
     "output_type": "display_data"
    }
   ],
   "source": [
    "\n",
    "sns.heatmap(df.isnull())\n",
    "#there is no null"
   ]
  },
  {
   "cell_type": "code",
   "execution_count": 131,
   "id": "2d4276aa",
   "metadata": {},
   "outputs": [
    {
     "data": {
      "text/plain": [
       "Country                           object\n",
       "Region                            object\n",
       "Happiness Rank                     int64\n",
       "Happiness Score                  float64\n",
       "Standard Error                   float64\n",
       "Economy (GDP per Capita)         float64\n",
       "Family                           float64\n",
       "Health (Life Expectancy)         float64\n",
       "Freedom                          float64\n",
       "Trust (Government Corruption)    float64\n",
       "Generosity                       float64\n",
       "Dystopia Residual                float64\n",
       "dtype: object"
      ]
     },
     "execution_count": 131,
     "metadata": {},
     "output_type": "execute_result"
    }
   ],
   "source": [
    "df.dtypes\n",
    "# all data type look fine"
   ]
  },
  {
   "cell_type": "code",
   "execution_count": 132,
   "id": "03365506",
   "metadata": {},
   "outputs": [
    {
     "data": {
      "text/html": [
       "<div>\n",
       "<style scoped>\n",
       "    .dataframe tbody tr th:only-of-type {\n",
       "        vertical-align: middle;\n",
       "    }\n",
       "\n",
       "    .dataframe tbody tr th {\n",
       "        vertical-align: top;\n",
       "    }\n",
       "\n",
       "    .dataframe thead th {\n",
       "        text-align: right;\n",
       "    }\n",
       "</style>\n",
       "<table border=\"1\" class=\"dataframe\">\n",
       "  <thead>\n",
       "    <tr style=\"text-align: right;\">\n",
       "      <th></th>\n",
       "      <th>Happiness Rank</th>\n",
       "      <th>Happiness Score</th>\n",
       "      <th>Standard Error</th>\n",
       "      <th>Economy (GDP per Capita)</th>\n",
       "      <th>Family</th>\n",
       "      <th>Health (Life Expectancy)</th>\n",
       "      <th>Freedom</th>\n",
       "      <th>Trust (Government Corruption)</th>\n",
       "      <th>Generosity</th>\n",
       "      <th>Dystopia Residual</th>\n",
       "    </tr>\n",
       "  </thead>\n",
       "  <tbody>\n",
       "    <tr>\n",
       "      <th>count</th>\n",
       "      <td>158.000000</td>\n",
       "      <td>158.000000</td>\n",
       "      <td>158.000000</td>\n",
       "      <td>158.000000</td>\n",
       "      <td>158.000000</td>\n",
       "      <td>158.000000</td>\n",
       "      <td>158.000000</td>\n",
       "      <td>158.000000</td>\n",
       "      <td>158.000000</td>\n",
       "      <td>158.000000</td>\n",
       "    </tr>\n",
       "    <tr>\n",
       "      <th>mean</th>\n",
       "      <td>79.493671</td>\n",
       "      <td>5.375734</td>\n",
       "      <td>0.047885</td>\n",
       "      <td>0.846137</td>\n",
       "      <td>0.991046</td>\n",
       "      <td>0.630259</td>\n",
       "      <td>0.428615</td>\n",
       "      <td>0.143422</td>\n",
       "      <td>0.237296</td>\n",
       "      <td>2.098977</td>\n",
       "    </tr>\n",
       "    <tr>\n",
       "      <th>std</th>\n",
       "      <td>45.754363</td>\n",
       "      <td>1.145010</td>\n",
       "      <td>0.017146</td>\n",
       "      <td>0.403121</td>\n",
       "      <td>0.272369</td>\n",
       "      <td>0.247078</td>\n",
       "      <td>0.150693</td>\n",
       "      <td>0.120034</td>\n",
       "      <td>0.126685</td>\n",
       "      <td>0.553550</td>\n",
       "    </tr>\n",
       "    <tr>\n",
       "      <th>min</th>\n",
       "      <td>1.000000</td>\n",
       "      <td>2.839000</td>\n",
       "      <td>0.018480</td>\n",
       "      <td>0.000000</td>\n",
       "      <td>0.000000</td>\n",
       "      <td>0.000000</td>\n",
       "      <td>0.000000</td>\n",
       "      <td>0.000000</td>\n",
       "      <td>0.000000</td>\n",
       "      <td>0.328580</td>\n",
       "    </tr>\n",
       "    <tr>\n",
       "      <th>25%</th>\n",
       "      <td>40.250000</td>\n",
       "      <td>4.526000</td>\n",
       "      <td>0.037268</td>\n",
       "      <td>0.545808</td>\n",
       "      <td>0.856823</td>\n",
       "      <td>0.439185</td>\n",
       "      <td>0.328330</td>\n",
       "      <td>0.061675</td>\n",
       "      <td>0.150553</td>\n",
       "      <td>1.759410</td>\n",
       "    </tr>\n",
       "    <tr>\n",
       "      <th>50%</th>\n",
       "      <td>79.500000</td>\n",
       "      <td>5.232500</td>\n",
       "      <td>0.043940</td>\n",
       "      <td>0.910245</td>\n",
       "      <td>1.029510</td>\n",
       "      <td>0.696705</td>\n",
       "      <td>0.435515</td>\n",
       "      <td>0.107220</td>\n",
       "      <td>0.216130</td>\n",
       "      <td>2.095415</td>\n",
       "    </tr>\n",
       "    <tr>\n",
       "      <th>75%</th>\n",
       "      <td>118.750000</td>\n",
       "      <td>6.243750</td>\n",
       "      <td>0.052300</td>\n",
       "      <td>1.158448</td>\n",
       "      <td>1.214405</td>\n",
       "      <td>0.811013</td>\n",
       "      <td>0.549092</td>\n",
       "      <td>0.180255</td>\n",
       "      <td>0.309883</td>\n",
       "      <td>2.462415</td>\n",
       "    </tr>\n",
       "    <tr>\n",
       "      <th>max</th>\n",
       "      <td>158.000000</td>\n",
       "      <td>7.587000</td>\n",
       "      <td>0.136930</td>\n",
       "      <td>1.690420</td>\n",
       "      <td>1.402230</td>\n",
       "      <td>1.025250</td>\n",
       "      <td>0.669730</td>\n",
       "      <td>0.551910</td>\n",
       "      <td>0.795880</td>\n",
       "      <td>3.602140</td>\n",
       "    </tr>\n",
       "  </tbody>\n",
       "</table>\n",
       "</div>"
      ],
      "text/plain": [
       "       Happiness Rank  Happiness Score  Standard Error  \\\n",
       "count      158.000000       158.000000      158.000000   \n",
       "mean        79.493671         5.375734        0.047885   \n",
       "std         45.754363         1.145010        0.017146   \n",
       "min          1.000000         2.839000        0.018480   \n",
       "25%         40.250000         4.526000        0.037268   \n",
       "50%         79.500000         5.232500        0.043940   \n",
       "75%        118.750000         6.243750        0.052300   \n",
       "max        158.000000         7.587000        0.136930   \n",
       "\n",
       "       Economy (GDP per Capita)      Family  Health (Life Expectancy)  \\\n",
       "count                158.000000  158.000000                158.000000   \n",
       "mean                   0.846137    0.991046                  0.630259   \n",
       "std                    0.403121    0.272369                  0.247078   \n",
       "min                    0.000000    0.000000                  0.000000   \n",
       "25%                    0.545808    0.856823                  0.439185   \n",
       "50%                    0.910245    1.029510                  0.696705   \n",
       "75%                    1.158448    1.214405                  0.811013   \n",
       "max                    1.690420    1.402230                  1.025250   \n",
       "\n",
       "          Freedom  Trust (Government Corruption)  Generosity  \\\n",
       "count  158.000000                     158.000000  158.000000   \n",
       "mean     0.428615                       0.143422    0.237296   \n",
       "std      0.150693                       0.120034    0.126685   \n",
       "min      0.000000                       0.000000    0.000000   \n",
       "25%      0.328330                       0.061675    0.150553   \n",
       "50%      0.435515                       0.107220    0.216130   \n",
       "75%      0.549092                       0.180255    0.309883   \n",
       "max      0.669730                       0.551910    0.795880   \n",
       "\n",
       "       Dystopia Residual  \n",
       "count         158.000000  \n",
       "mean            2.098977  \n",
       "std             0.553550  \n",
       "min             0.328580  \n",
       "25%             1.759410  \n",
       "50%             2.095415  \n",
       "75%             2.462415  \n",
       "max             3.602140  "
      ]
     },
     "execution_count": 132,
     "metadata": {},
     "output_type": "execute_result"
    }
   ],
   "source": [
    "df.describe()"
   ]
  },
  {
   "cell_type": "code",
   "execution_count": 133,
   "id": "90c15720",
   "metadata": {},
   "outputs": [
    {
     "data": {
      "text/html": [
       "<div>\n",
       "<style scoped>\n",
       "    .dataframe tbody tr th:only-of-type {\n",
       "        vertical-align: middle;\n",
       "    }\n",
       "\n",
       "    .dataframe tbody tr th {\n",
       "        vertical-align: top;\n",
       "    }\n",
       "\n",
       "    .dataframe thead th {\n",
       "        text-align: right;\n",
       "    }\n",
       "</style>\n",
       "<table border=\"1\" class=\"dataframe\">\n",
       "  <thead>\n",
       "    <tr style=\"text-align: right;\">\n",
       "      <th></th>\n",
       "      <th>Region</th>\n",
       "      <th>Country</th>\n",
       "    </tr>\n",
       "  </thead>\n",
       "  <tbody>\n",
       "    <tr>\n",
       "      <th>0</th>\n",
       "      <td>Western Europe</td>\n",
       "      <td>Switzerland</td>\n",
       "    </tr>\n",
       "    <tr>\n",
       "      <th>1</th>\n",
       "      <td>Western Europe</td>\n",
       "      <td>Iceland</td>\n",
       "    </tr>\n",
       "    <tr>\n",
       "      <th>2</th>\n",
       "      <td>Western Europe</td>\n",
       "      <td>Denmark</td>\n",
       "    </tr>\n",
       "    <tr>\n",
       "      <th>3</th>\n",
       "      <td>Western Europe</td>\n",
       "      <td>Norway</td>\n",
       "    </tr>\n",
       "    <tr>\n",
       "      <th>4</th>\n",
       "      <td>North America</td>\n",
       "      <td>Canada</td>\n",
       "    </tr>\n",
       "    <tr>\n",
       "      <th>...</th>\n",
       "      <td>...</td>\n",
       "      <td>...</td>\n",
       "    </tr>\n",
       "    <tr>\n",
       "      <th>153</th>\n",
       "      <td>Sub-Saharan Africa</td>\n",
       "      <td>Rwanda</td>\n",
       "    </tr>\n",
       "    <tr>\n",
       "      <th>154</th>\n",
       "      <td>Sub-Saharan Africa</td>\n",
       "      <td>Benin</td>\n",
       "    </tr>\n",
       "    <tr>\n",
       "      <th>155</th>\n",
       "      <td>Middle East and Northern Africa</td>\n",
       "      <td>Syria</td>\n",
       "    </tr>\n",
       "    <tr>\n",
       "      <th>156</th>\n",
       "      <td>Sub-Saharan Africa</td>\n",
       "      <td>Burundi</td>\n",
       "    </tr>\n",
       "    <tr>\n",
       "      <th>157</th>\n",
       "      <td>Sub-Saharan Africa</td>\n",
       "      <td>Togo</td>\n",
       "    </tr>\n",
       "  </tbody>\n",
       "</table>\n",
       "<p>158 rows × 2 columns</p>\n",
       "</div>"
      ],
      "text/plain": [
       "                              Region      Country\n",
       "0                     Western Europe  Switzerland\n",
       "1                     Western Europe      Iceland\n",
       "2                     Western Europe      Denmark\n",
       "3                     Western Europe       Norway\n",
       "4                      North America       Canada\n",
       "..                               ...          ...\n",
       "153               Sub-Saharan Africa       Rwanda\n",
       "154               Sub-Saharan Africa        Benin\n",
       "155  Middle East and Northern Africa        Syria\n",
       "156               Sub-Saharan Africa      Burundi\n",
       "157               Sub-Saharan Africa         Togo\n",
       "\n",
       "[158 rows x 2 columns]"
      ]
     },
     "execution_count": 133,
     "metadata": {},
     "output_type": "execute_result"
    }
   ],
   "source": [
    "#Making dataframe of ordinal data\n",
    "df_vis_nom=df[[\"Region\",\"Country\"]].copy()\n",
    "df_vis_nom"
   ]
  },
  {
   "cell_type": "code",
   "execution_count": 134,
   "id": "7ead1231",
   "metadata": {},
   "outputs": [
    {
     "name": "stdout",
     "output_type": "stream",
     "text": [
      "Switzerland    1\n",
      "Bangladesh     1\n",
      "Greece         1\n",
      "Lebanon        1\n",
      "Hungary        1\n",
      "              ..\n",
      "Kazakhstan     1\n",
      "Slovenia       1\n",
      "Lithuania      1\n",
      "Nicaragua      1\n",
      "Togo           1\n",
      "Name: Country, Length: 158, dtype: int64\n"
     ]
    },
    {
     "data": {
      "image/png": "[encoded data removed]",
      "text/plain": [
       "<Figure size 432x288 with 1 Axes>"
      ]
     },
     "metadata": {
      "needs_background": "light"
     },
     "output_type": "display_data"
    }
   ],
   "source": [
    "#Making dataframe of ordinal data\n",
    "import seaborn as sns\n",
    "ax=sns.countplot(x=\"Country\",data=df_vis_nom)\n",
    "print(df_vis_nom[\"Country\"].value_counts())"
   ]
  },
  {
   "cell_type": "code",
   "execution_count": 135,
   "id": "1134132d",
   "metadata": {},
   "outputs": [
    {
     "name": "stdout",
     "output_type": "stream",
     "text": [
      "Sub-Saharan Africa                 40\n",
      "Central and Eastern Europe         29\n",
      "Latin America and Caribbean        22\n",
      "Western Europe                     21\n",
      "Middle East and Northern Africa    20\n",
      "Southeastern Asia                   9\n",
      "Southern Asia                       7\n",
      "Eastern Asia                        6\n",
      "North America                       2\n",
      "Australia and New Zealand           2\n",
      "Name: Region, dtype: int64\n"
     ]
    },
    {
     "data": {
      "image/png": "[encoded data removed]",
      "text/plain": [
       "<Figure size 432x288 with 1 Axes>"
      ]
     },
     "metadata": {
      "needs_background": "light"
     },
     "output_type": "display_data"
    }
   ],
   "source": [
    "import seaborn as sns\n",
    "ax=sns.countplot(x=\"Region\",data=df_vis_nom)\n",
    "print(df_vis_nom[\"Region\"].value_counts())"
   ]
  },
  {
   "cell_type": "code",
   "execution_count": 136,
   "id": "f8015632",
   "metadata": {},
   "outputs": [
    {
     "data": {
      "text/html": [
       "<div>\n",
       "<style scoped>\n",
       "    .dataframe tbody tr th:only-of-type {\n",
       "        vertical-align: middle;\n",
       "    }\n",
       "\n",
       "    .dataframe tbody tr th {\n",
       "        vertical-align: top;\n",
       "    }\n",
       "\n",
       "    .dataframe thead th {\n",
       "        text-align: right;\n",
       "    }\n",
       "</style>\n",
       "<table border=\"1\" class=\"dataframe\">\n",
       "  <thead>\n",
       "    <tr style=\"text-align: right;\">\n",
       "      <th></th>\n",
       "      <th>Happiness Rank</th>\n",
       "      <th>Happiness Score</th>\n",
       "      <th>Standard Error</th>\n",
       "      <th>Economy (GDP per Capita)</th>\n",
       "      <th>Family</th>\n",
       "      <th>Health (Life Expectancy)</th>\n",
       "      <th>Freedom</th>\n",
       "      <th>Trust (Government Corruption)</th>\n",
       "      <th>Generosity</th>\n",
       "      <th>Dystopia Residual</th>\n",
       "    </tr>\n",
       "  </thead>\n",
       "  <tbody>\n",
       "    <tr>\n",
       "      <th>0</th>\n",
       "      <td>1</td>\n",
       "      <td>7.587</td>\n",
       "      <td>0.03411</td>\n",
       "      <td>1.39651</td>\n",
       "      <td>1.34951</td>\n",
       "      <td>0.94143</td>\n",
       "      <td>0.66557</td>\n",
       "      <td>0.41978</td>\n",
       "      <td>0.29678</td>\n",
       "      <td>2.51738</td>\n",
       "    </tr>\n",
       "    <tr>\n",
       "      <th>1</th>\n",
       "      <td>2</td>\n",
       "      <td>7.561</td>\n",
       "      <td>0.04884</td>\n",
       "      <td>1.30232</td>\n",
       "      <td>1.40223</td>\n",
       "      <td>0.94784</td>\n",
       "      <td>0.62877</td>\n",
       "      <td>0.14145</td>\n",
       "      <td>0.43630</td>\n",
       "      <td>2.70201</td>\n",
       "    </tr>\n",
       "    <tr>\n",
       "      <th>2</th>\n",
       "      <td>3</td>\n",
       "      <td>7.527</td>\n",
       "      <td>0.03328</td>\n",
       "      <td>1.32548</td>\n",
       "      <td>1.36058</td>\n",
       "      <td>0.87464</td>\n",
       "      <td>0.64938</td>\n",
       "      <td>0.48357</td>\n",
       "      <td>0.34139</td>\n",
       "      <td>2.49204</td>\n",
       "    </tr>\n",
       "    <tr>\n",
       "      <th>3</th>\n",
       "      <td>4</td>\n",
       "      <td>7.522</td>\n",
       "      <td>0.03880</td>\n",
       "      <td>1.45900</td>\n",
       "      <td>1.33095</td>\n",
       "      <td>0.88521</td>\n",
       "      <td>0.66973</td>\n",
       "      <td>0.36503</td>\n",
       "      <td>0.34699</td>\n",
       "      <td>2.46531</td>\n",
       "    </tr>\n",
       "    <tr>\n",
       "      <th>4</th>\n",
       "      <td>5</td>\n",
       "      <td>7.427</td>\n",
       "      <td>0.03553</td>\n",
       "      <td>1.32629</td>\n",
       "      <td>1.32261</td>\n",
       "      <td>0.90563</td>\n",
       "      <td>0.63297</td>\n",
       "      <td>0.32957</td>\n",
       "      <td>0.45811</td>\n",
       "      <td>2.45176</td>\n",
       "    </tr>\n",
       "    <tr>\n",
       "      <th>...</th>\n",
       "      <td>...</td>\n",
       "      <td>...</td>\n",
       "      <td>...</td>\n",
       "      <td>...</td>\n",
       "      <td>...</td>\n",
       "      <td>...</td>\n",
       "      <td>...</td>\n",
       "      <td>...</td>\n",
       "      <td>...</td>\n",
       "      <td>...</td>\n",
       "    </tr>\n",
       "    <tr>\n",
       "      <th>153</th>\n",
       "      <td>154</td>\n",
       "      <td>3.465</td>\n",
       "      <td>0.03464</td>\n",
       "      <td>0.22208</td>\n",
       "      <td>0.77370</td>\n",
       "      <td>0.42864</td>\n",
       "      <td>0.59201</td>\n",
       "      <td>0.55191</td>\n",
       "      <td>0.22628</td>\n",
       "      <td>0.67042</td>\n",
       "    </tr>\n",
       "    <tr>\n",
       "      <th>154</th>\n",
       "      <td>155</td>\n",
       "      <td>3.340</td>\n",
       "      <td>0.03656</td>\n",
       "      <td>0.28665</td>\n",
       "      <td>0.35386</td>\n",
       "      <td>0.31910</td>\n",
       "      <td>0.48450</td>\n",
       "      <td>0.08010</td>\n",
       "      <td>0.18260</td>\n",
       "      <td>1.63328</td>\n",
       "    </tr>\n",
       "    <tr>\n",
       "      <th>155</th>\n",
       "      <td>156</td>\n",
       "      <td>3.006</td>\n",
       "      <td>0.05015</td>\n",
       "      <td>0.66320</td>\n",
       "      <td>0.47489</td>\n",
       "      <td>0.72193</td>\n",
       "      <td>0.15684</td>\n",
       "      <td>0.18906</td>\n",
       "      <td>0.47179</td>\n",
       "      <td>0.32858</td>\n",
       "    </tr>\n",
       "    <tr>\n",
       "      <th>156</th>\n",
       "      <td>157</td>\n",
       "      <td>2.905</td>\n",
       "      <td>0.08658</td>\n",
       "      <td>0.01530</td>\n",
       "      <td>0.41587</td>\n",
       "      <td>0.22396</td>\n",
       "      <td>0.11850</td>\n",
       "      <td>0.10062</td>\n",
       "      <td>0.19727</td>\n",
       "      <td>1.83302</td>\n",
       "    </tr>\n",
       "    <tr>\n",
       "      <th>157</th>\n",
       "      <td>158</td>\n",
       "      <td>2.839</td>\n",
       "      <td>0.06727</td>\n",
       "      <td>0.20868</td>\n",
       "      <td>0.13995</td>\n",
       "      <td>0.28443</td>\n",
       "      <td>0.36453</td>\n",
       "      <td>0.10731</td>\n",
       "      <td>0.16681</td>\n",
       "      <td>1.56726</td>\n",
       "    </tr>\n",
       "  </tbody>\n",
       "</table>\n",
       "<p>158 rows × 10 columns</p>\n",
       "</div>"
      ],
      "text/plain": [
       "     Happiness Rank  Happiness Score  Standard Error  \\\n",
       "0                 1            7.587         0.03411   \n",
       "1                 2            7.561         0.04884   \n",
       "2                 3            7.527         0.03328   \n",
       "3                 4            7.522         0.03880   \n",
       "4                 5            7.427         0.03553   \n",
       "..              ...              ...             ...   \n",
       "153             154            3.465         0.03464   \n",
       "154             155            3.340         0.03656   \n",
       "155             156            3.006         0.05015   \n",
       "156             157            2.905         0.08658   \n",
       "157             158            2.839         0.06727   \n",
       "\n",
       "     Economy (GDP per Capita)   Family  Health (Life Expectancy)  Freedom  \\\n",
       "0                     1.39651  1.34951                   0.94143  0.66557   \n",
       "1                     1.30232  1.40223                   0.94784  0.62877   \n",
       "2                     1.32548  1.36058                   0.87464  0.64938   \n",
       "3                     1.45900  1.33095                   0.88521  0.66973   \n",
       "4                     1.32629  1.32261                   0.90563  0.63297   \n",
       "..                        ...      ...                       ...      ...   \n",
       "153                   0.22208  0.77370                   0.42864  0.59201   \n",
       "154                   0.28665  0.35386                   0.31910  0.48450   \n",
       "155                   0.66320  0.47489                   0.72193  0.15684   \n",
       "156                   0.01530  0.41587                   0.22396  0.11850   \n",
       "157                   0.20868  0.13995                   0.28443  0.36453   \n",
       "\n",
       "     Trust (Government Corruption)  Generosity  Dystopia Residual  \n",
       "0                          0.41978     0.29678            2.51738  \n",
       "1                          0.14145     0.43630            2.70201  \n",
       "2                          0.48357     0.34139            2.49204  \n",
       "3                          0.36503     0.34699            2.46531  \n",
       "4                          0.32957     0.45811            2.45176  \n",
       "..                             ...         ...                ...  \n",
       "153                        0.55191     0.22628            0.67042  \n",
       "154                        0.08010     0.18260            1.63328  \n",
       "155                        0.18906     0.47179            0.32858  \n",
       "156                        0.10062     0.19727            1.83302  \n",
       "157                        0.10731     0.16681            1.56726  \n",
       "\n",
       "[158 rows x 10 columns]"
      ]
     },
     "execution_count": 136,
     "metadata": {},
     "output_type": "execute_result"
    }
   ],
   "source": [
    "#Making dataframe of ordinal data\n",
    "df_vis_ord=df[[\"Happiness Rank\",\"Happiness Score\",\"Standard Error\",\"Economy (GDP per Capita)\",\"Family\",\"Health (Life Expectancy)\",\"Freedom\",\"Trust (Government Corruption)\",\"Generosity\",\"Dystopia Residual\"]].copy()\n",
    "df_vis_ord\n",
    "\n"
   ]
  },
  {
   "cell_type": "code",
   "execution_count": 137,
   "id": "524fd264",
   "metadata": {},
   "outputs": [
    {
     "data": {
      "text/plain": [
       "<AxesSubplot:xlabel='Happiness Rank', ylabel='Density'>"
      ]
     },
     "execution_count": 137,
     "metadata": {},
     "output_type": "execute_result"
    },
    {
     "data": {
      "image/png": "[encoded data removed]",
      "text/plain": [
       "<Figure size 432x288 with 1 Axes>"
      ]
     },
     "metadata": {
      "needs_background": "light"
     },
     "output_type": "display_data"
    }
   ],
   "source": [
    "#checking ditribution of ordinal columns\n",
    "df_vis_ord\n",
    "sns.distplot(df_vis_ord[\"Happiness Rank\"],kde=True)"
   ]
  },
  {
   "cell_type": "code",
   "execution_count": 138,
   "id": "1b8b7e3f",
   "metadata": {},
   "outputs": [
    {
     "data": {
      "text/plain": [
       "<AxesSubplot:xlabel='Happiness Score', ylabel='Density'>"
      ]
     },
     "execution_count": 138,
     "metadata": {},
     "output_type": "execute_result"
    },
    {
     "data": {
      "image/png": "[encoded data removed]",
      "text/plain": [
       "<Figure size 432x288 with 1 Axes>"
      ]
     },
     "metadata": {
      "needs_background": "light"
     },
     "output_type": "display_data"
    }
   ],
   "source": [
    "sns.distplot(df_vis_ord[\"Happiness Score\"],kde=True)"
   ]
  },
  {
   "cell_type": "code",
   "execution_count": 139,
   "id": "fa6fa460",
   "metadata": {},
   "outputs": [
    {
     "data": {
      "text/plain": [
       "<AxesSubplot:xlabel='Standard Error', ylabel='Density'>"
      ]
     },
     "execution_count": 139,
     "metadata": {},
     "output_type": "execute_result"
    },
    {
     "data": {
      "image/png": "[encoded data removed]",
      "text/plain": [
       "<Figure size 432x288 with 1 Axes>"
      ]
     },
     "metadata": {
      "needs_background": "light"
     },
     "output_type": "display_data"
    }
   ],
   "source": [
    "sns.distplot(df_vis_ord[\"Standard Error\"],kde=True)"
   ]
  },
  {
   "cell_type": "code",
   "execution_count": 140,
   "id": "647ed0f3",
   "metadata": {},
   "outputs": [
    {
     "data": {
      "text/plain": [
       "<AxesSubplot:xlabel='Economy (GDP per Capita)', ylabel='Density'>"
      ]
     },
     "execution_count": 140,
     "metadata": {},
     "output_type": "execute_result"
    },
    {
     "data": {
      "image/png": "[encoded data removed]",
      "text/plain": [
       "<Figure size 432x288 with 1 Axes>"
      ]
     },
     "metadata": {
      "needs_background": "light"
     },
     "output_type": "display_data"
    }
   ],
   "source": [
    "sns.distplot(df_vis_ord[\"Economy (GDP per Capita)\"],kde=True)"
   ]
  },
  {
   "cell_type": "code",
   "execution_count": 141,
   "id": "099e73cb",
   "metadata": {},
   "outputs": [
    {
     "data": {
      "text/plain": [
       "<AxesSubplot:xlabel='Family', ylabel='Density'>"
      ]
     },
     "execution_count": 141,
     "metadata": {},
     "output_type": "execute_result"
    },
    {
     "data": {
      "image/png": "[encoded data removed]",
      "text/plain": [
       "<Figure size 432x288 with 1 Axes>"
      ]
     },
     "metadata": {
      "needs_background": "light"
     },
     "output_type": "display_data"
    }
   ],
   "source": [
    "sns.distplot(df_vis_ord[\"Family\"],kde=True)"
   ]
  },
  {
   "cell_type": "code",
   "execution_count": 142,
   "id": "994a1a24",
   "metadata": {},
   "outputs": [
    {
     "data": {
      "text/plain": [
       "<AxesSubplot:xlabel='Health (Life Expectancy)', ylabel='Density'>"
      ]
     },
     "execution_count": 142,
     "metadata": {},
     "output_type": "execute_result"
    },
    {
     "data": {
      "image/png": "[encoded data removed]",
      "text/plain": [
       "<Figure size 432x288 with 1 Axes>"
      ]
     },
     "metadata": {
      "needs_background": "light"
     },
     "output_type": "display_data"
    }
   ],
   "source": [
    "sns.distplot(df_vis_ord[\"Health (Life Expectancy)\"],kde=True)"
   ]
  },
  {
   "cell_type": "code",
   "execution_count": 143,
   "id": "f97d48fc",
   "metadata": {},
   "outputs": [
    {
     "data": {
      "text/plain": [
       "<AxesSubplot:xlabel='Freedom', ylabel='Density'>"
      ]
     },
     "execution_count": 143,
     "metadata": {},
     "output_type": "execute_result"
    },
    {
     "data": {
      "image/png": "[encoded data removed]",
      "text/plain": [
       "<Figure size 432x288 with 1 Axes>"
      ]
     },
     "metadata": {
      "needs_background": "light"
     },
     "output_type": "display_data"
    }
   ],
   "source": [
    "sns.distplot(df_vis_ord[\"Freedom\"],kde=True)"
   ]
  },
  {
   "cell_type": "code",
   "execution_count": 144,
   "id": "abcb3e12",
   "metadata": {},
   "outputs": [
    {
     "data": {
      "text/plain": [
       "<AxesSubplot:xlabel='Trust (Government Corruption)', ylabel='Density'>"
      ]
     },
     "execution_count": 144,
     "metadata": {},
     "output_type": "execute_result"
    },
    {
     "data": {
      "image/png": "[encoded data removed]",
      "text/plain": [
       "<Figure size 432x288 with 1 Axes>"
      ]
     },
     "metadata": {
      "needs_background": "light"
     },
     "output_type": "display_data"
    }
   ],
   "source": [
    "sns.distplot(df_vis_ord[\"Trust (Government Corruption)\"],kde=True)"
   ]
  },
  {
   "cell_type": "code",
   "execution_count": 145,
   "id": "a875adc1",
   "metadata": {},
   "outputs": [
    {
     "data": {
      "text/plain": [
       "<AxesSubplot:xlabel='Generosity', ylabel='Density'>"
      ]
     },
     "execution_count": 145,
     "metadata": {},
     "output_type": "execute_result"
    },
    {
     "data": {
      "image/png": "[encoded data removed]",
      "text/plain": [
       "<Figure size 432x288 with 1 Axes>"
      ]
     },
     "metadata": {
      "needs_background": "light"
     },
     "output_type": "display_data"
    }
   ],
   "source": [
    "sns.distplot(df_vis_ord[\"Generosity\"],kde=True)"
   ]
  },
  {
   "cell_type": "code",
   "execution_count": 146,
   "id": "97ad5ba3",
   "metadata": {},
   "outputs": [
    {
     "data": {
      "text/plain": [
       "<AxesSubplot:xlabel='Dystopia Residual', ylabel='Density'>"
      ]
     },
     "execution_count": 146,
     "metadata": {},
     "output_type": "execute_result"
    },
    {
     "data": {
      "image/png": "[encoded data removed]",
      "text/plain": [
       "<Figure size 432x288 with 1 Axes>"
      ]
     },
     "metadata": {
      "needs_background": "light"
     },
     "output_type": "display_data"
    }
   ],
   "source": [
    "sns.distplot(df_vis_ord[\"Dystopia Residual\"],kde=True)"
   ]
  },
  {
   "cell_type": "code",
   "execution_count": 147,
   "id": "2f3e5dbc",
   "metadata": {},
   "outputs": [],
   "source": [
    "#Above shows data distributed not optimal and has outliers\n",
    "# First we will use data encloding for converting string values to numeric for object datatypes\n",
    "from sklearn.preprocessing import OrdinalEncoder\n",
    "enc=OrdinalEncoder()"
   ]
  },
  {
   "cell_type": "code",
   "execution_count": 148,
   "id": "1ce188b0",
   "metadata": {},
   "outputs": [],
   "source": [
    "for i in df.columns:\n",
    "    if df[i].dtypes==\"object\":\n",
    "        df[i]=enc.fit_transform(df[i].values.reshape(-1,1))\n",
    "        "
   ]
  },
  {
   "cell_type": "code",
   "execution_count": 149,
   "id": "b2cf9417",
   "metadata": {},
   "outputs": [
    {
     "data": {
      "text/html": [
       "<div>\n",
       "<style scoped>\n",
       "    .dataframe tbody tr th:only-of-type {\n",
       "        vertical-align: middle;\n",
       "    }\n",
       "\n",
       "    .dataframe tbody tr th {\n",
       "        vertical-align: top;\n",
       "    }\n",
       "\n",
       "    .dataframe thead th {\n",
       "        text-align: right;\n",
       "    }\n",
       "</style>\n",
       "<table border=\"1\" class=\"dataframe\">\n",
       "  <thead>\n",
       "    <tr style=\"text-align: right;\">\n",
       "      <th></th>\n",
       "      <th>Country</th>\n",
       "      <th>Region</th>\n",
       "      <th>Happiness Rank</th>\n",
       "      <th>Happiness Score</th>\n",
       "      <th>Standard Error</th>\n",
       "      <th>Economy (GDP per Capita)</th>\n",
       "      <th>Family</th>\n",
       "      <th>Health (Life Expectancy)</th>\n",
       "      <th>Freedom</th>\n",
       "      <th>Trust (Government Corruption)</th>\n",
       "      <th>Generosity</th>\n",
       "      <th>Dystopia Residual</th>\n",
       "    </tr>\n",
       "  </thead>\n",
       "  <tbody>\n",
       "    <tr>\n",
       "      <th>0</th>\n",
       "      <td>135.0</td>\n",
       "      <td>9.0</td>\n",
       "      <td>1</td>\n",
       "      <td>7.587</td>\n",
       "      <td>0.03411</td>\n",
       "      <td>1.39651</td>\n",
       "      <td>1.34951</td>\n",
       "      <td>0.94143</td>\n",
       "      <td>0.66557</td>\n",
       "      <td>0.41978</td>\n",
       "      <td>0.29678</td>\n",
       "      <td>2.51738</td>\n",
       "    </tr>\n",
       "    <tr>\n",
       "      <th>1</th>\n",
       "      <td>58.0</td>\n",
       "      <td>9.0</td>\n",
       "      <td>2</td>\n",
       "      <td>7.561</td>\n",
       "      <td>0.04884</td>\n",
       "      <td>1.30232</td>\n",
       "      <td>1.40223</td>\n",
       "      <td>0.94784</td>\n",
       "      <td>0.62877</td>\n",
       "      <td>0.14145</td>\n",
       "      <td>0.43630</td>\n",
       "      <td>2.70201</td>\n",
       "    </tr>\n",
       "    <tr>\n",
       "      <th>2</th>\n",
       "      <td>37.0</td>\n",
       "      <td>9.0</td>\n",
       "      <td>3</td>\n",
       "      <td>7.527</td>\n",
       "      <td>0.03328</td>\n",
       "      <td>1.32548</td>\n",
       "      <td>1.36058</td>\n",
       "      <td>0.87464</td>\n",
       "      <td>0.64938</td>\n",
       "      <td>0.48357</td>\n",
       "      <td>0.34139</td>\n",
       "      <td>2.49204</td>\n",
       "    </tr>\n",
       "    <tr>\n",
       "      <th>3</th>\n",
       "      <td>105.0</td>\n",
       "      <td>9.0</td>\n",
       "      <td>4</td>\n",
       "      <td>7.522</td>\n",
       "      <td>0.03880</td>\n",
       "      <td>1.45900</td>\n",
       "      <td>1.33095</td>\n",
       "      <td>0.88521</td>\n",
       "      <td>0.66973</td>\n",
       "      <td>0.36503</td>\n",
       "      <td>0.34699</td>\n",
       "      <td>2.46531</td>\n",
       "    </tr>\n",
       "    <tr>\n",
       "      <th>4</th>\n",
       "      <td>24.0</td>\n",
       "      <td>5.0</td>\n",
       "      <td>5</td>\n",
       "      <td>7.427</td>\n",
       "      <td>0.03553</td>\n",
       "      <td>1.32629</td>\n",
       "      <td>1.32261</td>\n",
       "      <td>0.90563</td>\n",
       "      <td>0.63297</td>\n",
       "      <td>0.32957</td>\n",
       "      <td>0.45811</td>\n",
       "      <td>2.45176</td>\n",
       "    </tr>\n",
       "    <tr>\n",
       "      <th>...</th>\n",
       "      <td>...</td>\n",
       "      <td>...</td>\n",
       "      <td>...</td>\n",
       "      <td>...</td>\n",
       "      <td>...</td>\n",
       "      <td>...</td>\n",
       "      <td>...</td>\n",
       "      <td>...</td>\n",
       "      <td>...</td>\n",
       "      <td>...</td>\n",
       "      <td>...</td>\n",
       "      <td>...</td>\n",
       "    </tr>\n",
       "    <tr>\n",
       "      <th>153</th>\n",
       "      <td>118.0</td>\n",
       "      <td>8.0</td>\n",
       "      <td>154</td>\n",
       "      <td>3.465</td>\n",
       "      <td>0.03464</td>\n",
       "      <td>0.22208</td>\n",
       "      <td>0.77370</td>\n",
       "      <td>0.42864</td>\n",
       "      <td>0.59201</td>\n",
       "      <td>0.55191</td>\n",
       "      <td>0.22628</td>\n",
       "      <td>0.67042</td>\n",
       "    </tr>\n",
       "    <tr>\n",
       "      <th>154</th>\n",
       "      <td>13.0</td>\n",
       "      <td>8.0</td>\n",
       "      <td>155</td>\n",
       "      <td>3.340</td>\n",
       "      <td>0.03656</td>\n",
       "      <td>0.28665</td>\n",
       "      <td>0.35386</td>\n",
       "      <td>0.31910</td>\n",
       "      <td>0.48450</td>\n",
       "      <td>0.08010</td>\n",
       "      <td>0.18260</td>\n",
       "      <td>1.63328</td>\n",
       "    </tr>\n",
       "    <tr>\n",
       "      <th>155</th>\n",
       "      <td>136.0</td>\n",
       "      <td>4.0</td>\n",
       "      <td>156</td>\n",
       "      <td>3.006</td>\n",
       "      <td>0.05015</td>\n",
       "      <td>0.66320</td>\n",
       "      <td>0.47489</td>\n",
       "      <td>0.72193</td>\n",
       "      <td>0.15684</td>\n",
       "      <td>0.18906</td>\n",
       "      <td>0.47179</td>\n",
       "      <td>0.32858</td>\n",
       "    </tr>\n",
       "    <tr>\n",
       "      <th>156</th>\n",
       "      <td>21.0</td>\n",
       "      <td>8.0</td>\n",
       "      <td>157</td>\n",
       "      <td>2.905</td>\n",
       "      <td>0.08658</td>\n",
       "      <td>0.01530</td>\n",
       "      <td>0.41587</td>\n",
       "      <td>0.22396</td>\n",
       "      <td>0.11850</td>\n",
       "      <td>0.10062</td>\n",
       "      <td>0.19727</td>\n",
       "      <td>1.83302</td>\n",
       "    </tr>\n",
       "    <tr>\n",
       "      <th>157</th>\n",
       "      <td>141.0</td>\n",
       "      <td>8.0</td>\n",
       "      <td>158</td>\n",
       "      <td>2.839</td>\n",
       "      <td>0.06727</td>\n",
       "      <td>0.20868</td>\n",
       "      <td>0.13995</td>\n",
       "      <td>0.28443</td>\n",
       "      <td>0.36453</td>\n",
       "      <td>0.10731</td>\n",
       "      <td>0.16681</td>\n",
       "      <td>1.56726</td>\n",
       "    </tr>\n",
       "  </tbody>\n",
       "</table>\n",
       "<p>158 rows × 12 columns</p>\n",
       "</div>"
      ],
      "text/plain": [
       "     Country  Region  Happiness Rank  Happiness Score  Standard Error  \\\n",
       "0      135.0     9.0               1            7.587         0.03411   \n",
       "1       58.0     9.0               2            7.561         0.04884   \n",
       "2       37.0     9.0               3            7.527         0.03328   \n",
       "3      105.0     9.0               4            7.522         0.03880   \n",
       "4       24.0     5.0               5            7.427         0.03553   \n",
       "..       ...     ...             ...              ...             ...   \n",
       "153    118.0     8.0             154            3.465         0.03464   \n",
       "154     13.0     8.0             155            3.340         0.03656   \n",
       "155    136.0     4.0             156            3.006         0.05015   \n",
       "156     21.0     8.0             157            2.905         0.08658   \n",
       "157    141.0     8.0             158            2.839         0.06727   \n",
       "\n",
       "     Economy (GDP per Capita)   Family  Health (Life Expectancy)  Freedom  \\\n",
       "0                     1.39651  1.34951                   0.94143  0.66557   \n",
       "1                     1.30232  1.40223                   0.94784  0.62877   \n",
       "2                     1.32548  1.36058                   0.87464  0.64938   \n",
       "3                     1.45900  1.33095                   0.88521  0.66973   \n",
       "4                     1.32629  1.32261                   0.90563  0.63297   \n",
       "..                        ...      ...                       ...      ...   \n",
       "153                   0.22208  0.77370                   0.42864  0.59201   \n",
       "154                   0.28665  0.35386                   0.31910  0.48450   \n",
       "155                   0.66320  0.47489                   0.72193  0.15684   \n",
       "156                   0.01530  0.41587                   0.22396  0.11850   \n",
       "157                   0.20868  0.13995                   0.28443  0.36453   \n",
       "\n",
       "     Trust (Government Corruption)  Generosity  Dystopia Residual  \n",
       "0                          0.41978     0.29678            2.51738  \n",
       "1                          0.14145     0.43630            2.70201  \n",
       "2                          0.48357     0.34139            2.49204  \n",
       "3                          0.36503     0.34699            2.46531  \n",
       "4                          0.32957     0.45811            2.45176  \n",
       "..                             ...         ...                ...  \n",
       "153                        0.55191     0.22628            0.67042  \n",
       "154                        0.08010     0.18260            1.63328  \n",
       "155                        0.18906     0.47179            0.32858  \n",
       "156                        0.10062     0.19727            1.83302  \n",
       "157                        0.10731     0.16681            1.56726  \n",
       "\n",
       "[158 rows x 12 columns]"
      ]
     },
     "execution_count": 149,
     "metadata": {},
     "output_type": "execute_result"
    }
   ],
   "source": [
    "df"
   ]
  },
  {
   "cell_type": "code",
   "execution_count": 150,
   "id": "63665f92",
   "metadata": {},
   "outputs": [
    {
     "data": {
      "text/plain": [
       "<AxesSubplot:>"
      ]
     },
     "execution_count": 150,
     "metadata": {},
     "output_type": "execute_result"
    },
    {
     "data": {
      "image/png": "[encoded data removed]",
      "text/plain": [
       "<Figure size 1584x504 with 2 Axes>"
      ]
     },
     "metadata": {
      "needs_background": "light"
     },
     "output_type": "display_data"
    }
   ],
   "source": [
    "#Describing data in heatmap\n",
    "import matplotlib.pyplot as plt\n",
    "plt.figure(figsize=(22,7))\n",
    "sns.heatmap(df.describe(),annot=True,linewidths=0.1,linecolor=\"black\",fmt=\"0.2f\")"
   ]
  },
  {
   "cell_type": "code",
   "execution_count": 151,
   "id": "55fcdf66",
   "metadata": {},
   "outputs": [
    {
     "data": {
      "text/plain": [
       "<AxesSubplot:>"
      ]
     },
     "execution_count": 151,
     "metadata": {},
     "output_type": "execute_result"
    },
    {
     "data": {
      "image/png": "[encoded data removed]",
      "text/plain": [
       "<Figure size 432x288 with 2 Axes>"
      ]
     },
     "metadata": {
      "needs_background": "light"
     },
     "output_type": "display_data"
    }
   ],
   "source": [
    "#Correlation in heatmap\n",
    "sns.heatmap(df.corr(),annot=True,linewidths=0.1,linecolor=\"black\",fmt=\"0.1f\")"
   ]
  },
  {
   "cell_type": "code",
   "execution_count": 152,
   "id": "4b146da2",
   "metadata": {},
   "outputs": [
    {
     "data": {
      "text/plain": [
       "Country                          0.083380\n",
       "Region                          -0.176791\n",
       "Happiness Rank                  -0.992105\n",
       "Happiness Score                  1.000000\n",
       "Standard Error                  -0.177254\n",
       "Economy (GDP per Capita)         0.780966\n",
       "Family                           0.740605\n",
       "Health (Life Expectancy)         0.724200\n",
       "Freedom                          0.568211\n",
       "Trust (Government Corruption)    0.395199\n",
       "Generosity                       0.180319\n",
       "Dystopia Residual                0.530474\n",
       "Name: Happiness Score, dtype: float64"
      ]
     },
     "execution_count": 152,
     "metadata": {},
     "output_type": "execute_result"
    }
   ],
   "source": [
    "#Economy (GDP per Capita) and Happiness Rank are highly correlated so deciding to drop Happiness Rank\n",
    "df.corr()['Happiness Score']"
   ]
  },
  {
   "cell_type": "code",
   "execution_count": 153,
   "id": "b2d9dfdf",
   "metadata": {},
   "outputs": [
    {
     "data": {
      "text/html": [
       "<div>\n",
       "<style scoped>\n",
       "    .dataframe tbody tr th:only-of-type {\n",
       "        vertical-align: middle;\n",
       "    }\n",
       "\n",
       "    .dataframe tbody tr th {\n",
       "        vertical-align: top;\n",
       "    }\n",
       "\n",
       "    .dataframe thead th {\n",
       "        text-align: right;\n",
       "    }\n",
       "</style>\n",
       "<table border=\"1\" class=\"dataframe\">\n",
       "  <thead>\n",
       "    <tr style=\"text-align: right;\">\n",
       "      <th></th>\n",
       "      <th>Region</th>\n",
       "      <th>Happiness Score</th>\n",
       "      <th>Standard Error</th>\n",
       "      <th>Economy (GDP per Capita)</th>\n",
       "      <th>Family</th>\n",
       "      <th>Health (Life Expectancy)</th>\n",
       "      <th>Freedom</th>\n",
       "      <th>Trust (Government Corruption)</th>\n",
       "      <th>Generosity</th>\n",
       "      <th>Dystopia Residual</th>\n",
       "    </tr>\n",
       "  </thead>\n",
       "  <tbody>\n",
       "    <tr>\n",
       "      <th>0</th>\n",
       "      <td>9.0</td>\n",
       "      <td>7.587</td>\n",
       "      <td>0.03411</td>\n",
       "      <td>1.39651</td>\n",
       "      <td>1.34951</td>\n",
       "      <td>0.94143</td>\n",
       "      <td>0.66557</td>\n",
       "      <td>0.41978</td>\n",
       "      <td>0.29678</td>\n",
       "      <td>2.51738</td>\n",
       "    </tr>\n",
       "    <tr>\n",
       "      <th>1</th>\n",
       "      <td>9.0</td>\n",
       "      <td>7.561</td>\n",
       "      <td>0.04884</td>\n",
       "      <td>1.30232</td>\n",
       "      <td>1.40223</td>\n",
       "      <td>0.94784</td>\n",
       "      <td>0.62877</td>\n",
       "      <td>0.14145</td>\n",
       "      <td>0.43630</td>\n",
       "      <td>2.70201</td>\n",
       "    </tr>\n",
       "    <tr>\n",
       "      <th>2</th>\n",
       "      <td>9.0</td>\n",
       "      <td>7.527</td>\n",
       "      <td>0.03328</td>\n",
       "      <td>1.32548</td>\n",
       "      <td>1.36058</td>\n",
       "      <td>0.87464</td>\n",
       "      <td>0.64938</td>\n",
       "      <td>0.48357</td>\n",
       "      <td>0.34139</td>\n",
       "      <td>2.49204</td>\n",
       "    </tr>\n",
       "    <tr>\n",
       "      <th>3</th>\n",
       "      <td>9.0</td>\n",
       "      <td>7.522</td>\n",
       "      <td>0.03880</td>\n",
       "      <td>1.45900</td>\n",
       "      <td>1.33095</td>\n",
       "      <td>0.88521</td>\n",
       "      <td>0.66973</td>\n",
       "      <td>0.36503</td>\n",
       "      <td>0.34699</td>\n",
       "      <td>2.46531</td>\n",
       "    </tr>\n",
       "    <tr>\n",
       "      <th>4</th>\n",
       "      <td>5.0</td>\n",
       "      <td>7.427</td>\n",
       "      <td>0.03553</td>\n",
       "      <td>1.32629</td>\n",
       "      <td>1.32261</td>\n",
       "      <td>0.90563</td>\n",
       "      <td>0.63297</td>\n",
       "      <td>0.32957</td>\n",
       "      <td>0.45811</td>\n",
       "      <td>2.45176</td>\n",
       "    </tr>\n",
       "    <tr>\n",
       "      <th>...</th>\n",
       "      <td>...</td>\n",
       "      <td>...</td>\n",
       "      <td>...</td>\n",
       "      <td>...</td>\n",
       "      <td>...</td>\n",
       "      <td>...</td>\n",
       "      <td>...</td>\n",
       "      <td>...</td>\n",
       "      <td>...</td>\n",
       "      <td>...</td>\n",
       "    </tr>\n",
       "    <tr>\n",
       "      <th>153</th>\n",
       "      <td>8.0</td>\n",
       "      <td>3.465</td>\n",
       "      <td>0.03464</td>\n",
       "      <td>0.22208</td>\n",
       "      <td>0.77370</td>\n",
       "      <td>0.42864</td>\n",
       "      <td>0.59201</td>\n",
       "      <td>0.55191</td>\n",
       "      <td>0.22628</td>\n",
       "      <td>0.67042</td>\n",
       "    </tr>\n",
       "    <tr>\n",
       "      <th>154</th>\n",
       "      <td>8.0</td>\n",
       "      <td>3.340</td>\n",
       "      <td>0.03656</td>\n",
       "      <td>0.28665</td>\n",
       "      <td>0.35386</td>\n",
       "      <td>0.31910</td>\n",
       "      <td>0.48450</td>\n",
       "      <td>0.08010</td>\n",
       "      <td>0.18260</td>\n",
       "      <td>1.63328</td>\n",
       "    </tr>\n",
       "    <tr>\n",
       "      <th>155</th>\n",
       "      <td>4.0</td>\n",
       "      <td>3.006</td>\n",
       "      <td>0.05015</td>\n",
       "      <td>0.66320</td>\n",
       "      <td>0.47489</td>\n",
       "      <td>0.72193</td>\n",
       "      <td>0.15684</td>\n",
       "      <td>0.18906</td>\n",
       "      <td>0.47179</td>\n",
       "      <td>0.32858</td>\n",
       "    </tr>\n",
       "    <tr>\n",
       "      <th>156</th>\n",
       "      <td>8.0</td>\n",
       "      <td>2.905</td>\n",
       "      <td>0.08658</td>\n",
       "      <td>0.01530</td>\n",
       "      <td>0.41587</td>\n",
       "      <td>0.22396</td>\n",
       "      <td>0.11850</td>\n",
       "      <td>0.10062</td>\n",
       "      <td>0.19727</td>\n",
       "      <td>1.83302</td>\n",
       "    </tr>\n",
       "    <tr>\n",
       "      <th>157</th>\n",
       "      <td>8.0</td>\n",
       "      <td>2.839</td>\n",
       "      <td>0.06727</td>\n",
       "      <td>0.20868</td>\n",
       "      <td>0.13995</td>\n",
       "      <td>0.28443</td>\n",
       "      <td>0.36453</td>\n",
       "      <td>0.10731</td>\n",
       "      <td>0.16681</td>\n",
       "      <td>1.56726</td>\n",
       "    </tr>\n",
       "  </tbody>\n",
       "</table>\n",
       "<p>158 rows × 10 columns</p>\n",
       "</div>"
      ],
      "text/plain": [
       "     Region  Happiness Score  Standard Error  Economy (GDP per Capita)  \\\n",
       "0       9.0            7.587         0.03411                   1.39651   \n",
       "1       9.0            7.561         0.04884                   1.30232   \n",
       "2       9.0            7.527         0.03328                   1.32548   \n",
       "3       9.0            7.522         0.03880                   1.45900   \n",
       "4       5.0            7.427         0.03553                   1.32629   \n",
       "..      ...              ...             ...                       ...   \n",
       "153     8.0            3.465         0.03464                   0.22208   \n",
       "154     8.0            3.340         0.03656                   0.28665   \n",
       "155     4.0            3.006         0.05015                   0.66320   \n",
       "156     8.0            2.905         0.08658                   0.01530   \n",
       "157     8.0            2.839         0.06727                   0.20868   \n",
       "\n",
       "      Family  Health (Life Expectancy)  Freedom  \\\n",
       "0    1.34951                   0.94143  0.66557   \n",
       "1    1.40223                   0.94784  0.62877   \n",
       "2    1.36058                   0.87464  0.64938   \n",
       "3    1.33095                   0.88521  0.66973   \n",
       "4    1.32261                   0.90563  0.63297   \n",
       "..       ...                       ...      ...   \n",
       "153  0.77370                   0.42864  0.59201   \n",
       "154  0.35386                   0.31910  0.48450   \n",
       "155  0.47489                   0.72193  0.15684   \n",
       "156  0.41587                   0.22396  0.11850   \n",
       "157  0.13995                   0.28443  0.36453   \n",
       "\n",
       "     Trust (Government Corruption)  Generosity  Dystopia Residual  \n",
       "0                          0.41978     0.29678            2.51738  \n",
       "1                          0.14145     0.43630            2.70201  \n",
       "2                          0.48357     0.34139            2.49204  \n",
       "3                          0.36503     0.34699            2.46531  \n",
       "4                          0.32957     0.45811            2.45176  \n",
       "..                             ...         ...                ...  \n",
       "153                        0.55191     0.22628            0.67042  \n",
       "154                        0.08010     0.18260            1.63328  \n",
       "155                        0.18906     0.47179            0.32858  \n",
       "156                        0.10062     0.19727            1.83302  \n",
       "157                        0.10731     0.16681            1.56726  \n",
       "\n",
       "[158 rows x 10 columns]"
      ]
     },
     "execution_count": 153,
     "metadata": {},
     "output_type": "execute_result"
    }
   ],
   "source": [
    "#Dropping Country as it has very low correlation with Happiness Score and also Hapiness Rank and this is highly correlated with GDP per Capita\n",
    "df1=df.drop([\"Country\",\"Happiness Rank\"],axis=1)\n",
    "df1\n"
   ]
  },
  {
   "cell_type": "code",
   "execution_count": 154,
   "id": "4b1656cc",
   "metadata": {},
   "outputs": [],
   "source": [
    "# We have seen data has outliers so need to remove\n",
    "from scipy.stats import zscore\n",
    "import numpy as np"
   ]
  },
  {
   "cell_type": "code",
   "execution_count": 155,
   "id": "f912f42d",
   "metadata": {},
   "outputs": [],
   "source": [
    "z=np.abs(zscore(df1))"
   ]
  },
  {
   "cell_type": "code",
   "execution_count": 156,
   "id": "29211e68",
   "metadata": {},
   "outputs": [
    {
     "data": {
      "text/plain": [
       "(158, 10)"
      ]
     },
     "execution_count": 156,
     "metadata": {},
     "output_type": "execute_result"
    }
   ],
   "source": [
    "z.shape"
   ]
  },
  {
   "cell_type": "code",
   "execution_count": 157,
   "id": "26179acd",
   "metadata": {},
   "outputs": [
    {
     "name": "stdout",
     "output_type": "stream",
     "text": [
      "(array([ 27,  40,  64, 115, 128, 147, 153, 155, 157], dtype=int64), array([7, 2, 2, 2, 8, 4, 7, 9, 4], dtype=int64))\n"
     ]
    }
   ],
   "source": [
    "threshold=3\n",
    "print(np.where(z>3))"
   ]
  },
  {
   "cell_type": "code",
   "execution_count": 158,
   "id": "12bb2e4e",
   "metadata": {},
   "outputs": [
    {
     "data": {
      "text/plain": [
       "9"
      ]
     },
     "execution_count": 158,
     "metadata": {},
     "output_type": "execute_result"
    }
   ],
   "source": [
    "len(np.where(z>3)[0])"
   ]
  },
  {
   "cell_type": "code",
   "execution_count": 159,
   "id": "6dc0521b",
   "metadata": {},
   "outputs": [],
   "source": [
    "df_new=df1[(z<3).all(axis=1)]"
   ]
  },
  {
   "cell_type": "code",
   "execution_count": 160,
   "id": "cc8e07e4",
   "metadata": {},
   "outputs": [
    {
     "name": "stdout",
     "output_type": "stream",
     "text": [
      "old dataframe (158, 10)\n",
      "old dataframe (149, 10)\n",
      "total dropped 9\n"
     ]
    }
   ],
   "source": [
    "print(\"old dataframe\",df1.shape)\n",
    "print(\"old dataframe\",df_new.shape)\n",
    "print(\"total dropped\",df1.shape[0]-df_new.shape[0])"
   ]
  },
  {
   "cell_type": "code",
   "execution_count": 161,
   "id": "1d9d3b33",
   "metadata": {},
   "outputs": [
    {
     "name": "stdout",
     "output_type": "stream",
     "text": [
      "5.69620253164557 %\n"
     ]
    }
   ],
   "source": [
    "loss_percent=(158-149)/158*100\n",
    "print(loss_percent,\"%\")"
   ]
  },
  {
   "cell_type": "code",
   "execution_count": 162,
   "id": "b6094ab6",
   "metadata": {},
   "outputs": [
    {
     "data": {
      "text/plain": [
       "Region                          -0.096985\n",
       "Happiness Score                  0.169740\n",
       "Standard Error                   1.243048\n",
       "Economy (GDP per Capita)        -0.390657\n",
       "Family                          -0.811340\n",
       "Health (Life Expectancy)        -0.747711\n",
       "Freedom                         -0.400867\n",
       "Trust (Government Corruption)    1.272530\n",
       "Generosity                       0.654710\n",
       "Dystopia Residual               -0.021144\n",
       "dtype: float64"
      ]
     },
     "execution_count": 162,
     "metadata": {},
     "output_type": "execute_result"
    }
   ],
   "source": [
    "df_new.skew()"
   ]
  },
  {
   "cell_type": "code",
   "execution_count": 163,
   "id": "48906105",
   "metadata": {},
   "outputs": [],
   "source": [
    "# We will break data into input and output and then remove skewness\n",
    "inpt=df_new.drop(\"Happiness Score\",axis=1)\n",
    "target=df_new.iloc[:,1:2]"
   ]
  },
  {
   "cell_type": "code",
   "execution_count": 164,
   "id": "f3b0e9b7",
   "metadata": {},
   "outputs": [],
   "source": [
    "#Transform data to remove skewness\n",
    "from sklearn.preprocessing import power_transform"
   ]
  },
  {
   "cell_type": "code",
   "execution_count": 165,
   "id": "3e0f6828",
   "metadata": {},
   "outputs": [
    {
     "data": {
      "text/plain": [
       "0   -0.222589\n",
       "1   -0.031216\n",
       "2   -0.140644\n",
       "3   -0.148528\n",
       "4   -0.190663\n",
       "5   -0.076489\n",
       "6    0.174593\n",
       "7    0.025172\n",
       "8    0.014748\n",
       "dtype: float64"
      ]
     },
     "execution_count": 165,
     "metadata": {},
     "output_type": "execute_result"
    }
   ],
   "source": [
    "inpt=power_transform(inpt,method='yeo-johnson')\n",
    "pd.DataFrame(inpt).skew()"
   ]
  },
  {
   "cell_type": "code",
   "execution_count": 166,
   "id": "76af6eee",
   "metadata": {},
   "outputs": [
    {
     "data": {
      "text/plain": [
       "array([[ 1.23451354, -0.95033703,  1.49245411, ...,  1.81762514,\n",
       "         0.65957855,  0.75525527],\n",
       "       [ 1.23451354,  0.37856182,  1.19406711, ...,  0.32967608,\n",
       "         1.56260401,  1.11116834],\n",
       "       [ 1.23451354, -1.04140135,  1.26661161, ...,  1.95339957,\n",
       "         0.97722591,  0.70649452],\n",
       "       ...,\n",
       "       [ 0.66673577, -1.32081011, -1.36521585, ..., -0.19284339,\n",
       "         1.13425805, -0.32711524],\n",
       "       [ 0.95527966, -0.69272644, -1.43304072, ..., -0.4344978 ,\n",
       "        -0.31207994, -0.93216364],\n",
       "       [ 0.95527966,  2.17876604, -1.93874732, ..., -0.14727363,\n",
       "        -0.17248608, -0.55359236]])"
      ]
     },
     "execution_count": 166,
     "metadata": {},
     "output_type": "execute_result"
    }
   ],
   "source": [
    "from sklearn.preprocessing import StandardScaler\n",
    "sc=StandardScaler()\n",
    "inpt=sc.fit_transform(inpt)\n",
    "inpt"
   ]
  },
  {
   "cell_type": "code",
   "execution_count": 167,
   "id": "89ff4535",
   "metadata": {},
   "outputs": [],
   "source": [
    "from sklearn.linear_model import LinearRegression\n",
    "lr=LinearRegression()\n",
    "from sklearn.metrics import r2_score\n",
    "from sklearn.model_selection import train_test_split\n",
    "import warnings\n",
    "warnings.filterwarnings('ignore')"
   ]
  },
  {
   "cell_type": "code",
   "execution_count": 168,
   "id": "07ae0556",
   "metadata": {},
   "outputs": [
    {
     "name": "stdout",
     "output_type": "stream",
     "text": [
      "at random state0,the training accuracy is:- 0.9951293562737327\n",
      "at random state0,the testing accuracy is:- 0.995931379752898\n",
      "\n",
      "\n",
      "at random state1,the training accuracy is:- 0.9948703091759132\n",
      "at random state1,the testing accuracy is:- 0.9973524376788055\n",
      "\n",
      "\n",
      "at random state2,the training accuracy is:- 0.9956135822054418\n",
      "at random state2,the testing accuracy is:- 0.9935109606444624\n",
      "\n",
      "\n",
      "at random state3,the training accuracy is:- 0.9953970699372042\n",
      "at random state3,the testing accuracy is:- 0.9941857997637883\n",
      "\n",
      "\n",
      "at random state4,the training accuracy is:- 0.9949937523132236\n",
      "at random state4,the testing accuracy is:- 0.9952123180881637\n",
      "\n",
      "\n",
      "at random state5,the training accuracy is:- 0.9957074024471709\n",
      "at random state5,the testing accuracy is:- 0.9923759099099871\n",
      "\n",
      "\n",
      "at random state6,the training accuracy is:- 0.9964440295935055\n",
      "at random state6,the testing accuracy is:- 0.9892794187336061\n",
      "\n",
      "\n",
      "at random state7,the training accuracy is:- 0.9960744214900451\n",
      "at random state7,the testing accuracy is:- 0.9882815169967559\n",
      "\n",
      "\n",
      "at random state8,the training accuracy is:- 0.9953233991701477\n",
      "at random state8,the testing accuracy is:- 0.9944352278175377\n",
      "\n",
      "\n",
      "at random state9,the training accuracy is:- 0.9956463130388308\n",
      "at random state9,the testing accuracy is:- 0.9919205548191754\n",
      "\n",
      "\n",
      "at random state10,the training accuracy is:- 0.9956234960132907\n",
      "at random state10,the testing accuracy is:- 0.9935877849832915\n",
      "\n",
      "\n",
      "at random state11,the training accuracy is:- 0.9947703737759702\n",
      "at random state11,the testing accuracy is:- 0.9969092204393687\n",
      "\n",
      "\n",
      "at random state12,the training accuracy is:- 0.9952005982841184\n",
      "at random state12,the testing accuracy is:- 0.9949125580506857\n",
      "\n",
      "\n",
      "at random state13,the training accuracy is:- 0.9954948494130268\n",
      "at random state13,the testing accuracy is:- 0.9936302895198594\n",
      "\n",
      "\n",
      "at random state14,the training accuracy is:- 0.994840324768221\n",
      "at random state14,the testing accuracy is:- 0.9958393799885247\n",
      "\n",
      "\n",
      "at random state15,the training accuracy is:- 0.9948565500718887\n",
      "at random state15,the testing accuracy is:- 0.9967256008262884\n",
      "\n",
      "\n",
      "at random state16,the training accuracy is:- 0.9957000442019482\n",
      "at random state16,the testing accuracy is:- 0.9928556316842142\n",
      "\n",
      "\n",
      "at random state17,the training accuracy is:- 0.9953347942408293\n",
      "at random state17,the testing accuracy is:- 0.9945303308055076\n",
      "\n",
      "\n",
      "at random state18,the training accuracy is:- 0.9953711940402336\n",
      "at random state18,the testing accuracy is:- 0.9942597019644324\n",
      "\n",
      "\n",
      "at random state19,the training accuracy is:- 0.9956922047652214\n",
      "at random state19,the testing accuracy is:- 0.9926393258395663\n",
      "\n",
      "\n",
      "at random state20,the training accuracy is:- 0.995367286421789\n",
      "at random state20,the testing accuracy is:- 0.9945900682134511\n",
      "\n",
      "\n",
      "at random state21,the training accuracy is:- 0.9957689822229474\n",
      "at random state21,the testing accuracy is:- 0.9914686932185537\n",
      "\n",
      "\n",
      "at random state22,the training accuracy is:- 0.9962081982681275\n",
      "at random state22,the testing accuracy is:- 0.9881322458146118\n",
      "\n",
      "\n",
      "at random state23,the training accuracy is:- 0.995350136977092\n",
      "at random state23,the testing accuracy is:- 0.9945518995618544\n",
      "\n",
      "\n",
      "at random state24,the training accuracy is:- 0.9948892119146221\n",
      "at random state24,the testing accuracy is:- 0.9965298805865553\n",
      "\n",
      "\n",
      "at random state25,the training accuracy is:- 0.9953633228522236\n",
      "at random state25,the testing accuracy is:- 0.9943342620963141\n",
      "\n",
      "\n",
      "at random state26,the training accuracy is:- 0.9954557952689734\n",
      "at random state26,the testing accuracy is:- 0.994361670928938\n",
      "\n",
      "\n",
      "at random state27,the training accuracy is:- 0.995301503349825\n",
      "at random state27,the testing accuracy is:- 0.9946385435971897\n",
      "\n",
      "\n",
      "at random state28,the training accuracy is:- 0.995445026801833\n",
      "at random state28,the testing accuracy is:- 0.9943962925454518\n",
      "\n",
      "\n",
      "at random state29,the training accuracy is:- 0.9954286642674471\n",
      "at random state29,the testing accuracy is:- 0.9930259357231679\n",
      "\n",
      "\n",
      "at random state30,the training accuracy is:- 0.9948924580630667\n",
      "at random state30,the testing accuracy is:- 0.9955462754667312\n",
      "\n",
      "\n",
      "at random state31,the training accuracy is:- 0.9951527001153845\n",
      "at random state31,the testing accuracy is:- 0.9954883156471378\n",
      "\n",
      "\n",
      "at random state32,the training accuracy is:- 0.9952395745396337\n",
      "at random state32,the testing accuracy is:- 0.9946225886895287\n",
      "\n",
      "\n",
      "at random state33,the training accuracy is:- 0.9957627884254028\n",
      "at random state33,the testing accuracy is:- 0.992928171183411\n",
      "\n",
      "\n",
      "at random state34,the training accuracy is:- 0.9955039604998194\n",
      "at random state34,the testing accuracy is:- 0.9927287348658134\n",
      "\n",
      "\n",
      "at random state35,the training accuracy is:- 0.9955575544956853\n",
      "at random state35,the testing accuracy is:- 0.9935993248775136\n",
      "\n",
      "\n",
      "at random state36,the training accuracy is:- 0.9949196689026653\n",
      "at random state36,the testing accuracy is:- 0.9965286114956996\n",
      "\n",
      "\n",
      "at random state37,the training accuracy is:- 0.9942123035876722\n",
      "at random state37,the testing accuracy is:- 0.9981139092680581\n",
      "\n",
      "\n",
      "at random state38,the training accuracy is:- 0.9954374840112153\n",
      "at random state38,the testing accuracy is:- 0.9935050538890668\n",
      "\n",
      "\n",
      "at random state39,the training accuracy is:- 0.9950844460432826\n",
      "at random state39,the testing accuracy is:- 0.9957121017675495\n",
      "\n",
      "\n",
      "at random state40,the training accuracy is:- 0.9952815926519109\n",
      "at random state40,the testing accuracy is:- 0.9949514084810566\n",
      "\n",
      "\n",
      "at random state41,the training accuracy is:- 0.9958287114980652\n",
      "at random state41,the testing accuracy is:- 0.9917208028250453\n",
      "\n",
      "\n",
      "at random state42,the training accuracy is:- 0.9949403163725664\n",
      "at random state42,the testing accuracy is:- 0.996388876863455\n",
      "\n",
      "\n",
      "at random state43,the training accuracy is:- 0.9949643141655187\n",
      "at random state43,the testing accuracy is:- 0.9955780929530748\n",
      "\n",
      "\n",
      "at random state44,the training accuracy is:- 0.9958539610414222\n",
      "at random state44,the testing accuracy is:- 0.9925523988397917\n",
      "\n",
      "\n",
      "at random state45,the training accuracy is:- 0.9951854593634156\n",
      "at random state45,the testing accuracy is:- 0.9949060694409632\n",
      "\n",
      "\n",
      "at random state46,the training accuracy is:- 0.9956143280277399\n",
      "at random state46,the testing accuracy is:- 0.9926309933074257\n",
      "\n",
      "\n",
      "at random state47,the training accuracy is:- 0.9947359395817686\n",
      "at random state47,the testing accuracy is:- 0.9965407831149621\n",
      "\n",
      "\n",
      "at random state48,the training accuracy is:- 0.9958504976881305\n",
      "at random state48,the testing accuracy is:- 0.9921311759256096\n",
      "\n",
      "\n",
      "at random state49,the training accuracy is:- 0.9948676142986396\n",
      "at random state49,the testing accuracy is:- 0.9966288703999492\n",
      "\n",
      "\n",
      "at random state50,the training accuracy is:- 0.9954122702663506\n",
      "at random state50,the testing accuracy is:- 0.9937558788755482\n",
      "\n",
      "\n",
      "at random state51,the training accuracy is:- 0.9954441230707303\n",
      "at random state51,the testing accuracy is:- 0.9942927442727443\n",
      "\n",
      "\n",
      "at random state52,the training accuracy is:- 0.9958592684253507\n",
      "at random state52,the testing accuracy is:- 0.991708958032083\n",
      "\n",
      "\n",
      "at random state53,the training accuracy is:- 0.9956121362241478\n",
      "at random state53,the testing accuracy is:- 0.9922268451205523\n",
      "\n",
      "\n",
      "at random state54,the training accuracy is:- 0.9955735474530838\n",
      "at random state54,the testing accuracy is:- 0.9924734916836101\n",
      "\n",
      "\n",
      "at random state55,the training accuracy is:- 0.995876925233311\n",
      "at random state55,the testing accuracy is:- 0.9926478047255669\n",
      "\n",
      "\n",
      "at random state56,the training accuracy is:- 0.9947604367693095\n",
      "at random state56,the testing accuracy is:- 0.9966781276575334\n",
      "\n",
      "\n",
      "at random state57,the training accuracy is:- 0.9957108731612346\n",
      "at random state57,the testing accuracy is:- 0.9916674724304424\n",
      "\n",
      "\n",
      "at random state58,the training accuracy is:- 0.9949344638898949\n",
      "at random state58,the testing accuracy is:- 0.9964923181598472\n",
      "\n",
      "\n",
      "at random state59,the training accuracy is:- 0.995096300910539\n",
      "at random state59,the testing accuracy is:- 0.9958148571280507\n",
      "\n",
      "\n",
      "at random state60,the training accuracy is:- 0.9943972426758774\n",
      "at random state60,the testing accuracy is:- 0.998275027711325\n",
      "\n",
      "\n",
      "at random state61,the training accuracy is:- 0.9958596187745948\n",
      "at random state61,the testing accuracy is:- 0.991961467486984\n",
      "\n",
      "\n",
      "at random state62,the training accuracy is:- 0.995496707434773\n",
      "at random state62,the testing accuracy is:- 0.9936073544502134\n",
      "\n",
      "\n",
      "at random state63,the training accuracy is:- 0.9952699811737453\n",
      "at random state63,the testing accuracy is:- 0.9945105442787499\n",
      "\n",
      "\n",
      "at random state64,the training accuracy is:- 0.9958889998227002\n",
      "at random state64,the testing accuracy is:- 0.9917905869219659\n",
      "\n",
      "\n",
      "at random state65,the training accuracy is:- 0.9953744032817918\n",
      "at random state65,the testing accuracy is:- 0.9944078731089293\n",
      "\n",
      "\n",
      "at random state66,the training accuracy is:- 0.9948544130912385\n",
      "at random state66,the testing accuracy is:- 0.9966951166608837\n",
      "\n",
      "\n",
      "at random state67,the training accuracy is:- 0.9958465172715507\n",
      "at random state67,the testing accuracy is:- 0.9912671355071626\n",
      "\n",
      "\n",
      "at random state68,the training accuracy is:- 0.9947420703484626\n",
      "at random state68,the testing accuracy is:- 0.996349578625592\n",
      "\n",
      "\n",
      "at random state69,the training accuracy is:- 0.9951848849120364\n",
      "at random state69,the testing accuracy is:- 0.9955069203941843\n",
      "\n",
      "\n",
      "at random state70,the training accuracy is:- 0.9951756441187206\n",
      "at random state70,the testing accuracy is:- 0.9954822861977658\n",
      "\n",
      "\n",
      "at random state71,the training accuracy is:- 0.9951830029250056\n",
      "at random state71,the testing accuracy is:- 0.9953494542006852\n",
      "\n",
      "\n",
      "at random state72,the training accuracy is:- 0.995912038643485\n",
      "at random state72,the testing accuracy is:- 0.9929615653651042\n",
      "\n",
      "\n",
      "at random state73,the training accuracy is:- 0.9956751593810802\n",
      "at random state73,the testing accuracy is:- 0.9932334425223174\n",
      "\n",
      "\n",
      "at random state74,the training accuracy is:- 0.9952325756936302\n",
      "at random state74,the testing accuracy is:- 0.9951863255634357\n",
      "\n",
      "\n",
      "at random state75,the training accuracy is:- 0.9953351683492034\n",
      "at random state75,the testing accuracy is:- 0.9944843539226108\n",
      "\n",
      "\n",
      "at random state76,the training accuracy is:- 0.9958050906292248\n"
     ]
    },
    {
     "name": "stdout",
     "output_type": "stream",
     "text": [
      "at random state76,the testing accuracy is:- 0.9910695959522503\n",
      "\n",
      "\n",
      "at random state77,the training accuracy is:- 0.9948037818916745\n",
      "at random state77,the testing accuracy is:- 0.9969282757233618\n",
      "\n",
      "\n",
      "at random state78,the training accuracy is:- 0.9954675512925139\n",
      "at random state78,the testing accuracy is:- 0.9930824440222276\n",
      "\n",
      "\n",
      "at random state79,the training accuracy is:- 0.9951159362403045\n",
      "at random state79,the testing accuracy is:- 0.9955892315625163\n",
      "\n",
      "\n",
      "at random state80,the training accuracy is:- 0.9955462592298668\n",
      "at random state80,the testing accuracy is:- 0.9929724032442039\n",
      "\n",
      "\n",
      "at random state81,the training accuracy is:- 0.9948526442200712\n",
      "at random state81,the testing accuracy is:- 0.9964571014860477\n",
      "\n",
      "\n",
      "at random state82,the training accuracy is:- 0.9959264145930177\n",
      "at random state82,the testing accuracy is:- 0.9912115567681761\n",
      "\n",
      "\n",
      "at random state83,the training accuracy is:- 0.995690927536038\n",
      "at random state83,the testing accuracy is:- 0.9923146496141898\n",
      "\n",
      "\n",
      "at random state84,the training accuracy is:- 0.994582319843424\n",
      "at random state84,the testing accuracy is:- 0.9974032339329469\n",
      "\n",
      "\n",
      "at random state85,the training accuracy is:- 0.9961777632718173\n",
      "at random state85,the testing accuracy is:- 0.9901855152038134\n",
      "\n",
      "\n",
      "at random state86,the training accuracy is:- 0.9952239302087058\n",
      "at random state86,the testing accuracy is:- 0.9953186880508444\n",
      "\n",
      "\n",
      "at random state87,the training accuracy is:- 0.9949182533891354\n",
      "at random state87,the testing accuracy is:- 0.9958613354644937\n",
      "\n",
      "\n",
      "at random state88,the training accuracy is:- 0.9955222911170074\n",
      "at random state88,the testing accuracy is:- 0.9936290238605912\n",
      "\n",
      "\n",
      "at random state89,the training accuracy is:- 0.9951246102159621\n",
      "at random state89,the testing accuracy is:- 0.9952556947221564\n",
      "\n",
      "\n",
      "at random state90,the training accuracy is:- 0.9955931363899538\n",
      "at random state90,the testing accuracy is:- 0.9928631311622049\n",
      "\n",
      "\n",
      "at random state91,the training accuracy is:- 0.9948738089203396\n",
      "at random state91,the testing accuracy is:- 0.9968438724327023\n",
      "\n",
      "\n",
      "at random state92,the training accuracy is:- 0.9963886385185151\n",
      "at random state92,the testing accuracy is:- 0.9898094680180811\n",
      "\n",
      "\n",
      "at random state93,the training accuracy is:- 0.9959327574901288\n",
      "at random state93,the testing accuracy is:- 0.9920839507803246\n",
      "\n",
      "\n",
      "at random state94,the training accuracy is:- 0.9949930502726958\n",
      "at random state94,the testing accuracy is:- 0.996427171509577\n",
      "\n",
      "\n",
      "at random state95,the training accuracy is:- 0.9949019962361143\n",
      "at random state95,the testing accuracy is:- 0.9962504016149132\n",
      "\n",
      "\n",
      "at random state96,the training accuracy is:- 0.9955692715242342\n",
      "at random state96,the testing accuracy is:- 0.9929956201325023\n",
      "\n",
      "\n",
      "at random state97,the training accuracy is:- 0.9947669490412683\n",
      "at random state97,the testing accuracy is:- 0.9965468400326469\n",
      "\n",
      "\n",
      "at random state98,the training accuracy is:- 0.9960277316330205\n",
      "at random state98,the testing accuracy is:- 0.9899180963794577\n",
      "\n",
      "\n",
      "at random state99,the training accuracy is:- 0.9959395214799642\n",
      "at random state99,the testing accuracy is:- 0.991640857493109\n",
      "\n",
      "\n"
     ]
    }
   ],
   "source": [
    "#finding best random state\n",
    "for i in range(0,100):\n",
    "    inpt_train,inpt_test,target_train,target_test=train_test_split(inpt,target,test_size=0.2,random_state=i)\n",
    "    lr.fit(inpt_train,target_train)\n",
    "    pred_train=lr.predict(inpt_train)\n",
    "    pred_test=lr.predict(inpt_test)\n",
    "    print(f\"at random state{i},the training accuracy is:- {r2_score(target_train,pred_train)}\")\n",
    "    print(f\"at random state{i},the testing accuracy is:- {r2_score(target_test,pred_test)}\")\n",
    "    print(\"\\n\")\n"
   ]
  },
  {
   "cell_type": "code",
   "execution_count": 169,
   "id": "98ca579c",
   "metadata": {},
   "outputs": [
    {
     "name": "stdout",
     "output_type": "stream",
     "text": [
      "0.9949125580506857\n"
     ]
    }
   ],
   "source": [
    "#We will go with random state 12\n",
    "inpt_train,inpt_test,target_train,target_test=train_test_split(inpt,target,test_size=0.2,random_state=12)\n",
    "lr.fit(inpt_train,target_train)\n",
    "pred_test=lr.predict(inpt_test)\n",
    "print(r2_score(target_test,pred_test))"
   ]
  },
  {
   "cell_type": "code",
   "execution_count": 170,
   "id": "02a2481b",
   "metadata": {},
   "outputs": [],
   "source": [
    "#above gives 99% accuracy\n",
    "import pickle"
   ]
  },
  {
   "cell_type": "code",
   "execution_count": 171,
   "id": "d1cf02e5",
   "metadata": {},
   "outputs": [],
   "source": [
    "filename='hapinessscore.pkl'\n",
    "pickle.dump(lr,open(filename,'wb'))"
   ]
  },
  {
   "cell_type": "code",
   "execution_count": 172,
   "id": "abbc06d3",
   "metadata": {},
   "outputs": [
    {
     "name": "stdout",
     "output_type": "stream",
     "text": [
      "0.9949125580506857\n"
     ]
    }
   ],
   "source": [
    "#Conclusion\n",
    "loaded_model=pickle.load"
   ]
  },
  {
   "cell_type": "code",
   "execution_count": null,
   "id": "79ec3ff5",
   "metadata": {},
   "outputs": [],
   "source": [
    "#not working for me ,need help\n",
    "conclusion=pd.DataFrame(lr.predict(inpt_test),target_test)\n",
    "conclusion"
   ]
  },
  {
   "cell_type": "code",
   "execution_count": 183,
   "id": "dac89c93",
   "metadata": {},
   "outputs": [
    {
     "data": {
      "text/plain": [
       "array([[6.09120049],\n",
       "       [3.60807182],\n",
       "       [6.25269   ],\n",
       "       [4.83100735],\n",
       "       [3.73133824],\n",
       "       [4.42970316],\n",
       "       [3.53820494],\n",
       "       [6.05313622],\n",
       "       [3.95037705],\n",
       "       [6.73748571],\n",
       "       [5.48654697],\n",
       "       [6.96396336],\n",
       "       [6.48163139],\n",
       "       [6.82610675],\n",
       "       [5.90111968],\n",
       "       [4.5497305 ],\n",
       "       [4.68392341],\n",
       "       [5.65484722],\n",
       "       [7.32743105],\n",
       "       [5.26537902],\n",
       "       [7.71603102],\n",
       "       [5.30589123],\n",
       "       [4.19571023],\n",
       "       [5.11001211],\n",
       "       [6.82328442],\n",
       "       [3.70804943],\n",
       "       [5.27590327],\n",
       "       [5.10961138],\n",
       "       [7.31463696],\n",
       "       [6.03736033]])"
      ]
     },
     "execution_count": 183,
     "metadata": {},
     "output_type": "execute_result"
    }
   ],
   "source": [
    "lr.predict(inpt_test)"
   ]
  },
  {
   "cell_type": "code",
   "execution_count": 184,
   "id": "f2331f16",
   "metadata": {},
   "outputs": [
    {
     "data": {
      "text/html": [
       "<div>\n",
       "<style scoped>\n",
       "    .dataframe tbody tr th:only-of-type {\n",
       "        vertical-align: middle;\n",
       "    }\n",
       "\n",
       "    .dataframe tbody tr th {\n",
       "        vertical-align: top;\n",
       "    }\n",
       "\n",
       "    .dataframe thead th {\n",
       "        text-align: right;\n",
       "    }\n",
       "</style>\n",
       "<table border=\"1\" class=\"dataframe\">\n",
       "  <thead>\n",
       "    <tr style=\"text-align: right;\">\n",
       "      <th></th>\n",
       "      <th>Happiness Score</th>\n",
       "    </tr>\n",
       "  </thead>\n",
       "  <tbody>\n",
       "    <tr>\n",
       "      <th>42</th>\n",
       "      <td>6.123</td>\n",
       "    </tr>\n",
       "    <tr>\n",
       "      <th>151</th>\n",
       "      <td>3.587</td>\n",
       "    </tr>\n",
       "    <tr>\n",
       "      <th>39</th>\n",
       "      <td>6.269</td>\n",
       "    </tr>\n",
       "    <tr>\n",
       "      <th>102</th>\n",
       "      <td>4.839</td>\n",
       "    </tr>\n",
       "    <tr>\n",
       "      <th>148</th>\n",
       "      <td>3.667</td>\n",
       "    </tr>\n",
       "    <tr>\n",
       "      <th>120</th>\n",
       "      <td>4.514</td>\n",
       "    </tr>\n",
       "    <tr>\n",
       "      <th>154</th>\n",
       "      <td>3.340</td>\n",
       "    </tr>\n",
       "    <tr>\n",
       "      <th>41</th>\n",
       "      <td>6.130</td>\n",
       "    </tr>\n",
       "    <tr>\n",
       "      <th>140</th>\n",
       "      <td>3.931</td>\n",
       "    </tr>\n",
       "    <tr>\n",
       "      <th>23</th>\n",
       "      <td>6.798</td>\n",
       "    </tr>\n",
       "    <tr>\n",
       "      <th>69</th>\n",
       "      <td>5.548</td>\n",
       "    </tr>\n",
       "    <tr>\n",
       "      <th>16</th>\n",
       "      <td>6.946</td>\n",
       "    </tr>\n",
       "    <tr>\n",
       "      <th>32</th>\n",
       "      <td>6.477</td>\n",
       "    </tr>\n",
       "    <tr>\n",
       "      <th>21</th>\n",
       "      <td>6.853</td>\n",
       "    </tr>\n",
       "    <tr>\n",
       "      <th>52</th>\n",
       "      <td>5.878</td>\n",
       "    </tr>\n",
       "    <tr>\n",
       "      <th>130</th>\n",
       "      <td>4.292</td>\n",
       "    </tr>\n",
       "    <tr>\n",
       "      <th>111</th>\n",
       "      <td>4.677</td>\n",
       "    </tr>\n",
       "    <tr>\n",
       "      <th>63</th>\n",
       "      <td>5.716</td>\n",
       "    </tr>\n",
       "    <tr>\n",
       "      <th>6</th>\n",
       "      <td>7.378</td>\n",
       "    </tr>\n",
       "    <tr>\n",
       "      <th>75</th>\n",
       "      <td>5.332</td>\n",
       "    </tr>\n",
       "    <tr>\n",
       "      <th>1</th>\n",
       "      <td>7.561</td>\n",
       "    </tr>\n",
       "    <tr>\n",
       "      <th>74</th>\n",
       "      <td>5.360</td>\n",
       "    </tr>\n",
       "    <tr>\n",
       "      <th>131</th>\n",
       "      <td>4.271</td>\n",
       "    </tr>\n",
       "    <tr>\n",
       "      <th>81</th>\n",
       "      <td>5.192</td>\n",
       "    </tr>\n",
       "    <tr>\n",
       "      <th>24</th>\n",
       "      <td>6.786</td>\n",
       "    </tr>\n",
       "    <tr>\n",
       "      <th>150</th>\n",
       "      <td>3.655</td>\n",
       "    </tr>\n",
       "    <tr>\n",
       "      <th>80</th>\n",
       "      <td>5.194</td>\n",
       "    </tr>\n",
       "    <tr>\n",
       "      <th>93</th>\n",
       "      <td>4.971</td>\n",
       "    </tr>\n",
       "    <tr>\n",
       "      <th>11</th>\n",
       "      <td>7.226</td>\n",
       "    </tr>\n",
       "    <tr>\n",
       "      <th>43</th>\n",
       "      <td>6.003</td>\n",
       "    </tr>\n",
       "  </tbody>\n",
       "</table>\n",
       "</div>"
      ],
      "text/plain": [
       "     Happiness Score\n",
       "42             6.123\n",
       "151            3.587\n",
       "39             6.269\n",
       "102            4.839\n",
       "148            3.667\n",
       "120            4.514\n",
       "154            3.340\n",
       "41             6.130\n",
       "140            3.931\n",
       "23             6.798\n",
       "69             5.548\n",
       "16             6.946\n",
       "32             6.477\n",
       "21             6.853\n",
       "52             5.878\n",
       "130            4.292\n",
       "111            4.677\n",
       "63             5.716\n",
       "6              7.378\n",
       "75             5.332\n",
       "1              7.561\n",
       "74             5.360\n",
       "131            4.271\n",
       "81             5.192\n",
       "24             6.786\n",
       "150            3.655\n",
       "80             5.194\n",
       "93             4.971\n",
       "11             7.226\n",
       "43             6.003"
      ]
     },
     "execution_count": 184,
     "metadata": {},
     "output_type": "execute_result"
    }
   ],
   "source": [
    "target_test"
   ]
  },
  {
   "cell_type": "code",
   "execution_count": null,
   "id": "e7be2bae",
   "metadata": {},
   "outputs": [],
   "source": []
  }
 ],
 "metadata": {
  "kernelspec": {
   "display_name": "Python 3 (ipykernel)",
   "language": "python",
   "name": "python3"
  },
  "language_info": {
   "codemirror_mode": {
    "name": "ipython",
    "version": 3
   },
   "file_extension": ".py",
   "mimetype": "text/x-python",
   "name": "python",
   "nbconvert_exporter": "python",
   "pygments_lexer": "ipython3",
   "version": "3.9.7"
  }
 },
 "nbformat": 4,
 "nbformat_minor": 5
}
