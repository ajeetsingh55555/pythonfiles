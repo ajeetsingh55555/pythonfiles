{
 "cells": [
  {
   "cell_type": "code",
   "execution_count": 1,
   "id": "eed2a215",
   "metadata": {},
   "outputs": [],
   "source": [
    "import pandas as pd\n",
    "import numpy as np\n",
    "import seaborn as sns\n",
    "import warnings\n",
    "warnings.filterwarnings('ignore')"
   ]
  },
  {
   "cell_type": "code",
   "execution_count": 2,
   "id": "24ad38d5",
   "metadata": {},
   "outputs": [],
   "source": [
    "#data downloaded from github as getting space error while fetching direct from site\n",
    "df=pd.read_csv(\"https://raw.githubusercontent.com/dsrscientist/dataset3/main/Salaries.csv\")"
   ]
  },
  {
   "cell_type": "code",
   "execution_count": 3,
   "id": "f90ef41c",
   "metadata": {},
   "outputs": [
    {
     "data": {
      "text/plain": [
       "Index(['rank', 'discipline', 'yrs.since.phd', 'yrs.service', 'sex', 'salary'], dtype='object')"
      ]
     },
     "execution_count": 3,
     "metadata": {},
     "output_type": "execute_result"
    }
   ],
   "source": [
    "df.columns"
   ]
  },
  {
   "cell_type": "code",
   "execution_count": 4,
   "id": "e2f9f2a5",
   "metadata": {},
   "outputs": [
    {
     "data": {
      "text/plain": [
       "<AxesSubplot:>"
      ]
     },
     "execution_count": 4,
     "metadata": {},
     "output_type": "execute_result"
    },
    {
     "data": {
      "image/png": "[encoded data removed]",
      "text/plain": [
       "<Figure size 432x288 with 2 Axes>"
      ]
     },
     "metadata": {
      "needs_background": "light"
     },
     "output_type": "display_data"
    }
   ],
   "source": [
    "sns.heatmap(df.isnull())\n",
    "#there is no null"
   ]
  },
  {
   "cell_type": "code",
   "execution_count": 5,
   "id": "2d4276aa",
   "metadata": {},
   "outputs": [
    {
     "data": {
      "text/plain": [
       "rank             0\n",
       "discipline       0\n",
       "yrs.since.phd    0\n",
       "yrs.service      0\n",
       "sex              0\n",
       "salary           0\n",
       "dtype: int64"
      ]
     },
     "execution_count": 5,
     "metadata": {},
     "output_type": "execute_result"
    }
   ],
   "source": [
    "df.isnull().sum()\n",
    "# all data type look fine"
   ]
  },
  {
   "cell_type": "code",
   "execution_count": 6,
   "id": "46d368d1",
   "metadata": {},
   "outputs": [
    {
     "data": {
      "text/plain": [
       "rank             object\n",
       "discipline       object\n",
       "yrs.since.phd     int64\n",
       "yrs.service       int64\n",
       "sex              object\n",
       "salary            int64\n",
       "dtype: object"
      ]
     },
     "execution_count": 6,
     "metadata": {},
     "output_type": "execute_result"
    }
   ],
   "source": [
    "df.dtypes"
   ]
  },
  {
   "cell_type": "code",
   "execution_count": 7,
   "id": "03365506",
   "metadata": {},
   "outputs": [
    {
     "data": {
      "text/html": [
       "<div>\n",
       "<style scoped>\n",
       "    .dataframe tbody tr th:only-of-type {\n",
       "        vertical-align: middle;\n",
       "    }\n",
       "\n",
       "    .dataframe tbody tr th {\n",
       "        vertical-align: top;\n",
       "    }\n",
       "\n",
       "    .dataframe thead th {\n",
       "        text-align: right;\n",
       "    }\n",
       "</style>\n",
       "<table border=\"1\" class=\"dataframe\">\n",
       "  <thead>\n",
       "    <tr style=\"text-align: right;\">\n",
       "      <th></th>\n",
       "      <th>yrs.since.phd</th>\n",
       "      <th>yrs.service</th>\n",
       "      <th>salary</th>\n",
       "    </tr>\n",
       "  </thead>\n",
       "  <tbody>\n",
       "    <tr>\n",
       "      <th>count</th>\n",
       "      <td>397.000000</td>\n",
       "      <td>397.000000</td>\n",
       "      <td>397.000000</td>\n",
       "    </tr>\n",
       "    <tr>\n",
       "      <th>mean</th>\n",
       "      <td>22.314861</td>\n",
       "      <td>17.614610</td>\n",
       "      <td>113706.458438</td>\n",
       "    </tr>\n",
       "    <tr>\n",
       "      <th>std</th>\n",
       "      <td>12.887003</td>\n",
       "      <td>13.006024</td>\n",
       "      <td>30289.038695</td>\n",
       "    </tr>\n",
       "    <tr>\n",
       "      <th>min</th>\n",
       "      <td>1.000000</td>\n",
       "      <td>0.000000</td>\n",
       "      <td>57800.000000</td>\n",
       "    </tr>\n",
       "    <tr>\n",
       "      <th>25%</th>\n",
       "      <td>12.000000</td>\n",
       "      <td>7.000000</td>\n",
       "      <td>91000.000000</td>\n",
       "    </tr>\n",
       "    <tr>\n",
       "      <th>50%</th>\n",
       "      <td>21.000000</td>\n",
       "      <td>16.000000</td>\n",
       "      <td>107300.000000</td>\n",
       "    </tr>\n",
       "    <tr>\n",
       "      <th>75%</th>\n",
       "      <td>32.000000</td>\n",
       "      <td>27.000000</td>\n",
       "      <td>134185.000000</td>\n",
       "    </tr>\n",
       "    <tr>\n",
       "      <th>max</th>\n",
       "      <td>56.000000</td>\n",
       "      <td>60.000000</td>\n",
       "      <td>231545.000000</td>\n",
       "    </tr>\n",
       "  </tbody>\n",
       "</table>\n",
       "</div>"
      ],
      "text/plain": [
       "       yrs.since.phd  yrs.service         salary\n",
       "count     397.000000   397.000000     397.000000\n",
       "mean       22.314861    17.614610  113706.458438\n",
       "std        12.887003    13.006024   30289.038695\n",
       "min         1.000000     0.000000   57800.000000\n",
       "25%        12.000000     7.000000   91000.000000\n",
       "50%        21.000000    16.000000  107300.000000\n",
       "75%        32.000000    27.000000  134185.000000\n",
       "max        56.000000    60.000000  231545.000000"
      ]
     },
     "execution_count": 7,
     "metadata": {},
     "output_type": "execute_result"
    }
   ],
   "source": [
    "df.describe()"
   ]
  },
  {
   "cell_type": "code",
   "execution_count": 8,
   "id": "90c15720",
   "metadata": {},
   "outputs": [
    {
     "data": {
      "text/html": [
       "<div>\n",
       "<style scoped>\n",
       "    .dataframe tbody tr th:only-of-type {\n",
       "        vertical-align: middle;\n",
       "    }\n",
       "\n",
       "    .dataframe tbody tr th {\n",
       "        vertical-align: top;\n",
       "    }\n",
       "\n",
       "    .dataframe thead th {\n",
       "        text-align: right;\n",
       "    }\n",
       "</style>\n",
       "<table border=\"1\" class=\"dataframe\">\n",
       "  <thead>\n",
       "    <tr style=\"text-align: right;\">\n",
       "      <th></th>\n",
       "      <th>rank</th>\n",
       "      <th>discipline</th>\n",
       "    </tr>\n",
       "  </thead>\n",
       "  <tbody>\n",
       "    <tr>\n",
       "      <th>0</th>\n",
       "      <td>Prof</td>\n",
       "      <td>B</td>\n",
       "    </tr>\n",
       "    <tr>\n",
       "      <th>1</th>\n",
       "      <td>Prof</td>\n",
       "      <td>B</td>\n",
       "    </tr>\n",
       "    <tr>\n",
       "      <th>2</th>\n",
       "      <td>AsstProf</td>\n",
       "      <td>B</td>\n",
       "    </tr>\n",
       "    <tr>\n",
       "      <th>3</th>\n",
       "      <td>Prof</td>\n",
       "      <td>B</td>\n",
       "    </tr>\n",
       "    <tr>\n",
       "      <th>4</th>\n",
       "      <td>Prof</td>\n",
       "      <td>B</td>\n",
       "    </tr>\n",
       "    <tr>\n",
       "      <th>...</th>\n",
       "      <td>...</td>\n",
       "      <td>...</td>\n",
       "    </tr>\n",
       "    <tr>\n",
       "      <th>392</th>\n",
       "      <td>Prof</td>\n",
       "      <td>A</td>\n",
       "    </tr>\n",
       "    <tr>\n",
       "      <th>393</th>\n",
       "      <td>Prof</td>\n",
       "      <td>A</td>\n",
       "    </tr>\n",
       "    <tr>\n",
       "      <th>394</th>\n",
       "      <td>Prof</td>\n",
       "      <td>A</td>\n",
       "    </tr>\n",
       "    <tr>\n",
       "      <th>395</th>\n",
       "      <td>Prof</td>\n",
       "      <td>A</td>\n",
       "    </tr>\n",
       "    <tr>\n",
       "      <th>396</th>\n",
       "      <td>AsstProf</td>\n",
       "      <td>A</td>\n",
       "    </tr>\n",
       "  </tbody>\n",
       "</table>\n",
       "<p>397 rows × 2 columns</p>\n",
       "</div>"
      ],
      "text/plain": [
       "         rank discipline\n",
       "0        Prof          B\n",
       "1        Prof          B\n",
       "2    AsstProf          B\n",
       "3        Prof          B\n",
       "4        Prof          B\n",
       "..        ...        ...\n",
       "392      Prof          A\n",
       "393      Prof          A\n",
       "394      Prof          A\n",
       "395      Prof          A\n",
       "396  AsstProf          A\n",
       "\n",
       "[397 rows x 2 columns]"
      ]
     },
     "execution_count": 8,
     "metadata": {},
     "output_type": "execute_result"
    }
   ],
   "source": [
    "#Making dataframe of ordinal data\n",
    "df_vis_nom=df[[\"rank\",\"discipline\"]].copy()\n",
    "df_vis_nom"
   ]
  },
  {
   "cell_type": "code",
   "execution_count": 9,
   "id": "7ead1231",
   "metadata": {},
   "outputs": [
    {
     "name": "stdout",
     "output_type": "stream",
     "text": [
      "Prof         266\n",
      "AsstProf      67\n",
      "AssocProf     64\n",
      "Name: rank, dtype: int64\n"
     ]
    },
    {
     "data": {
      "image/png": "[encoded data removed]",
      "text/plain": [
       "<Figure size 432x288 with 1 Axes>"
      ]
     },
     "metadata": {
      "needs_background": "light"
     },
     "output_type": "display_data"
    }
   ],
   "source": [
    "#Making dataframe of ordinal data\n",
    "import seaborn as sns\n",
    "ax=sns.countplot(x=\"rank\",data=df_vis_nom)\n",
    "print(df_vis_nom[\"rank\"].value_counts())"
   ]
  },
  {
   "cell_type": "code",
   "execution_count": 10,
   "id": "1134132d",
   "metadata": {},
   "outputs": [
    {
     "name": "stdout",
     "output_type": "stream",
     "text": [
      "B    216\n",
      "A    181\n",
      "Name: discipline, dtype: int64\n"
     ]
    },
    {
     "data": {
      "image/png": "[encoded data removed]",
      "text/plain": [
       "<Figure size 432x288 with 1 Axes>"
      ]
     },
     "metadata": {
      "needs_background": "light"
     },
     "output_type": "display_data"
    }
   ],
   "source": [
    "import seaborn as sns\n",
    "ax=sns.countplot(x=\"discipline\",data=df_vis_nom)\n",
    "print(df_vis_nom[\"discipline\"].value_counts())"
   ]
  },
  {
   "cell_type": "code",
   "execution_count": 11,
   "id": "f8015632",
   "metadata": {},
   "outputs": [
    {
     "data": {
      "text/html": [
       "<div>\n",
       "<style scoped>\n",
       "    .dataframe tbody tr th:only-of-type {\n",
       "        vertical-align: middle;\n",
       "    }\n",
       "\n",
       "    .dataframe tbody tr th {\n",
       "        vertical-align: top;\n",
       "    }\n",
       "\n",
       "    .dataframe thead th {\n",
       "        text-align: right;\n",
       "    }\n",
       "</style>\n",
       "<table border=\"1\" class=\"dataframe\">\n",
       "  <thead>\n",
       "    <tr style=\"text-align: right;\">\n",
       "      <th></th>\n",
       "      <th>yrs.since.phd</th>\n",
       "      <th>yrs.service</th>\n",
       "    </tr>\n",
       "  </thead>\n",
       "  <tbody>\n",
       "    <tr>\n",
       "      <th>0</th>\n",
       "      <td>19</td>\n",
       "      <td>18</td>\n",
       "    </tr>\n",
       "    <tr>\n",
       "      <th>1</th>\n",
       "      <td>20</td>\n",
       "      <td>16</td>\n",
       "    </tr>\n",
       "    <tr>\n",
       "      <th>2</th>\n",
       "      <td>4</td>\n",
       "      <td>3</td>\n",
       "    </tr>\n",
       "    <tr>\n",
       "      <th>3</th>\n",
       "      <td>45</td>\n",
       "      <td>39</td>\n",
       "    </tr>\n",
       "    <tr>\n",
       "      <th>4</th>\n",
       "      <td>40</td>\n",
       "      <td>41</td>\n",
       "    </tr>\n",
       "    <tr>\n",
       "      <th>...</th>\n",
       "      <td>...</td>\n",
       "      <td>...</td>\n",
       "    </tr>\n",
       "    <tr>\n",
       "      <th>392</th>\n",
       "      <td>33</td>\n",
       "      <td>30</td>\n",
       "    </tr>\n",
       "    <tr>\n",
       "      <th>393</th>\n",
       "      <td>31</td>\n",
       "      <td>19</td>\n",
       "    </tr>\n",
       "    <tr>\n",
       "      <th>394</th>\n",
       "      <td>42</td>\n",
       "      <td>25</td>\n",
       "    </tr>\n",
       "    <tr>\n",
       "      <th>395</th>\n",
       "      <td>25</td>\n",
       "      <td>15</td>\n",
       "    </tr>\n",
       "    <tr>\n",
       "      <th>396</th>\n",
       "      <td>8</td>\n",
       "      <td>4</td>\n",
       "    </tr>\n",
       "  </tbody>\n",
       "</table>\n",
       "<p>397 rows × 2 columns</p>\n",
       "</div>"
      ],
      "text/plain": [
       "     yrs.since.phd  yrs.service\n",
       "0               19           18\n",
       "1               20           16\n",
       "2                4            3\n",
       "3               45           39\n",
       "4               40           41\n",
       "..             ...          ...\n",
       "392             33           30\n",
       "393             31           19\n",
       "394             42           25\n",
       "395             25           15\n",
       "396              8            4\n",
       "\n",
       "[397 rows x 2 columns]"
      ]
     },
     "execution_count": 11,
     "metadata": {},
     "output_type": "execute_result"
    }
   ],
   "source": [
    "#Making dataframe of ordinal data\n",
    "df_vis_ord=df[[\"yrs.since.phd\",\"yrs.service\"]].copy()\n",
    "df_vis_ord\n",
    "\n"
   ]
  },
  {
   "cell_type": "code",
   "execution_count": 12,
   "id": "524fd264",
   "metadata": {},
   "outputs": [
    {
     "data": {
      "text/plain": [
       "<AxesSubplot:xlabel='yrs.since.phd', ylabel='Density'>"
      ]
     },
     "execution_count": 12,
     "metadata": {},
     "output_type": "execute_result"
    },
    {
     "data": {
      "image/png": "[encoded data removed]",
      "text/plain": [
       "<Figure size 432x288 with 1 Axes>"
      ]
     },
     "metadata": {
      "needs_background": "light"
     },
     "output_type": "display_data"
    }
   ],
   "source": [
    "#checking ditribution of ordinal columns\n",
    "df_vis_ord\n",
    "sns.distplot(df_vis_ord[\"yrs.since.phd\"],kde=True)"
   ]
  },
  {
   "cell_type": "code",
   "execution_count": 13,
   "id": "1b8b7e3f",
   "metadata": {},
   "outputs": [
    {
     "data": {
      "text/plain": [
       "<AxesSubplot:xlabel='yrs.service', ylabel='Density'>"
      ]
     },
     "execution_count": 13,
     "metadata": {},
     "output_type": "execute_result"
    },
    {
     "data": {
      "image/png": "[encoded data removed]",
      "text/plain": [
       "<Figure size 432x288 with 1 Axes>"
      ]
     },
     "metadata": {
      "needs_background": "light"
     },
     "output_type": "display_data"
    }
   ],
   "source": [
    "sns.distplot(df_vis_ord[\"yrs.service\"],kde=True)"
   ]
  },
  {
   "cell_type": "code",
   "execution_count": 14,
   "id": "2f3e5dbc",
   "metadata": {},
   "outputs": [],
   "source": [
    "#Above shows data distributed not optimal and has outliers\n",
    "# First we will use data encloding for converting string values to numeric for object datatypes\n",
    "from sklearn.preprocessing import OrdinalEncoder\n",
    "enc=OrdinalEncoder()"
   ]
  },
  {
   "cell_type": "code",
   "execution_count": 15,
   "id": "1ce188b0",
   "metadata": {},
   "outputs": [],
   "source": [
    "for i in df.columns:\n",
    "    if df[i].dtypes==\"object\":\n",
    "        df[i]=enc.fit_transform(df[i].values.reshape(-1,1))\n",
    "        "
   ]
  },
  {
   "cell_type": "code",
   "execution_count": 16,
   "id": "b2cf9417",
   "metadata": {},
   "outputs": [
    {
     "data": {
      "text/html": [
       "<div>\n",
       "<style scoped>\n",
       "    .dataframe tbody tr th:only-of-type {\n",
       "        vertical-align: middle;\n",
       "    }\n",
       "\n",
       "    .dataframe tbody tr th {\n",
       "        vertical-align: top;\n",
       "    }\n",
       "\n",
       "    .dataframe thead th {\n",
       "        text-align: right;\n",
       "    }\n",
       "</style>\n",
       "<table border=\"1\" class=\"dataframe\">\n",
       "  <thead>\n",
       "    <tr style=\"text-align: right;\">\n",
       "      <th></th>\n",
       "      <th>rank</th>\n",
       "      <th>discipline</th>\n",
       "      <th>yrs.since.phd</th>\n",
       "      <th>yrs.service</th>\n",
       "      <th>sex</th>\n",
       "      <th>salary</th>\n",
       "    </tr>\n",
       "  </thead>\n",
       "  <tbody>\n",
       "    <tr>\n",
       "      <th>0</th>\n",
       "      <td>2.0</td>\n",
       "      <td>1.0</td>\n",
       "      <td>19</td>\n",
       "      <td>18</td>\n",
       "      <td>1.0</td>\n",
       "      <td>139750</td>\n",
       "    </tr>\n",
       "    <tr>\n",
       "      <th>1</th>\n",
       "      <td>2.0</td>\n",
       "      <td>1.0</td>\n",
       "      <td>20</td>\n",
       "      <td>16</td>\n",
       "      <td>1.0</td>\n",
       "      <td>173200</td>\n",
       "    </tr>\n",
       "    <tr>\n",
       "      <th>2</th>\n",
       "      <td>1.0</td>\n",
       "      <td>1.0</td>\n",
       "      <td>4</td>\n",
       "      <td>3</td>\n",
       "      <td>1.0</td>\n",
       "      <td>79750</td>\n",
       "    </tr>\n",
       "    <tr>\n",
       "      <th>3</th>\n",
       "      <td>2.0</td>\n",
       "      <td>1.0</td>\n",
       "      <td>45</td>\n",
       "      <td>39</td>\n",
       "      <td>1.0</td>\n",
       "      <td>115000</td>\n",
       "    </tr>\n",
       "    <tr>\n",
       "      <th>4</th>\n",
       "      <td>2.0</td>\n",
       "      <td>1.0</td>\n",
       "      <td>40</td>\n",
       "      <td>41</td>\n",
       "      <td>1.0</td>\n",
       "      <td>141500</td>\n",
       "    </tr>\n",
       "    <tr>\n",
       "      <th>...</th>\n",
       "      <td>...</td>\n",
       "      <td>...</td>\n",
       "      <td>...</td>\n",
       "      <td>...</td>\n",
       "      <td>...</td>\n",
       "      <td>...</td>\n",
       "    </tr>\n",
       "    <tr>\n",
       "      <th>392</th>\n",
       "      <td>2.0</td>\n",
       "      <td>0.0</td>\n",
       "      <td>33</td>\n",
       "      <td>30</td>\n",
       "      <td>1.0</td>\n",
       "      <td>103106</td>\n",
       "    </tr>\n",
       "    <tr>\n",
       "      <th>393</th>\n",
       "      <td>2.0</td>\n",
       "      <td>0.0</td>\n",
       "      <td>31</td>\n",
       "      <td>19</td>\n",
       "      <td>1.0</td>\n",
       "      <td>150564</td>\n",
       "    </tr>\n",
       "    <tr>\n",
       "      <th>394</th>\n",
       "      <td>2.0</td>\n",
       "      <td>0.0</td>\n",
       "      <td>42</td>\n",
       "      <td>25</td>\n",
       "      <td>1.0</td>\n",
       "      <td>101738</td>\n",
       "    </tr>\n",
       "    <tr>\n",
       "      <th>395</th>\n",
       "      <td>2.0</td>\n",
       "      <td>0.0</td>\n",
       "      <td>25</td>\n",
       "      <td>15</td>\n",
       "      <td>1.0</td>\n",
       "      <td>95329</td>\n",
       "    </tr>\n",
       "    <tr>\n",
       "      <th>396</th>\n",
       "      <td>1.0</td>\n",
       "      <td>0.0</td>\n",
       "      <td>8</td>\n",
       "      <td>4</td>\n",
       "      <td>1.0</td>\n",
       "      <td>81035</td>\n",
       "    </tr>\n",
       "  </tbody>\n",
       "</table>\n",
       "<p>397 rows × 6 columns</p>\n",
       "</div>"
      ],
      "text/plain": [
       "     rank  discipline  yrs.since.phd  yrs.service  sex  salary\n",
       "0     2.0         1.0             19           18  1.0  139750\n",
       "1     2.0         1.0             20           16  1.0  173200\n",
       "2     1.0         1.0              4            3  1.0   79750\n",
       "3     2.0         1.0             45           39  1.0  115000\n",
       "4     2.0         1.0             40           41  1.0  141500\n",
       "..    ...         ...            ...          ...  ...     ...\n",
       "392   2.0         0.0             33           30  1.0  103106\n",
       "393   2.0         0.0             31           19  1.0  150564\n",
       "394   2.0         0.0             42           25  1.0  101738\n",
       "395   2.0         0.0             25           15  1.0   95329\n",
       "396   1.0         0.0              8            4  1.0   81035\n",
       "\n",
       "[397 rows x 6 columns]"
      ]
     },
     "execution_count": 16,
     "metadata": {},
     "output_type": "execute_result"
    }
   ],
   "source": [
    "df"
   ]
  },
  {
   "cell_type": "code",
   "execution_count": 17,
   "id": "63665f92",
   "metadata": {},
   "outputs": [
    {
     "data": {
      "text/plain": [
       "<AxesSubplot:>"
      ]
     },
     "execution_count": 17,
     "metadata": {},
     "output_type": "execute_result"
    },
    {
     "data": {
      "image/png": "[encoded data removed]",
      "text/plain": [
       "<Figure size 1584x504 with 2 Axes>"
      ]
     },
     "metadata": {
      "needs_background": "light"
     },
     "output_type": "display_data"
    }
   ],
   "source": [
    "#Describing data in heatmap\n",
    "import matplotlib.pyplot as plt\n",
    "plt.figure(figsize=(22,7))\n",
    "sns.heatmap(df.describe(),annot=True,linewidths=0.1,linecolor=\"black\",fmt=\"0.2f\")"
   ]
  },
  {
   "cell_type": "code",
   "execution_count": 18,
   "id": "55fcdf66",
   "metadata": {},
   "outputs": [
    {
     "data": {
      "text/plain": [
       "<AxesSubplot:>"
      ]
     },
     "execution_count": 18,
     "metadata": {},
     "output_type": "execute_result"
    },
    {
     "data": {
      "image/png": "[encoded data removed]",
      "text/plain": [
       "<Figure size 432x288 with 2 Axes>"
      ]
     },
     "metadata": {
      "needs_background": "light"
     },
     "output_type": "display_data"
    }
   ],
   "source": [
    "#Correlation in heatmap\n",
    "sns.heatmap(df.corr(),annot=True,linewidths=0.1,linecolor=\"black\",fmt=\"0.1f\")"
   ]
  },
  {
   "cell_type": "code",
   "execution_count": 19,
   "id": "4b146da2",
   "metadata": {},
   "outputs": [
    {
     "data": {
      "text/html": [
       "<div>\n",
       "<style scoped>\n",
       "    .dataframe tbody tr th:only-of-type {\n",
       "        vertical-align: middle;\n",
       "    }\n",
       "\n",
       "    .dataframe tbody tr th {\n",
       "        vertical-align: top;\n",
       "    }\n",
       "\n",
       "    .dataframe thead th {\n",
       "        text-align: right;\n",
       "    }\n",
       "</style>\n",
       "<table border=\"1\" class=\"dataframe\">\n",
       "  <thead>\n",
       "    <tr style=\"text-align: right;\">\n",
       "      <th></th>\n",
       "      <th>rank</th>\n",
       "      <th>discipline</th>\n",
       "      <th>yrs.since.phd</th>\n",
       "      <th>yrs.service</th>\n",
       "      <th>salary</th>\n",
       "    </tr>\n",
       "  </thead>\n",
       "  <tbody>\n",
       "    <tr>\n",
       "      <th>0</th>\n",
       "      <td>2.0</td>\n",
       "      <td>1.0</td>\n",
       "      <td>19</td>\n",
       "      <td>18</td>\n",
       "      <td>139750</td>\n",
       "    </tr>\n",
       "    <tr>\n",
       "      <th>1</th>\n",
       "      <td>2.0</td>\n",
       "      <td>1.0</td>\n",
       "      <td>20</td>\n",
       "      <td>16</td>\n",
       "      <td>173200</td>\n",
       "    </tr>\n",
       "    <tr>\n",
       "      <th>2</th>\n",
       "      <td>1.0</td>\n",
       "      <td>1.0</td>\n",
       "      <td>4</td>\n",
       "      <td>3</td>\n",
       "      <td>79750</td>\n",
       "    </tr>\n",
       "    <tr>\n",
       "      <th>3</th>\n",
       "      <td>2.0</td>\n",
       "      <td>1.0</td>\n",
       "      <td>45</td>\n",
       "      <td>39</td>\n",
       "      <td>115000</td>\n",
       "    </tr>\n",
       "    <tr>\n",
       "      <th>4</th>\n",
       "      <td>2.0</td>\n",
       "      <td>1.0</td>\n",
       "      <td>40</td>\n",
       "      <td>41</td>\n",
       "      <td>141500</td>\n",
       "    </tr>\n",
       "    <tr>\n",
       "      <th>...</th>\n",
       "      <td>...</td>\n",
       "      <td>...</td>\n",
       "      <td>...</td>\n",
       "      <td>...</td>\n",
       "      <td>...</td>\n",
       "    </tr>\n",
       "    <tr>\n",
       "      <th>392</th>\n",
       "      <td>2.0</td>\n",
       "      <td>0.0</td>\n",
       "      <td>33</td>\n",
       "      <td>30</td>\n",
       "      <td>103106</td>\n",
       "    </tr>\n",
       "    <tr>\n",
       "      <th>393</th>\n",
       "      <td>2.0</td>\n",
       "      <td>0.0</td>\n",
       "      <td>31</td>\n",
       "      <td>19</td>\n",
       "      <td>150564</td>\n",
       "    </tr>\n",
       "    <tr>\n",
       "      <th>394</th>\n",
       "      <td>2.0</td>\n",
       "      <td>0.0</td>\n",
       "      <td>42</td>\n",
       "      <td>25</td>\n",
       "      <td>101738</td>\n",
       "    </tr>\n",
       "    <tr>\n",
       "      <th>395</th>\n",
       "      <td>2.0</td>\n",
       "      <td>0.0</td>\n",
       "      <td>25</td>\n",
       "      <td>15</td>\n",
       "      <td>95329</td>\n",
       "    </tr>\n",
       "    <tr>\n",
       "      <th>396</th>\n",
       "      <td>1.0</td>\n",
       "      <td>0.0</td>\n",
       "      <td>8</td>\n",
       "      <td>4</td>\n",
       "      <td>81035</td>\n",
       "    </tr>\n",
       "  </tbody>\n",
       "</table>\n",
       "<p>397 rows × 5 columns</p>\n",
       "</div>"
      ],
      "text/plain": [
       "     rank  discipline  yrs.since.phd  yrs.service  salary\n",
       "0     2.0         1.0             19           18  139750\n",
       "1     2.0         1.0             20           16  173200\n",
       "2     1.0         1.0              4            3   79750\n",
       "3     2.0         1.0             45           39  115000\n",
       "4     2.0         1.0             40           41  141500\n",
       "..    ...         ...            ...          ...     ...\n",
       "392   2.0         0.0             33           30  103106\n",
       "393   2.0         0.0             31           19  150564\n",
       "394   2.0         0.0             42           25  101738\n",
       "395   2.0         0.0             25           15   95329\n",
       "396   1.0         0.0              8            4   81035\n",
       "\n",
       "[397 rows x 5 columns]"
      ]
     },
     "execution_count": 19,
     "metadata": {},
     "output_type": "execute_result"
    }
   ],
   "source": [
    "#Sex is very low correlated with Salary , will drop\n",
    "df1=df.drop(\"sex\",axis=1)\n",
    "df1"
   ]
  },
  {
   "cell_type": "code",
   "execution_count": 20,
   "id": "4b1656cc",
   "metadata": {},
   "outputs": [],
   "source": [
    "# We have seen data has outliers so need to remove\n",
    "from scipy.stats import zscore\n",
    "import numpy as np"
   ]
  },
  {
   "cell_type": "code",
   "execution_count": 21,
   "id": "f912f42d",
   "metadata": {},
   "outputs": [],
   "source": [
    "z=np.abs(zscore(df1))"
   ]
  },
  {
   "cell_type": "code",
   "execution_count": 22,
   "id": "29211e68",
   "metadata": {},
   "outputs": [
    {
     "data": {
      "text/plain": [
       "(397, 5)"
      ]
     },
     "execution_count": 22,
     "metadata": {},
     "output_type": "execute_result"
    }
   ],
   "source": [
    "z.shape"
   ]
  },
  {
   "cell_type": "code",
   "execution_count": 23,
   "id": "26179acd",
   "metadata": {},
   "outputs": [
    {
     "name": "stdout",
     "output_type": "stream",
     "text": [
      "(array([ 43, 131, 330, 364], dtype=int64), array([4, 3, 3, 4], dtype=int64))\n"
     ]
    }
   ],
   "source": [
    "threshold=3\n",
    "print(np.where(z>3))"
   ]
  },
  {
   "cell_type": "code",
   "execution_count": 24,
   "id": "12bb2e4e",
   "metadata": {},
   "outputs": [
    {
     "data": {
      "text/plain": [
       "4"
      ]
     },
     "execution_count": 24,
     "metadata": {},
     "output_type": "execute_result"
    }
   ],
   "source": [
    "len(np.where(z>3)[0])"
   ]
  },
  {
   "cell_type": "code",
   "execution_count": 25,
   "id": "6dc0521b",
   "metadata": {},
   "outputs": [],
   "source": [
    "df_new=df1[(z<3).all(axis=1)]"
   ]
  },
  {
   "cell_type": "code",
   "execution_count": 26,
   "id": "cc8e07e4",
   "metadata": {},
   "outputs": [
    {
     "name": "stdout",
     "output_type": "stream",
     "text": [
      "old dataframe (397, 5)\n",
      "new dataframe (393, 5)\n",
      "total dropped 4\n"
     ]
    }
   ],
   "source": [
    "print(\"old dataframe\",df1.shape)\n",
    "print(\"new dataframe\",df_new.shape)\n",
    "print(\"total dropped\",df1.shape[0]-df_new.shape[0])"
   ]
  },
  {
   "cell_type": "code",
   "execution_count": 27,
   "id": "1d9d3b33",
   "metadata": {},
   "outputs": [
    {
     "name": "stdout",
     "output_type": "stream",
     "text": [
      "1.0075566750629723 %\n"
     ]
    }
   ],
   "source": [
    "loss_percent=(397-393)/397*100\n",
    "print(loss_percent,\"%\")"
   ]
  },
  {
   "cell_type": "code",
   "execution_count": 28,
   "id": "b6094ab6",
   "metadata": {},
   "outputs": [
    {
     "data": {
      "text/plain": [
       "rank            -1.135734\n",
       "discipline      -0.179514\n",
       "yrs.since.phd    0.288531\n",
       "yrs.service      0.588861\n",
       "salary           0.581098\n",
       "dtype: float64"
      ]
     },
     "execution_count": 28,
     "metadata": {},
     "output_type": "execute_result"
    }
   ],
   "source": [
    "df_new.skew()"
   ]
  },
  {
   "cell_type": "code",
   "execution_count": 29,
   "id": "48906105",
   "metadata": {},
   "outputs": [],
   "source": [
    "# We will break data into input and output and then remove skewness\n",
    "inpt=df_new.drop(\"salary\",axis=1)\n",
    "target=df_new[\"salary\"]"
   ]
  },
  {
   "cell_type": "code",
   "execution_count": 30,
   "id": "f3b0e9b7",
   "metadata": {},
   "outputs": [],
   "source": [
    "#Transform data to remove skewness\n",
    "from sklearn.preprocessing import power_transform"
   ]
  },
  {
   "cell_type": "code",
   "execution_count": 31,
   "id": "3e0f6828",
   "metadata": {},
   "outputs": [
    {
     "data": {
      "text/plain": [
       "0   -0.818160\n",
       "1   -0.179514\n",
       "2   -0.134628\n",
       "3   -0.129060\n",
       "dtype: float64"
      ]
     },
     "execution_count": 31,
     "metadata": {},
     "output_type": "execute_result"
    }
   ],
   "source": [
    "inpt=power_transform(inpt,method='yeo-johnson')\n",
    "pd.DataFrame(inpt).skew()"
   ]
  },
  {
   "cell_type": "code",
   "execution_count": 32,
   "id": "76af6eee",
   "metadata": {},
   "outputs": [
    {
     "data": {
      "text/plain": [
       "array([[ 0.69481738,  0.91457564, -0.11344983,  0.26888583],\n",
       "       [ 0.69481738,  0.91457564, -0.03455335,  0.1209006 ],\n",
       "       [-1.0753989 ,  0.91457564, -1.6242611 , -1.28449532],\n",
       "       ...,\n",
       "       [ 0.69481738, -1.09340328,  1.42772852,  0.72581897],\n",
       "       [ 0.69481738, -1.09340328,  0.33874878,  0.04312953],\n",
       "       [-1.0753989 , -1.09340328, -1.12908354, -1.11979784]])"
      ]
     },
     "execution_count": 32,
     "metadata": {},
     "output_type": "execute_result"
    }
   ],
   "source": [
    "from sklearn.preprocessing import StandardScaler\n",
    "sc=StandardScaler()\n",
    "inpt=sc.fit_transform(inpt)\n",
    "inpt"
   ]
  },
  {
   "cell_type": "code",
   "execution_count": 46,
   "id": "89ff4535",
   "metadata": {},
   "outputs": [],
   "source": [
    "from sklearn.linear_model import LinearRegression\n",
    "lr=LinearRegression()\n",
    "from sklearn.metrics import r2_score,accuracy_score,classification_report,confusion_matrix\n",
    "from sklearn.model_selection import train_test_split\n",
    "import warnings\n",
    "warnings.filterwarnings('ignore')"
   ]
  },
  {
   "cell_type": "code",
   "execution_count": 34,
   "id": "07ae0556",
   "metadata": {},
   "outputs": [
    {
     "name": "stdout",
     "output_type": "stream",
     "text": [
      "at random state0,the training accuracy is:- 0.42919944394742193\n",
      "at random state0,the testing accuracy is:- 0.40317042242867496\n",
      "\n",
      "\n",
      "at random state1,the training accuracy is:- 0.3869446937428265\n",
      "at random state1,the testing accuracy is:- 0.548381880957381\n",
      "\n",
      "\n",
      "at random state2,the training accuracy is:- 0.42522674021595963\n",
      "at random state2,the testing accuracy is:- 0.4017703740741666\n",
      "\n",
      "\n",
      "at random state3,the training accuracy is:- 0.4366448454960341\n",
      "at random state3,the testing accuracy is:- 0.3534378944550898\n",
      "\n",
      "\n",
      "at random state4,the training accuracy is:- 0.4430944965263883\n",
      "at random state4,the testing accuracy is:- 0.3163178849061561\n",
      "\n",
      "\n",
      "at random state5,the training accuracy is:- 0.4025324909057393\n",
      "at random state5,the testing accuracy is:- 0.4942119600698578\n",
      "\n",
      "\n",
      "at random state6,the training accuracy is:- 0.4610336431001645\n",
      "at random state6,the testing accuracy is:- 0.2536655604556798\n",
      "\n",
      "\n",
      "at random state7,the training accuracy is:- 0.4155555403111174\n",
      "at random state7,the testing accuracy is:- 0.4302879176063267\n",
      "\n",
      "\n",
      "at random state8,the training accuracy is:- 0.41265968406754816\n",
      "at random state8,the testing accuracy is:- 0.45499386431323385\n",
      "\n",
      "\n",
      "at random state9,the training accuracy is:- 0.4257186913068399\n",
      "at random state9,the testing accuracy is:- 0.40472793802407103\n",
      "\n",
      "\n",
      "at random state10,the training accuracy is:- 0.4223750249404785\n",
      "at random state10,the testing accuracy is:- 0.42275866271228324\n",
      "\n",
      "\n",
      "at random state11,the training accuracy is:- 0.40520486081398255\n",
      "at random state11,the testing accuracy is:- 0.49330392904518194\n",
      "\n",
      "\n",
      "at random state12,the training accuracy is:- 0.4256443590751984\n",
      "at random state12,the testing accuracy is:- 0.402872598397643\n",
      "\n",
      "\n",
      "at random state13,the training accuracy is:- 0.41242824155756874\n",
      "at random state13,the testing accuracy is:- 0.43997749723757884\n",
      "\n",
      "\n",
      "at random state14,the training accuracy is:- 0.45648102883328123\n",
      "at random state14,the testing accuracy is:- 0.28690459454117134\n",
      "\n",
      "\n",
      "at random state15,the training accuracy is:- 0.38977406486756405\n",
      "at random state15,the testing accuracy is:- 0.5292420640015614\n",
      "\n",
      "\n",
      "at random state16,the training accuracy is:- 0.4669019742488344\n",
      "at random state16,the testing accuracy is:- 0.23857911113397046\n",
      "\n",
      "\n",
      "at random state17,the training accuracy is:- 0.4183665596737557\n",
      "at random state17,the testing accuracy is:- 0.4327760748012164\n",
      "\n",
      "\n",
      "at random state18,the training accuracy is:- 0.4369793349561427\n",
      "at random state18,the testing accuracy is:- 0.3645155799317724\n",
      "\n",
      "\n",
      "at random state19,the training accuracy is:- 0.3940807767598792\n",
      "at random state19,the testing accuracy is:- 0.49555415372141476\n",
      "\n",
      "\n",
      "at random state20,the training accuracy is:- 0.3952034750017833\n",
      "at random state20,the testing accuracy is:- 0.5263537729191328\n",
      "\n",
      "\n",
      "at random state21,the training accuracy is:- 0.4398414357537841\n",
      "at random state21,the testing accuracy is:- 0.3346767251971391\n",
      "\n",
      "\n",
      "at random state22,the training accuracy is:- 0.43278400701460307\n",
      "at random state22,the testing accuracy is:- 0.3779335672505323\n",
      "\n",
      "\n",
      "at random state23,the training accuracy is:- 0.4549977798878484\n",
      "at random state23,the testing accuracy is:- 0.27683064729560825\n",
      "\n",
      "\n",
      "at random state24,the training accuracy is:- 0.4086714289374773\n",
      "at random state24,the testing accuracy is:- 0.47570215766415813\n",
      "\n",
      "\n",
      "at random state25,the training accuracy is:- 0.4620909707619717\n",
      "at random state25,the testing accuracy is:- 0.17236293606958086\n",
      "\n",
      "\n",
      "at random state26,the training accuracy is:- 0.4248633371384014\n",
      "at random state26,the testing accuracy is:- 0.4048869388170886\n",
      "\n",
      "\n",
      "at random state27,the training accuracy is:- 0.426416907205723\n",
      "at random state27,the testing accuracy is:- 0.3811857354603677\n",
      "\n",
      "\n",
      "at random state28,the training accuracy is:- 0.42994179616503025\n",
      "at random state28,the testing accuracy is:- 0.374729044819309\n",
      "\n",
      "\n",
      "at random state29,the training accuracy is:- 0.40864264216950885\n",
      "at random state29,the testing accuracy is:- 0.46571476994029515\n",
      "\n",
      "\n",
      "at random state30,the training accuracy is:- 0.4223927541859762\n",
      "at random state30,the testing accuracy is:- 0.4217374301236325\n",
      "\n",
      "\n",
      "at random state31,the training accuracy is:- 0.42005830034267877\n",
      "at random state31,the testing accuracy is:- 0.4175768192371484\n",
      "\n",
      "\n",
      "at random state32,the training accuracy is:- 0.4344583274973095\n",
      "at random state32,the testing accuracy is:- 0.37448142859385125\n",
      "\n",
      "\n",
      "at random state33,the training accuracy is:- 0.45700802195195933\n",
      "at random state33,the testing accuracy is:- 0.27146467974870303\n",
      "\n",
      "\n",
      "at random state34,the training accuracy is:- 0.43836808418437245\n",
      "at random state34,the testing accuracy is:- 0.36227551526414725\n",
      "\n",
      "\n",
      "at random state35,the training accuracy is:- 0.401528661648613\n",
      "at random state35,the testing accuracy is:- 0.4950861688180511\n",
      "\n",
      "\n",
      "at random state36,the training accuracy is:- 0.4484554272805532\n",
      "at random state36,the testing accuracy is:- 0.3168439383590681\n",
      "\n",
      "\n",
      "at random state37,the training accuracy is:- 0.42938809598867234\n",
      "at random state37,the testing accuracy is:- 0.38757559017590404\n",
      "\n",
      "\n",
      "at random state38,the training accuracy is:- 0.4384041647570064\n",
      "at random state38,the testing accuracy is:- 0.3489352689392786\n",
      "\n",
      "\n",
      "at random state39,the training accuracy is:- 0.426851185712368\n",
      "at random state39,the testing accuracy is:- 0.40056895952541505\n",
      "\n",
      "\n",
      "at random state40,the training accuracy is:- 0.4461579199362796\n",
      "at random state40,the testing accuracy is:- 0.31836055326968493\n",
      "\n",
      "\n",
      "at random state41,the training accuracy is:- 0.4179306482478916\n",
      "at random state41,the testing accuracy is:- 0.4201263510596588\n",
      "\n",
      "\n",
      "at random state42,the training accuracy is:- 0.4524477843277175\n",
      "at random state42,the testing accuracy is:- 0.29257764608320114\n",
      "\n",
      "\n",
      "at random state43,the training accuracy is:- 0.4334884684168263\n",
      "at random state43,the testing accuracy is:- 0.3717427714155832\n",
      "\n",
      "\n",
      "at random state44,the training accuracy is:- 0.4274062061683094\n",
      "at random state44,the testing accuracy is:- 0.3976653356289337\n",
      "\n",
      "\n",
      "at random state45,the training accuracy is:- 0.43555280669859453\n",
      "at random state45,the testing accuracy is:- 0.36059380071109226\n",
      "\n",
      "\n",
      "at random state46,the training accuracy is:- 0.44895557380513074\n",
      "at random state46,the testing accuracy is:- 0.28978853890207024\n",
      "\n",
      "\n",
      "at random state47,the training accuracy is:- 0.42744315476032235\n",
      "at random state47,the testing accuracy is:- 0.36121475061439157\n",
      "\n",
      "\n",
      "at random state48,the training accuracy is:- 0.42141978467859065\n",
      "at random state48,the testing accuracy is:- 0.41651360750164446\n",
      "\n",
      "\n",
      "at random state49,the training accuracy is:- 0.42668631824557024\n",
      "at random state49,the testing accuracy is:- 0.3868756488465609\n",
      "\n",
      "\n",
      "at random state50,the training accuracy is:- 0.4291898423563152\n",
      "at random state50,the testing accuracy is:- 0.3771362365651202\n",
      "\n",
      "\n",
      "at random state51,the training accuracy is:- 0.4165134420746083\n",
      "at random state51,the testing accuracy is:- 0.44470163425437825\n",
      "\n",
      "\n",
      "at random state52,the training accuracy is:- 0.3966751755709901\n",
      "at random state52,the testing accuracy is:- 0.5092353216354393\n",
      "\n",
      "\n",
      "at random state53,the training accuracy is:- 0.42379219209768093\n",
      "at random state53,the testing accuracy is:- 0.4149403133663472\n",
      "\n",
      "\n",
      "at random state54,the training accuracy is:- 0.40796333648481187\n",
      "at random state54,the testing accuracy is:- 0.45837889713675883\n",
      "\n",
      "\n",
      "at random state55,the training accuracy is:- 0.4117244488418218\n",
      "at random state55,the testing accuracy is:- 0.46379590867723497\n",
      "\n",
      "\n",
      "at random state56,the training accuracy is:- 0.43426776168351333\n",
      "at random state56,the testing accuracy is:- 0.3694329164630209\n",
      "\n",
      "\n",
      "at random state57,the training accuracy is:- 0.4271451928643434\n",
      "at random state57,the testing accuracy is:- 0.3966715141072009\n",
      "\n",
      "\n",
      "at random state58,the training accuracy is:- 0.4872920273903699\n",
      "at random state58,the testing accuracy is:- 0.1891992984246288\n",
      "\n",
      "\n",
      "at random state59,the training accuracy is:- 0.44120585832291204\n",
      "at random state59,the testing accuracy is:- 0.355683589558345\n",
      "\n",
      "\n",
      "at random state60,the training accuracy is:- 0.45372737223517157\n",
      "at random state60,the testing accuracy is:- 0.2683870933399425\n",
      "\n",
      "\n",
      "at random state61,the training accuracy is:- 0.4086872787457182\n",
      "at random state61,the testing accuracy is:- 0.48007572023451894\n",
      "\n",
      "\n",
      "at random state62,the training accuracy is:- 0.4249728244091967\n",
      "at random state62,the testing accuracy is:- 0.41296781296816043\n",
      "\n",
      "\n",
      "at random state63,the training accuracy is:- 0.4258062773680654\n",
      "at random state63,the testing accuracy is:- 0.39255514112017853\n",
      "\n",
      "\n",
      "at random state64,the training accuracy is:- 0.40732804384842203\n",
      "at random state64,the testing accuracy is:- 0.4975017721407625\n",
      "\n",
      "\n",
      "at random state65,the training accuracy is:- 0.405366001408096\n",
      "at random state65,the testing accuracy is:- 0.4936441806606229\n",
      "\n",
      "\n",
      "at random state66,the training accuracy is:- 0.4001890919289466\n",
      "at random state66,the testing accuracy is:- 0.5077913644245455\n",
      "\n",
      "\n",
      "at random state67,the training accuracy is:- 0.4406585429201604\n",
      "at random state67,the testing accuracy is:- 0.3328076333239819\n",
      "\n",
      "\n",
      "at random state68,the training accuracy is:- 0.4596727612253596\n",
      "at random state68,the testing accuracy is:- 0.28674914072258195\n",
      "\n",
      "\n",
      "at random state69,the training accuracy is:- 0.428616476989216\n",
      "at random state69,the testing accuracy is:- 0.40027281078723376\n",
      "\n",
      "\n",
      "at random state70,the training accuracy is:- 0.4474986471403055\n",
      "at random state70,the testing accuracy is:- 0.32217354260270326\n",
      "\n",
      "\n",
      "at random state71,the training accuracy is:- 0.4449458638518997\n",
      "at random state71,the testing accuracy is:- 0.34306291345086426\n",
      "\n",
      "\n",
      "at random state72,the training accuracy is:- 0.4530662352262802\n",
      "at random state72,the testing accuracy is:- 0.2989518545144618\n",
      "\n",
      "\n",
      "at random state73,the training accuracy is:- 0.4031808249246459\n",
      "at random state73,the testing accuracy is:- 0.47648203379593657\n",
      "\n",
      "\n",
      "at random state74,the training accuracy is:- 0.41994280662202754\n",
      "at random state74,the testing accuracy is:- 0.4245297678566753\n",
      "\n",
      "\n",
      "at random state75,the training accuracy is:- 0.4258545473233931\n",
      "at random state75,the testing accuracy is:- 0.4032974009363488\n",
      "\n",
      "\n",
      "at random state76,the training accuracy is:- 0.42757135762634557\n",
      "at random state76,the testing accuracy is:- 0.4011102101587579\n",
      "\n",
      "\n",
      "at random state77,the training accuracy is:- 0.43435402922016453\n",
      "at random state77,the testing accuracy is:- 0.3696675435945549\n",
      "\n",
      "\n",
      "at random state78,the training accuracy is:- 0.44864911820957043\n",
      "at random state78,the testing accuracy is:- 0.31298699220760184\n",
      "\n",
      "\n",
      "at random state79,the training accuracy is:- 0.41227563258880673\n",
      "at random state79,the testing accuracy is:- 0.464314387559449\n",
      "\n",
      "\n",
      "at random state80,the training accuracy is:- 0.4256374644625671\n",
      "at random state80,the testing accuracy is:- 0.4065254439593481\n",
      "\n",
      "\n",
      "at random state81,the training accuracy is:- 0.41044412957633725\n",
      "at random state81,the testing accuracy is:- 0.4487412639352161\n",
      "\n",
      "\n",
      "at random state82,the training accuracy is:- 0.45180534286010754\n",
      "at random state82,the testing accuracy is:- 0.2850116544199409\n",
      "\n",
      "\n",
      "at random state83,the training accuracy is:- 0.4361862521799258\n",
      "at random state83,the testing accuracy is:- 0.3788787580777562\n",
      "\n",
      "\n",
      "at random state84,the training accuracy is:- 0.40448127924909294\n",
      "at random state84,the testing accuracy is:- 0.4962564404646518\n",
      "\n",
      "\n",
      "at random state85,the training accuracy is:- 0.41678115754054923\n",
      "at random state85,the testing accuracy is:- 0.4418528623671393\n",
      "\n",
      "\n",
      "at random state86,the training accuracy is:- 0.44346728934614554\n",
      "at random state86,the testing accuracy is:- 0.34346686280194094\n",
      "\n",
      "\n",
      "at random state87,the training accuracy is:- 0.4404087671926529\n",
      "at random state87,the testing accuracy is:- 0.3333296734534815\n",
      "\n",
      "\n",
      "at random state88,the training accuracy is:- 0.42204555153487444\n",
      "at random state88,the testing accuracy is:- 0.41310498039595045\n",
      "\n",
      "\n",
      "at random state89,the training accuracy is:- 0.4261219528730884\n",
      "at random state89,the testing accuracy is:- 0.40227948078486453\n",
      "\n",
      "\n",
      "at random state90,the training accuracy is:- 0.4130783377138897\n",
      "at random state90,the testing accuracy is:- 0.45540353939841727\n",
      "\n",
      "\n"
     ]
    },
    {
     "name": "stdout",
     "output_type": "stream",
     "text": [
      "at random state91,the training accuracy is:- 0.4119415258133263\n",
      "at random state91,the testing accuracy is:- 0.4659256645103609\n",
      "\n",
      "\n",
      "at random state92,the training accuracy is:- 0.38921359400534317\n",
      "at random state92,the testing accuracy is:- 0.5134140149236849\n",
      "\n",
      "\n",
      "at random state93,the training accuracy is:- 0.4323361037526494\n",
      "at random state93,the testing accuracy is:- 0.382672079465605\n",
      "\n",
      "\n",
      "at random state94,the training accuracy is:- 0.4438808357263343\n",
      "at random state94,the testing accuracy is:- 0.3061235687154009\n",
      "\n",
      "\n",
      "at random state95,the training accuracy is:- 0.42664703752583366\n",
      "at random state95,the testing accuracy is:- 0.40565148999764\n",
      "\n",
      "\n",
      "at random state96,the training accuracy is:- 0.4330811058046129\n",
      "at random state96,the testing accuracy is:- 0.37236752448661226\n",
      "\n",
      "\n",
      "at random state97,the training accuracy is:- 0.43217886747693735\n",
      "at random state97,the testing accuracy is:- 0.376907132436351\n",
      "\n",
      "\n",
      "at random state98,the training accuracy is:- 0.41375283975906374\n",
      "at random state98,the testing accuracy is:- 0.4544870729249155\n",
      "\n",
      "\n",
      "at random state99,the training accuracy is:- 0.41318050289537644\n",
      "at random state99,the testing accuracy is:- 0.4470748061681492\n",
      "\n",
      "\n"
     ]
    }
   ],
   "source": [
    "#finding best random state\n",
    "for i in range(0,100):\n",
    "    inpt_train,inpt_test,target_train,target_test=train_test_split(inpt,target,test_size=0.2,random_state=i)\n",
    "    lr.fit(inpt_train,target_train)\n",
    "    pred_train=lr.predict(inpt_train)\n",
    "    pred_test=lr.predict(inpt_test)\n",
    "    print(f\"at random state{i},the training accuracy is:- {r2_score(target_train,pred_train)}\")\n",
    "    print(f\"at random state{i},the testing accuracy is:- {r2_score(target_test,pred_test)}\")\n",
    "    print(\"\\n\")\n"
   ]
  },
  {
   "cell_type": "code",
   "execution_count": 55,
   "id": "98ca579c",
   "metadata": {},
   "outputs": [
    {
     "name": "stdout",
     "output_type": "stream",
     "text": [
      "0.4217374301236325\n"
     ]
    }
   ],
   "source": [
    "#We will go with random state 30\n",
    "inpt_train,inpt_test,target_train,target_test=train_test_split(inpt,target,test_size=0.2,random_state=30)\n",
    "lr.fit(inpt_train,target_train)\n",
    "predlr=lr.predict(inpt_test)\n",
    "print(r2_score(target_test,predlr))\n"
   ]
  },
  {
   "cell_type": "code",
   "execution_count": 67,
   "id": "1a227e89",
   "metadata": {},
   "outputs": [
    {
     "data": {
      "text/plain": [
       "0.3613867271274098"
      ]
     },
     "execution_count": 67,
     "metadata": {},
     "output_type": "execute_result"
    }
   ],
   "source": [
    "cv_score=cross_val_score(lr,inpt,target,cv=5)\n",
    "cv_mean=cv_score.mean()\n",
    "cv_mean"
   ]
  },
  {
   "cell_type": "code",
   "execution_count": null,
   "id": "10e40ffe",
   "metadata": {},
   "outputs": [],
   "source": [
    "#below also gives very bad results\n",
    "from sklearn.svm import SVC\n",
    "svc=SVC(kernel='poly')\n",
    "svc.fit(inpt_train,target_train)\n",
    "svc.score(inpt_train,target_train)\n",
    "predsvc=svc.predict(inpt_test)\n",
    "print(accuracy_score(target_test,predsvc))\n",
    "print(confusion_matrix(target_test,predsvc))\n",
    "print(classification_report(target_test,predsvc))\n"
   ]
  },
  {
   "cell_type": "code",
   "execution_count": null,
   "id": "dc7625ec",
   "metadata": {},
   "outputs": [],
   "source": [
    "#below also gives very bad results\n",
    "from sklearn.tree import DecisionTreeClassifier\n",
    "dtc=DecisionTreeClassifier()\n",
    "dtc.fit(inpt_train,target_train)\n",
    "dtc.score(inpt_train,target_train)\n",
    "preddtc=dtc.predict(inpt_test)\n",
    "print(accuracy_score(target_test,preddtc))\n",
    "print(confusion_matrix(target_test,preddtc))\n",
    "print(classification_report(target_test,preddtc))"
   ]
  },
  {
   "cell_type": "code",
   "execution_count": 63,
   "id": "2eb8001c",
   "metadata": {},
   "outputs": [
    {
     "name": "stdout",
     "output_type": "stream",
     "text": [
      "{'alpha': 10, 'random_state': 0}\n"
     ]
    }
   ],
   "source": [
    "#Regularization , getting best parameters\n",
    "from sklearn.model_selection import GridSearchCV\n",
    "from sklearn.model_selection import cross_val_score\n",
    "import warnings\n",
    "warnings.filterwarnings('ignore')\n",
    "from sklearn.linear_model import Lasso\n",
    "parameters={'alpha':[.0001,.001,.1,1,10],'random_state':list(range(0,10))}\n",
    "ls=Lasso()\n",
    "clf=GridSearchCV(ls,parameters)\n",
    "clf.fit(inpt_train,target_train)\n",
    "print(clf.best_params_)"
   ]
  },
  {
   "cell_type": "code",
   "execution_count": 64,
   "id": "8f9cfef0",
   "metadata": {},
   "outputs": [
    {
     "data": {
      "text/plain": [
       "0.42179093619561214"
      ]
     },
     "execution_count": 64,
     "metadata": {},
     "output_type": "execute_result"
    }
   ],
   "source": [
    "ls=Lasso(alpha=10,random_state=0)\n",
    "ls.fit(inpt_train,target_train)\n",
    "ls.score(inpt_train,target_train)\n",
    "pred_ls=ls.predict(inpt_test)\n",
    "lss=r2_score(target_test,pred_ls)\n",
    "lss"
   ]
  },
  {
   "cell_type": "code",
   "execution_count": 66,
   "id": "5482a7a1",
   "metadata": {},
   "outputs": [
    {
     "data": {
      "text/plain": [
       "0.36177910068428387"
      ]
     },
     "execution_count": 66,
     "metadata": {},
     "output_type": "execute_result"
    }
   ],
   "source": [
    "cv_score=cross_val_score(ls,inpt,target,cv=5)\n",
    "cv_mean=cv_score.mean()\n",
    "cv_mean"
   ]
  },
  {
   "cell_type": "code",
   "execution_count": 68,
   "id": "d3f1491c",
   "metadata": {},
   "outputs": [
    {
     "name": "stdout",
     "output_type": "stream",
     "text": [
      "{'criterion': 'mae', 'max_features': 'log2'}\n"
     ]
    }
   ],
   "source": [
    "#We will use ensembling technique for more improvement\n",
    "from sklearn.model_selection import GridSearchCV\n",
    "from sklearn.ensemble import RandomForestRegressor\n",
    "parameters={'criterion':['mse','mae'],'max_features':[\"auto\",\"sqrt\",\"log2\"]}\n",
    "rf=RandomForestRegressor()\n",
    "clf=GridSearchCV(rf,parameters)\n",
    "clf.fit(inpt_train,target_train)\n",
    "print(clf.best_params_)"
   ]
  },
  {
   "cell_type": "code",
   "execution_count": 69,
   "id": "50ae247d",
   "metadata": {},
   "outputs": [
    {
     "name": "stdout",
     "output_type": "stream",
     "text": [
      "r2_score 56.04408077348676\n",
      "cross val score: 29.323015085966965\n"
     ]
    }
   ],
   "source": [
    "rf=RandomForestRegressor(criterion=\"mae\",max_features=\"log2\")\n",
    "rf.fit(inpt_train,target_train)\n",
    "rf.score(inpt_train,target_train)\n",
    "pred_decision=rf.predict(inpt_test)\n",
    "rfs=r2_score(target_test,pred_decision)\n",
    "print(\"r2_score\",rfs*100)\n",
    "rfscore=cross_val_score(rf,inpt,target,cv=5)\n",
    "rfc=rfscore.mean()\n",
    "print(\"cross val score:\",rfc*100)"
   ]
  },
  {
   "cell_type": "code",
   "execution_count": 71,
   "id": "02a2481b",
   "metadata": {},
   "outputs": [],
   "source": [
    "#above gives better % accuracy than previous methods\n",
    "import pickle"
   ]
  },
  {
   "cell_type": "code",
   "execution_count": 72,
   "id": "d1cf02e5",
   "metadata": {},
   "outputs": [],
   "source": [
    "filename='salary.pkl'\n",
    "pickle.dump(rf,open(filename,'wb'))"
   ]
  },
  {
   "cell_type": "code",
   "execution_count": 73,
   "id": "abbc06d3",
   "metadata": {},
   "outputs": [
    {
     "name": "stdout",
     "output_type": "stream",
     "text": [
      "0.5604408077348676\n"
     ]
    }
   ],
   "source": [
    "#Conclusion\n",
    "loaded_model=pickle.load(open('salary.pkl','rb'))\n",
    "result=loaded_model.score(inpt_test,target_test)\n",
    "print(result)\n",
    "                        "
   ]
  },
  {
   "cell_type": "code",
   "execution_count": 75,
   "id": "79ec3ff5",
   "metadata": {},
   "outputs": [
    {
     "data": {
      "text/html": [
       "<div>\n",
       "<style scoped>\n",
       "    .dataframe tbody tr th:only-of-type {\n",
       "        vertical-align: middle;\n",
       "    }\n",
       "\n",
       "    .dataframe tbody tr th {\n",
       "        vertical-align: top;\n",
       "    }\n",
       "\n",
       "    .dataframe thead th {\n",
       "        text-align: right;\n",
       "    }\n",
       "</style>\n",
       "<table border=\"1\" class=\"dataframe\">\n",
       "  <thead>\n",
       "    <tr style=\"text-align: right;\">\n",
       "      <th></th>\n",
       "      <th>0</th>\n",
       "      <th>1</th>\n",
       "      <th>2</th>\n",
       "      <th>3</th>\n",
       "      <th>4</th>\n",
       "      <th>5</th>\n",
       "      <th>6</th>\n",
       "      <th>7</th>\n",
       "      <th>8</th>\n",
       "      <th>9</th>\n",
       "      <th>...</th>\n",
       "      <th>69</th>\n",
       "      <th>70</th>\n",
       "      <th>71</th>\n",
       "      <th>72</th>\n",
       "      <th>73</th>\n",
       "      <th>74</th>\n",
       "      <th>75</th>\n",
       "      <th>76</th>\n",
       "      <th>77</th>\n",
       "      <th>78</th>\n",
       "    </tr>\n",
       "  </thead>\n",
       "  <tbody>\n",
       "    <tr>\n",
       "      <th>Predicted</th>\n",
       "      <td>78315.6</td>\n",
       "      <td>161769.96</td>\n",
       "      <td>83221.78</td>\n",
       "      <td>111069.785</td>\n",
       "      <td>124743.43</td>\n",
       "      <td>142853.975</td>\n",
       "      <td>74000.85</td>\n",
       "      <td>118776.685</td>\n",
       "      <td>112251.81</td>\n",
       "      <td>80390.43</td>\n",
       "      <td>...</td>\n",
       "      <td>125361.89</td>\n",
       "      <td>114219.78</td>\n",
       "      <td>70256.79</td>\n",
       "      <td>111623.1</td>\n",
       "      <td>103451.45</td>\n",
       "      <td>138414.605</td>\n",
       "      <td>120411.25</td>\n",
       "      <td>121227.225</td>\n",
       "      <td>123932.475</td>\n",
       "      <td>136239.195</td>\n",
       "    </tr>\n",
       "    <tr>\n",
       "      <th>Original</th>\n",
       "      <td>78315.6</td>\n",
       "      <td>161769.96</td>\n",
       "      <td>83221.78</td>\n",
       "      <td>111069.785</td>\n",
       "      <td>124743.43</td>\n",
       "      <td>142853.975</td>\n",
       "      <td>74000.85</td>\n",
       "      <td>118776.685</td>\n",
       "      <td>112251.81</td>\n",
       "      <td>80390.43</td>\n",
       "      <td>...</td>\n",
       "      <td>125361.89</td>\n",
       "      <td>114219.78</td>\n",
       "      <td>70256.79</td>\n",
       "      <td>111623.1</td>\n",
       "      <td>103451.45</td>\n",
       "      <td>138414.605</td>\n",
       "      <td>120411.25</td>\n",
       "      <td>121227.225</td>\n",
       "      <td>123932.475</td>\n",
       "      <td>136239.195</td>\n",
       "    </tr>\n",
       "  </tbody>\n",
       "</table>\n",
       "<p>2 rows × 79 columns</p>\n",
       "</div>"
      ],
      "text/plain": [
       "                0          1         2           3          4           5   \\\n",
       "Predicted  78315.6  161769.96  83221.78  111069.785  124743.43  142853.975   \n",
       "Original   78315.6  161769.96  83221.78  111069.785  124743.43  142853.975   \n",
       "\n",
       "                 6           7          8         9   ...         69  \\\n",
       "Predicted  74000.85  118776.685  112251.81  80390.43  ...  125361.89   \n",
       "Original   74000.85  118776.685  112251.81  80390.43  ...  125361.89   \n",
       "\n",
       "                  70        71        72         73          74         75  \\\n",
       "Predicted  114219.78  70256.79  111623.1  103451.45  138414.605  120411.25   \n",
       "Original   114219.78  70256.79  111623.1  103451.45  138414.605  120411.25   \n",
       "\n",
       "                   76          77          78  \n",
       "Predicted  121227.225  123932.475  136239.195  \n",
       "Original   121227.225  123932.475  136239.195  \n",
       "\n",
       "[2 rows x 79 columns]"
      ]
     },
     "execution_count": 75,
     "metadata": {},
     "output_type": "execute_result"
    }
   ],
   "source": [
    "#not working for me ,need help\n",
    "conclusion=pd.DataFrame([loaded_model.predict(inpt_test)[:],pred_decision[:]],index=[\"Predicted\",\"Original\"])\n",
    "conclusion"
   ]
  },
  {
   "cell_type": "code",
   "execution_count": null,
   "id": "dac89c93",
   "metadata": {},
   "outputs": [],
   "source": []
  },
  {
   "cell_type": "code",
   "execution_count": null,
   "id": "f2331f16",
   "metadata": {},
   "outputs": [],
   "source": []
  },
  {
   "cell_type": "code",
   "execution_count": null,
   "id": "e7be2bae",
   "metadata": {},
   "outputs": [],
   "source": []
  }
 ],
 "metadata": {
  "kernelspec": {
   "display_name": "Python 3 (ipykernel)",
   "language": "python",
   "name": "python3"
  },
  "language_info": {
   "codemirror_mode": {
    "name": "ipython",
    "version": 3
   },
   "file_extension": ".py",
   "mimetype": "text/x-python",
   "name": "python",
   "nbconvert_exporter": "python",
   "pygments_lexer": "ipython3",
   "version": "3.9.7"
  }
 },
 "nbformat": 4,
 "nbformat_minor": 5
}
