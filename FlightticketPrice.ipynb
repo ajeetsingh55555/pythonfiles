{
 "cells": [
  {
   "cell_type": "code",
   "execution_count": 1,
   "id": "eed2a215",
   "metadata": {},
   "outputs": [],
   "source": [
    "import numpy as np\n",
    "import pandas as pd\n",
    "import matplotlib.pyplot as plt\n",
    "import seaborn as sns\n",
    "from sklearn.linear_model import LinearRegression\n",
    "from sklearn.metrics import accuracy_score,confusion_matrix,classification_report\n",
    "from sklearn.model_selection import train_test_split\n",
    "from sklearn.preprocessing import LabelEncoder\n",
    "import statsmodels.api as sm\n",
    "from scipy import stats\n",
    "from statsmodels.stats.outliers_influence import variance_inflation_factor\n",
    "from sklearn.model_selection import cross_val_score\n",
    "from sklearn.impute import SimpleImputer\n",
    "import warnings\n",
    "warnings.filterwarnings('ignore')"
   ]
  },
  {
   "cell_type": "code",
   "execution_count": 2,
   "id": "24ad38d5",
   "metadata": {},
   "outputs": [],
   "source": [
    "#data downloaded from github \n",
    "df=pd.read_csv(\"https://raw.githubusercontent.com/ajeetsingh55555/pythonfiles/main/Data_Train.csv\")"
   ]
  },
  {
   "cell_type": "code",
   "execution_count": 3,
   "id": "f90ef41c",
   "metadata": {},
   "outputs": [
    {
     "data": {
      "text/plain": [
       "Index(['Airline', 'Date_of_Journey', 'Source', 'Destination', 'Route',\n",
       "       'Dep_Time', 'Arrival_Time', 'Duration', 'Total_Stops',\n",
       "       'Additional_Info', 'Price'],\n",
       "      dtype='object')"
      ]
     },
     "execution_count": 3,
     "metadata": {},
     "output_type": "execute_result"
    }
   ],
   "source": [
    "df.columns\n",
    "#checking the column names"
   ]
  },
  {
   "cell_type": "code",
   "execution_count": 4,
   "id": "e2f9f2a5",
   "metadata": {},
   "outputs": [
    {
     "data": {
      "text/plain": [
       "<AxesSubplot:>"
      ]
     },
     "execution_count": 4,
     "metadata": {},
     "output_type": "execute_result"
    },
    {
     "data": {
      "image/png": "[encoded data removed]",
      "text/plain": [
       "<Figure size 432x288 with 2 Axes>"
      ]
     },
     "metadata": {
      "needs_background": "light"
     },
     "output_type": "display_data"
    }
   ],
   "source": [
    "sns.heatmap(df.isnull())\n",
    "#checking the null values using heatmap,showing there are many in outlet size and item weight , so to check this in values we will use below command"
   ]
  },
  {
   "cell_type": "code",
   "execution_count": 5,
   "id": "2d4276aa",
   "metadata": {},
   "outputs": [
    {
     "data": {
      "text/plain": [
       "Airline            0\n",
       "Date_of_Journey    0\n",
       "Source             0\n",
       "Destination        0\n",
       "Route              1\n",
       "Dep_Time           0\n",
       "Arrival_Time       0\n",
       "Duration           0\n",
       "Total_Stops        1\n",
       "Additional_Info    0\n",
       "Price              0\n",
       "dtype: int64"
      ]
     },
     "execution_count": 5,
     "metadata": {},
     "output_type": "execute_result"
    }
   ],
   "source": [
    "df.isnull().sum()\n",
    "# checking the count of null values, there are no nulls"
   ]
  },
  {
   "cell_type": "code",
   "execution_count": 13,
   "id": "1f24b66b",
   "metadata": {},
   "outputs": [],
   "source": [
    "#using simple imputer strategy mean to replacce NAN values with mean ,we will use mode for total stops as well as there are values like non stop\n",
    "import numpy as np\n",
    "imp=SimpleImputer(missing_values=np.nan,strategy='most_frequent')\n",
    "df['Route']=imp.fit_transform(df['Route'].values.reshape(-1,1))\n",
    "df['Total_Stops']=imp.fit_transform(df['Total_Stops'].values.reshape(-1,1))\n"
   ]
  },
  {
   "cell_type": "code",
   "execution_count": 14,
   "id": "cd1aff12",
   "metadata": {},
   "outputs": [
    {
     "data": {
      "text/plain": [
       "Airline            0\n",
       "Date_of_Journey    0\n",
       "Source             0\n",
       "Destination        0\n",
       "Route              0\n",
       "Dep_Time           0\n",
       "Arrival_Time       0\n",
       "Duration           0\n",
       "Total_Stops        0\n",
       "Additional_Info    0\n",
       "Price              0\n",
       "dtype: int64"
      ]
     },
     "execution_count": 14,
     "metadata": {},
     "output_type": "execute_result"
    }
   ],
   "source": [
    "df.isnull().sum()\n",
    "#now there is no NULL value"
   ]
  },
  {
   "cell_type": "code",
   "execution_count": 15,
   "id": "46d368d1",
   "metadata": {},
   "outputs": [
    {
     "data": {
      "text/plain": [
       "Airline            object\n",
       "Date_of_Journey    object\n",
       "Source             object\n",
       "Destination        object\n",
       "Route              object\n",
       "Dep_Time           object\n",
       "Arrival_Time       object\n",
       "Duration           object\n",
       "Total_Stops        object\n",
       "Additional_Info    object\n",
       "Price               int64\n",
       "dtype: object"
      ]
     },
     "execution_count": 15,
     "metadata": {},
     "output_type": "execute_result"
    }
   ],
   "source": [
    "df.dtypes\n",
    "#we will require encoding to convert oject into float"
   ]
  },
  {
   "cell_type": "markdown",
   "id": "10241882",
   "metadata": {},
   "source": [
    "We now need to convert object to float as datatype and then we will study the correlation "
   ]
  },
  {
   "cell_type": "code",
   "execution_count": 16,
   "id": "64fefd1a",
   "metadata": {},
   "outputs": [],
   "source": [
    "from sklearn.preprocessing import OrdinalEncoder\n",
    "enc=OrdinalEncoder()"
   ]
  },
  {
   "cell_type": "code",
   "execution_count": 17,
   "id": "bcf72bca",
   "metadata": {},
   "outputs": [],
   "source": [
    "for i in df.columns:\n",
    "    if df[i].dtypes==\"object\":\n",
    "        df[i]=enc.fit_transform(df[i].values.reshape(-1,1))"
   ]
  },
  {
   "cell_type": "code",
   "execution_count": 18,
   "id": "490522d3",
   "metadata": {},
   "outputs": [
    {
     "data": {
      "text/plain": [
       "Airline            float64\n",
       "Date_of_Journey    float64\n",
       "Source             float64\n",
       "Destination        float64\n",
       "Route              float64\n",
       "Dep_Time           float64\n",
       "Arrival_Time       float64\n",
       "Duration           float64\n",
       "Total_Stops        float64\n",
       "Additional_Info    float64\n",
       "Price                int64\n",
       "dtype: object"
      ]
     },
     "execution_count": 18,
     "metadata": {},
     "output_type": "execute_result"
    }
   ],
   "source": [
    "df.dtypes"
   ]
  },
  {
   "cell_type": "code",
   "execution_count": 19,
   "id": "03365506",
   "metadata": {},
   "outputs": [
    {
     "data": {
      "text/html": [
       "<div>\n",
       "<style scoped>\n",
       "    .dataframe tbody tr th:only-of-type {\n",
       "        vertical-align: middle;\n",
       "    }\n",
       "\n",
       "    .dataframe tbody tr th {\n",
       "        vertical-align: top;\n",
       "    }\n",
       "\n",
       "    .dataframe thead th {\n",
       "        text-align: right;\n",
       "    }\n",
       "</style>\n",
       "<table border=\"1\" class=\"dataframe\">\n",
       "  <thead>\n",
       "    <tr style=\"text-align: right;\">\n",
       "      <th></th>\n",
       "      <th>Airline</th>\n",
       "      <th>Date_of_Journey</th>\n",
       "      <th>Source</th>\n",
       "      <th>Destination</th>\n",
       "      <th>Route</th>\n",
       "      <th>Dep_Time</th>\n",
       "      <th>Arrival_Time</th>\n",
       "      <th>Duration</th>\n",
       "      <th>Total_Stops</th>\n",
       "      <th>Additional_Info</th>\n",
       "      <th>Price</th>\n",
       "    </tr>\n",
       "  </thead>\n",
       "  <tbody>\n",
       "    <tr>\n",
       "      <th>count</th>\n",
       "      <td>10683.000000</td>\n",
       "      <td>10683.000000</td>\n",
       "      <td>10683.000000</td>\n",
       "      <td>10683.000000</td>\n",
       "      <td>10683.000000</td>\n",
       "      <td>10683.000000</td>\n",
       "      <td>10683.000000</td>\n",
       "      <td>10683.000000</td>\n",
       "      <td>10683.000000</td>\n",
       "      <td>10683.000000</td>\n",
       "      <td>10683.000000</td>\n",
       "    </tr>\n",
       "    <tr>\n",
       "      <th>mean</th>\n",
       "      <td>3.965927</td>\n",
       "      <td>23.735093</td>\n",
       "      <td>1.952261</td>\n",
       "      <td>1.436113</td>\n",
       "      <td>74.822896</td>\n",
       "      <td>107.980717</td>\n",
       "      <td>869.828419</td>\n",
       "      <td>194.069269</td>\n",
       "      <td>1.458111</td>\n",
       "      <td>7.393054</td>\n",
       "      <td>9087.064121</td>\n",
       "    </tr>\n",
       "    <tr>\n",
       "      <th>std</th>\n",
       "      <td>2.352155</td>\n",
       "      <td>12.337763</td>\n",
       "      <td>1.177221</td>\n",
       "      <td>1.474782</td>\n",
       "      <td>36.728405</td>\n",
       "      <td>61.085563</td>\n",
       "      <td>331.509504</td>\n",
       "      <td>108.620556</td>\n",
       "      <td>1.806290</td>\n",
       "      <td>1.214211</td>\n",
       "      <td>4611.359167</td>\n",
       "    </tr>\n",
       "    <tr>\n",
       "      <th>min</th>\n",
       "      <td>0.000000</td>\n",
       "      <td>0.000000</td>\n",
       "      <td>0.000000</td>\n",
       "      <td>0.000000</td>\n",
       "      <td>0.000000</td>\n",
       "      <td>0.000000</td>\n",
       "      <td>0.000000</td>\n",
       "      <td>0.000000</td>\n",
       "      <td>0.000000</td>\n",
       "      <td>0.000000</td>\n",
       "      <td>1759.000000</td>\n",
       "    </tr>\n",
       "    <tr>\n",
       "      <th>25%</th>\n",
       "      <td>3.000000</td>\n",
       "      <td>14.000000</td>\n",
       "      <td>2.000000</td>\n",
       "      <td>0.000000</td>\n",
       "      <td>48.000000</td>\n",
       "      <td>55.000000</td>\n",
       "      <td>603.000000</td>\n",
       "      <td>106.000000</td>\n",
       "      <td>0.000000</td>\n",
       "      <td>8.000000</td>\n",
       "      <td>5277.000000</td>\n",
       "    </tr>\n",
       "    <tr>\n",
       "      <th>50%</th>\n",
       "      <td>4.000000</td>\n",
       "      <td>24.000000</td>\n",
       "      <td>2.000000</td>\n",
       "      <td>1.000000</td>\n",
       "      <td>73.000000</td>\n",
       "      <td>96.000000</td>\n",
       "      <td>937.000000</td>\n",
       "      <td>233.000000</td>\n",
       "      <td>0.000000</td>\n",
       "      <td>8.000000</td>\n",
       "      <td>8372.000000</td>\n",
       "    </tr>\n",
       "    <tr>\n",
       "      <th>75%</th>\n",
       "      <td>4.000000</td>\n",
       "      <td>35.000000</td>\n",
       "      <td>3.000000</td>\n",
       "      <td>2.000000</td>\n",
       "      <td>104.000000</td>\n",
       "      <td>164.000000</td>\n",
       "      <td>1141.000000</td>\n",
       "      <td>280.000000</td>\n",
       "      <td>4.000000</td>\n",
       "      <td>8.000000</td>\n",
       "      <td>12373.000000</td>\n",
       "    </tr>\n",
       "    <tr>\n",
       "      <th>max</th>\n",
       "      <td>11.000000</td>\n",
       "      <td>43.000000</td>\n",
       "      <td>4.000000</td>\n",
       "      <td>5.000000</td>\n",
       "      <td>127.000000</td>\n",
       "      <td>221.000000</td>\n",
       "      <td>1342.000000</td>\n",
       "      <td>367.000000</td>\n",
       "      <td>4.000000</td>\n",
       "      <td>9.000000</td>\n",
       "      <td>79512.000000</td>\n",
       "    </tr>\n",
       "  </tbody>\n",
       "</table>\n",
       "</div>"
      ],
      "text/plain": [
       "            Airline  Date_of_Journey        Source   Destination  \\\n",
       "count  10683.000000     10683.000000  10683.000000  10683.000000   \n",
       "mean       3.965927        23.735093      1.952261      1.436113   \n",
       "std        2.352155        12.337763      1.177221      1.474782   \n",
       "min        0.000000         0.000000      0.000000      0.000000   \n",
       "25%        3.000000        14.000000      2.000000      0.000000   \n",
       "50%        4.000000        24.000000      2.000000      1.000000   \n",
       "75%        4.000000        35.000000      3.000000      2.000000   \n",
       "max       11.000000        43.000000      4.000000      5.000000   \n",
       "\n",
       "              Route      Dep_Time  Arrival_Time      Duration   Total_Stops  \\\n",
       "count  10683.000000  10683.000000  10683.000000  10683.000000  10683.000000   \n",
       "mean      74.822896    107.980717    869.828419    194.069269      1.458111   \n",
       "std       36.728405     61.085563    331.509504    108.620556      1.806290   \n",
       "min        0.000000      0.000000      0.000000      0.000000      0.000000   \n",
       "25%       48.000000     55.000000    603.000000    106.000000      0.000000   \n",
       "50%       73.000000     96.000000    937.000000    233.000000      0.000000   \n",
       "75%      104.000000    164.000000   1141.000000    280.000000      4.000000   \n",
       "max      127.000000    221.000000   1342.000000    367.000000      4.000000   \n",
       "\n",
       "       Additional_Info         Price  \n",
       "count     10683.000000  10683.000000  \n",
       "mean          7.393054   9087.064121  \n",
       "std           1.214211   4611.359167  \n",
       "min           0.000000   1759.000000  \n",
       "25%           8.000000   5277.000000  \n",
       "50%           8.000000   8372.000000  \n",
       "75%           8.000000  12373.000000  \n",
       "max           9.000000  79512.000000  "
      ]
     },
     "execution_count": 19,
     "metadata": {},
     "output_type": "execute_result"
    }
   ],
   "source": [
    "df.describe()\n",
    "#The gap between std dev and mean clearly indicated data has outliers , which we will check and remove later"
   ]
  },
  {
   "cell_type": "code",
   "execution_count": 20,
   "id": "6af78c10",
   "metadata": {},
   "outputs": [
    {
     "data": {
      "text/plain": [
       "<AxesSubplot:>"
      ]
     },
     "execution_count": 20,
     "metadata": {},
     "output_type": "execute_result"
    },
    {
     "data": {
      "image/png": "[encoded data removed]",
      "text/plain": [
       "<Figure size 1584x504 with 2 Axes>"
      ]
     },
     "metadata": {
      "needs_background": "light"
     },
     "output_type": "display_data"
    }
   ],
   "source": [
    "#Describing data in heatmap\n",
    "plt.figure(figsize=(22,7))\n",
    "sns.heatmap(df.describe(),annot=True,linewidths=0.1,linecolor=\"black\",fmt=\"0.2f\")"
   ]
  },
  {
   "cell_type": "code",
   "execution_count": 21,
   "id": "7431a87d",
   "metadata": {},
   "outputs": [
    {
     "data": {
      "text/plain": [
       "(10683, 11)"
      ]
     },
     "execution_count": 21,
     "metadata": {},
     "output_type": "execute_result"
    }
   ],
   "source": [
    "df.shape\n",
    "#data has 11 columns and 10683 rows"
   ]
  },
  {
   "cell_type": "code",
   "execution_count": 22,
   "id": "df25337f",
   "metadata": {},
   "outputs": [
    {
     "data": {
      "text/html": [
       "<div>\n",
       "<style scoped>\n",
       "    .dataframe tbody tr th:only-of-type {\n",
       "        vertical-align: middle;\n",
       "    }\n",
       "\n",
       "    .dataframe tbody tr th {\n",
       "        vertical-align: top;\n",
       "    }\n",
       "\n",
       "    .dataframe thead th {\n",
       "        text-align: right;\n",
       "    }\n",
       "</style>\n",
       "<table border=\"1\" class=\"dataframe\">\n",
       "  <thead>\n",
       "    <tr style=\"text-align: right;\">\n",
       "      <th></th>\n",
       "      <th>Airline</th>\n",
       "      <th>Date_of_Journey</th>\n",
       "      <th>Source</th>\n",
       "      <th>Destination</th>\n",
       "      <th>Route</th>\n",
       "      <th>Dep_Time</th>\n",
       "      <th>Arrival_Time</th>\n",
       "      <th>Duration</th>\n",
       "      <th>Total_Stops</th>\n",
       "      <th>Additional_Info</th>\n",
       "      <th>Price</th>\n",
       "    </tr>\n",
       "  </thead>\n",
       "  <tbody>\n",
       "    <tr>\n",
       "      <th>Airline</th>\n",
       "      <td>1.000000</td>\n",
       "      <td>0.022251</td>\n",
       "      <td>-0.013401</td>\n",
       "      <td>0.018479</td>\n",
       "      <td>0.025118</td>\n",
       "      <td>-0.039439</td>\n",
       "      <td>-0.015733</td>\n",
       "      <td>0.027917</td>\n",
       "      <td>0.036064</td>\n",
       "      <td>-0.060802</td>\n",
       "      <td>-0.039520</td>\n",
       "    </tr>\n",
       "    <tr>\n",
       "      <th>Date_of_Journey</th>\n",
       "      <td>0.022251</td>\n",
       "      <td>1.000000</td>\n",
       "      <td>0.167549</td>\n",
       "      <td>-0.273357</td>\n",
       "      <td>0.275181</td>\n",
       "      <td>-0.007836</td>\n",
       "      <td>-0.012507</td>\n",
       "      <td>-0.001168</td>\n",
       "      <td>-0.044152</td>\n",
       "      <td>0.008382</td>\n",
       "      <td>-0.036942</td>\n",
       "    </tr>\n",
       "    <tr>\n",
       "      <th>Source</th>\n",
       "      <td>-0.013401</td>\n",
       "      <td>0.167549</td>\n",
       "      <td>1.000000</td>\n",
       "      <td>-0.592574</td>\n",
       "      <td>0.403403</td>\n",
       "      <td>0.055191</td>\n",
       "      <td>0.020844</td>\n",
       "      <td>-0.192009</td>\n",
       "      <td>-0.225601</td>\n",
       "      <td>-0.022107</td>\n",
       "      <td>0.015998</td>\n",
       "    </tr>\n",
       "    <tr>\n",
       "      <th>Destination</th>\n",
       "      <td>0.018479</td>\n",
       "      <td>-0.273357</td>\n",
       "      <td>-0.592574</td>\n",
       "      <td>1.000000</td>\n",
       "      <td>-0.461183</td>\n",
       "      <td>-0.063608</td>\n",
       "      <td>-0.036830</td>\n",
       "      <td>0.022037</td>\n",
       "      <td>0.337883</td>\n",
       "      <td>0.026806</td>\n",
       "      <td>-0.071112</td>\n",
       "    </tr>\n",
       "    <tr>\n",
       "      <th>Route</th>\n",
       "      <td>0.025118</td>\n",
       "      <td>0.275181</td>\n",
       "      <td>0.403403</td>\n",
       "      <td>-0.461183</td>\n",
       "      <td>1.000000</td>\n",
       "      <td>-0.082051</td>\n",
       "      <td>0.010560</td>\n",
       "      <td>-0.062097</td>\n",
       "      <td>-0.437783</td>\n",
       "      <td>0.035188</td>\n",
       "      <td>0.164118</td>\n",
       "    </tr>\n",
       "    <tr>\n",
       "      <th>Dep_Time</th>\n",
       "      <td>-0.039439</td>\n",
       "      <td>-0.007836</td>\n",
       "      <td>0.055191</td>\n",
       "      <td>-0.063608</td>\n",
       "      <td>-0.082051</td>\n",
       "      <td>1.000000</td>\n",
       "      <td>-0.023294</td>\n",
       "      <td>0.041619</td>\n",
       "      <td>0.044687</td>\n",
       "      <td>-0.052853</td>\n",
       "      <td>0.002949</td>\n",
       "    </tr>\n",
       "    <tr>\n",
       "      <th>Arrival_Time</th>\n",
       "      <td>-0.015733</td>\n",
       "      <td>-0.012507</td>\n",
       "      <td>0.020844</td>\n",
       "      <td>-0.036830</td>\n",
       "      <td>0.010560</td>\n",
       "      <td>-0.023294</td>\n",
       "      <td>1.000000</td>\n",
       "      <td>0.027746</td>\n",
       "      <td>-0.097132</td>\n",
       "      <td>0.017505</td>\n",
       "      <td>0.027377</td>\n",
       "    </tr>\n",
       "    <tr>\n",
       "      <th>Duration</th>\n",
       "      <td>0.027917</td>\n",
       "      <td>-0.001168</td>\n",
       "      <td>-0.192009</td>\n",
       "      <td>0.022037</td>\n",
       "      <td>-0.062097</td>\n",
       "      <td>0.041619</td>\n",
       "      <td>0.027746</td>\n",
       "      <td>1.000000</td>\n",
       "      <td>0.175207</td>\n",
       "      <td>0.080151</td>\n",
       "      <td>-0.144270</td>\n",
       "    </tr>\n",
       "    <tr>\n",
       "      <th>Total_Stops</th>\n",
       "      <td>0.036064</td>\n",
       "      <td>-0.044152</td>\n",
       "      <td>-0.225601</td>\n",
       "      <td>0.337883</td>\n",
       "      <td>-0.437783</td>\n",
       "      <td>0.044687</td>\n",
       "      <td>-0.097132</td>\n",
       "      <td>0.175207</td>\n",
       "      <td>1.000000</td>\n",
       "      <td>0.164009</td>\n",
       "      <td>-0.571174</td>\n",
       "    </tr>\n",
       "    <tr>\n",
       "      <th>Additional_Info</th>\n",
       "      <td>-0.060802</td>\n",
       "      <td>0.008382</td>\n",
       "      <td>-0.022107</td>\n",
       "      <td>0.026806</td>\n",
       "      <td>0.035188</td>\n",
       "      <td>-0.052853</td>\n",
       "      <td>0.017505</td>\n",
       "      <td>0.080151</td>\n",
       "      <td>0.164009</td>\n",
       "      <td>1.000000</td>\n",
       "      <td>-0.065478</td>\n",
       "    </tr>\n",
       "    <tr>\n",
       "      <th>Price</th>\n",
       "      <td>-0.039520</td>\n",
       "      <td>-0.036942</td>\n",
       "      <td>0.015998</td>\n",
       "      <td>-0.071112</td>\n",
       "      <td>0.164118</td>\n",
       "      <td>0.002949</td>\n",
       "      <td>0.027377</td>\n",
       "      <td>-0.144270</td>\n",
       "      <td>-0.571174</td>\n",
       "      <td>-0.065478</td>\n",
       "      <td>1.000000</td>\n",
       "    </tr>\n",
       "  </tbody>\n",
       "</table>\n",
       "</div>"
      ],
      "text/plain": [
       "                  Airline  Date_of_Journey    Source  Destination     Route  \\\n",
       "Airline          1.000000         0.022251 -0.013401     0.018479  0.025118   \n",
       "Date_of_Journey  0.022251         1.000000  0.167549    -0.273357  0.275181   \n",
       "Source          -0.013401         0.167549  1.000000    -0.592574  0.403403   \n",
       "Destination      0.018479        -0.273357 -0.592574     1.000000 -0.461183   \n",
       "Route            0.025118         0.275181  0.403403    -0.461183  1.000000   \n",
       "Dep_Time        -0.039439        -0.007836  0.055191    -0.063608 -0.082051   \n",
       "Arrival_Time    -0.015733        -0.012507  0.020844    -0.036830  0.010560   \n",
       "Duration         0.027917        -0.001168 -0.192009     0.022037 -0.062097   \n",
       "Total_Stops      0.036064        -0.044152 -0.225601     0.337883 -0.437783   \n",
       "Additional_Info -0.060802         0.008382 -0.022107     0.026806  0.035188   \n",
       "Price           -0.039520        -0.036942  0.015998    -0.071112  0.164118   \n",
       "\n",
       "                 Dep_Time  Arrival_Time  Duration  Total_Stops  \\\n",
       "Airline         -0.039439     -0.015733  0.027917     0.036064   \n",
       "Date_of_Journey -0.007836     -0.012507 -0.001168    -0.044152   \n",
       "Source           0.055191      0.020844 -0.192009    -0.225601   \n",
       "Destination     -0.063608     -0.036830  0.022037     0.337883   \n",
       "Route           -0.082051      0.010560 -0.062097    -0.437783   \n",
       "Dep_Time         1.000000     -0.023294  0.041619     0.044687   \n",
       "Arrival_Time    -0.023294      1.000000  0.027746    -0.097132   \n",
       "Duration         0.041619      0.027746  1.000000     0.175207   \n",
       "Total_Stops      0.044687     -0.097132  0.175207     1.000000   \n",
       "Additional_Info -0.052853      0.017505  0.080151     0.164009   \n",
       "Price            0.002949      0.027377 -0.144270    -0.571174   \n",
       "\n",
       "                 Additional_Info     Price  \n",
       "Airline                -0.060802 -0.039520  \n",
       "Date_of_Journey         0.008382 -0.036942  \n",
       "Source                 -0.022107  0.015998  \n",
       "Destination             0.026806 -0.071112  \n",
       "Route                   0.035188  0.164118  \n",
       "Dep_Time               -0.052853  0.002949  \n",
       "Arrival_Time            0.017505  0.027377  \n",
       "Duration                0.080151 -0.144270  \n",
       "Total_Stops             0.164009 -0.571174  \n",
       "Additional_Info         1.000000 -0.065478  \n",
       "Price                  -0.065478  1.000000  "
      ]
     },
     "execution_count": 22,
     "metadata": {},
     "output_type": "execute_result"
    }
   ],
   "source": [
    "#now we will check correlation using tables and charts\n",
    "dfcorr=df.corr()\n",
    "dfcorr\n"
   ]
  },
  {
   "cell_type": "code",
   "execution_count": 23,
   "id": "c538f86c",
   "metadata": {},
   "outputs": [
    {
     "data": {
      "text/plain": [
       "<AxesSubplot:>"
      ]
     },
     "execution_count": 23,
     "metadata": {},
     "output_type": "execute_result"
    },
    {
     "data": {
      "image/png": "[encoded data removed]",
      "text/plain": [
       "<Figure size 432x288 with 2 Axes>"
      ]
     },
     "metadata": {
      "needs_background": "light"
     },
     "output_type": "display_data"
    }
   ],
   "source": [
    "sns.heatmap(dfcorr)\n",
    "#above observations can be seen in graph below"
   ]
  },
  {
   "cell_type": "code",
   "execution_count": 24,
   "id": "fb0033fb",
   "metadata": {},
   "outputs": [
    {
     "data": {
      "text/plain": [
       "Price              1.000000\n",
       "Route              0.164118\n",
       "Arrival_Time       0.027377\n",
       "Source             0.015998\n",
       "Dep_Time           0.002949\n",
       "Date_of_Journey   -0.036942\n",
       "Airline           -0.039520\n",
       "Additional_Info   -0.065478\n",
       "Destination       -0.071112\n",
       "Duration          -0.144270\n",
       "Total_Stops       -0.571174\n",
       "Name: Price, dtype: float64"
      ]
     },
     "execution_count": 24,
     "metadata": {},
     "output_type": "execute_result"
    }
   ],
   "source": [
    "#Here using diff chart and below table can see very low corr of Dep_Time,Arrival_Time,Date_of_Journey,Airline,Additional_Info,Destination\n",
    "#so we will drop them\n",
    "dfcorr[\"Price\"].sort_values(ascending=False)"
   ]
  },
  {
   "cell_type": "code",
   "execution_count": 25,
   "id": "aeda0826",
   "metadata": {},
   "outputs": [
    {
     "data": {
      "text/html": [
       "<div>\n",
       "<style scoped>\n",
       "    .dataframe tbody tr th:only-of-type {\n",
       "        vertical-align: middle;\n",
       "    }\n",
       "\n",
       "    .dataframe tbody tr th {\n",
       "        vertical-align: top;\n",
       "    }\n",
       "\n",
       "    .dataframe thead th {\n",
       "        text-align: right;\n",
       "    }\n",
       "</style>\n",
       "<table border=\"1\" class=\"dataframe\">\n",
       "  <thead>\n",
       "    <tr style=\"text-align: right;\">\n",
       "      <th></th>\n",
       "      <th>Source</th>\n",
       "      <th>Route</th>\n",
       "      <th>Duration</th>\n",
       "      <th>Total_Stops</th>\n",
       "      <th>Price</th>\n",
       "    </tr>\n",
       "  </thead>\n",
       "  <tbody>\n",
       "    <tr>\n",
       "      <th>0</th>\n",
       "      <td>0.0</td>\n",
       "      <td>18.0</td>\n",
       "      <td>240.0</td>\n",
       "      <td>4.0</td>\n",
       "      <td>3897</td>\n",
       "    </tr>\n",
       "    <tr>\n",
       "      <th>1</th>\n",
       "      <td>3.0</td>\n",
       "      <td>84.0</td>\n",
       "      <td>336.0</td>\n",
       "      <td>1.0</td>\n",
       "      <td>7662</td>\n",
       "    </tr>\n",
       "    <tr>\n",
       "      <th>2</th>\n",
       "      <td>2.0</td>\n",
       "      <td>118.0</td>\n",
       "      <td>106.0</td>\n",
       "      <td>1.0</td>\n",
       "      <td>13882</td>\n",
       "    </tr>\n",
       "    <tr>\n",
       "      <th>3</th>\n",
       "      <td>3.0</td>\n",
       "      <td>91.0</td>\n",
       "      <td>311.0</td>\n",
       "      <td>0.0</td>\n",
       "      <td>6218</td>\n",
       "    </tr>\n",
       "    <tr>\n",
       "      <th>4</th>\n",
       "      <td>0.0</td>\n",
       "      <td>29.0</td>\n",
       "      <td>303.0</td>\n",
       "      <td>0.0</td>\n",
       "      <td>13302</td>\n",
       "    </tr>\n",
       "    <tr>\n",
       "      <th>...</th>\n",
       "      <td>...</td>\n",
       "      <td>...</td>\n",
       "      <td>...</td>\n",
       "      <td>...</td>\n",
       "      <td>...</td>\n",
       "    </tr>\n",
       "    <tr>\n",
       "      <th>10678</th>\n",
       "      <td>3.0</td>\n",
       "      <td>64.0</td>\n",
       "      <td>236.0</td>\n",
       "      <td>4.0</td>\n",
       "      <td>4107</td>\n",
       "    </tr>\n",
       "    <tr>\n",
       "      <th>10679</th>\n",
       "      <td>3.0</td>\n",
       "      <td>64.0</td>\n",
       "      <td>237.0</td>\n",
       "      <td>4.0</td>\n",
       "      <td>4145</td>\n",
       "    </tr>\n",
       "    <tr>\n",
       "      <th>10680</th>\n",
       "      <td>0.0</td>\n",
       "      <td>18.0</td>\n",
       "      <td>280.0</td>\n",
       "      <td>4.0</td>\n",
       "      <td>7229</td>\n",
       "    </tr>\n",
       "    <tr>\n",
       "      <th>10681</th>\n",
       "      <td>0.0</td>\n",
       "      <td>18.0</td>\n",
       "      <td>238.0</td>\n",
       "      <td>4.0</td>\n",
       "      <td>12648</td>\n",
       "    </tr>\n",
       "    <tr>\n",
       "      <th>10682</th>\n",
       "      <td>2.0</td>\n",
       "      <td>108.0</td>\n",
       "      <td>347.0</td>\n",
       "      <td>1.0</td>\n",
       "      <td>11753</td>\n",
       "    </tr>\n",
       "  </tbody>\n",
       "</table>\n",
       "<p>10683 rows × 5 columns</p>\n",
       "</div>"
      ],
      "text/plain": [
       "       Source  Route  Duration  Total_Stops  Price\n",
       "0         0.0   18.0     240.0          4.0   3897\n",
       "1         3.0   84.0     336.0          1.0   7662\n",
       "2         2.0  118.0     106.0          1.0  13882\n",
       "3         3.0   91.0     311.0          0.0   6218\n",
       "4         0.0   29.0     303.0          0.0  13302\n",
       "...       ...    ...       ...          ...    ...\n",
       "10678     3.0   64.0     236.0          4.0   4107\n",
       "10679     3.0   64.0     237.0          4.0   4145\n",
       "10680     0.0   18.0     280.0          4.0   7229\n",
       "10681     0.0   18.0     238.0          4.0  12648\n",
       "10682     2.0  108.0     347.0          1.0  11753\n",
       "\n",
       "[10683 rows x 5 columns]"
      ]
     },
     "execution_count": 25,
     "metadata": {},
     "output_type": "execute_result"
    }
   ],
   "source": [
    "df1=df.drop(['Dep_Time','Arrival_Time','Date_of_Journey','Airline','Additional_Info','Destination'],axis=1)\n",
    "df1"
   ]
  },
  {
   "cell_type": "code",
   "execution_count": 26,
   "id": "145970b3",
   "metadata": {},
   "outputs": [
    {
     "data": {
      "text/plain": [
       "Index(['Source', 'Route', 'Duration', 'Total_Stops', 'Price'], dtype='object')"
      ]
     },
     "execution_count": 26,
     "metadata": {},
     "output_type": "execute_result"
    }
   ],
   "source": [
    "df1.columns"
   ]
  },
  {
   "cell_type": "code",
   "execution_count": 27,
   "id": "8c9bfe35",
   "metadata": {},
   "outputs": [
    {
     "data": {
      "text/plain": [
       "<seaborn.axisgrid.PairGrid at 0x220b24123d0>"
      ]
     },
     "execution_count": 27,
     "metadata": {},
     "output_type": "execute_result"
    },
    {
     "data": {
      "image/png": "[encoded data removed]",
      "text/plain": [
       "<Figure size 900x900 with 30 Axes>"
      ]
     },
     "metadata": {
      "needs_background": "light"
     },
     "output_type": "display_data"
    }
   ],
   "source": [
    "sns.pairplot(df1)\n",
    "#to visually see positive , negative colrrelat"
   ]
  },
  {
   "cell_type": "code",
   "execution_count": 28,
   "id": "8398e485",
   "metadata": {},
   "outputs": [
    {
     "data": {
      "text/plain": [
       "<AxesSubplot:xlabel='Source', ylabel='Density'>"
      ]
     },
     "execution_count": 28,
     "metadata": {},
     "output_type": "execute_result"
    },
    {
     "data": {
      "image/png": "[encoded data removed]",
      "text/plain": [
       "<Figure size 432x288 with 1 Axes>"
      ]
     },
     "metadata": {
      "needs_background": "light"
     },
     "output_type": "display_data"
    }
   ],
   "source": [
    "#we will check the data distribution using distplots\n",
    "sns.distplot(df1['Source'])"
   ]
  },
  {
   "cell_type": "code",
   "execution_count": 29,
   "id": "f70a134d",
   "metadata": {},
   "outputs": [
    {
     "data": {
      "text/plain": [
       "<AxesSubplot:xlabel='Route', ylabel='Density'>"
      ]
     },
     "execution_count": 29,
     "metadata": {},
     "output_type": "execute_result"
    },
    {
     "data": {
      "image/png": "[encoded data removed]",
      "text/plain": [
       "<Figure size 432x288 with 1 Axes>"
      ]
     },
     "metadata": {
      "needs_background": "light"
     },
     "output_type": "display_data"
    }
   ],
   "source": [
    "sns.distplot(df1['Route'])"
   ]
  },
  {
   "cell_type": "code",
   "execution_count": 30,
   "id": "9d4b2010",
   "metadata": {},
   "outputs": [
    {
     "data": {
      "text/plain": [
       "<AxesSubplot:xlabel='Duration', ylabel='Density'>"
      ]
     },
     "execution_count": 30,
     "metadata": {},
     "output_type": "execute_result"
    },
    {
     "data": {
      "image/png": "[encoded data removed]",
      "text/plain": [
       "<Figure size 432x288 with 1 Axes>"
      ]
     },
     "metadata": {
      "needs_background": "light"
     },
     "output_type": "display_data"
    }
   ],
   "source": [
    "sns.distplot(df1['Duration'])"
   ]
  },
  {
   "cell_type": "code",
   "execution_count": 31,
   "id": "b4eb2e5d",
   "metadata": {},
   "outputs": [
    {
     "data": {
      "text/plain": [
       "<AxesSubplot:xlabel='Total_Stops', ylabel='Density'>"
      ]
     },
     "execution_count": 31,
     "metadata": {},
     "output_type": "execute_result"
    },
    {
     "data": {
      "image/png": "[encoded data removed]",
      "text/plain": [
       "<Figure size 432x288 with 1 Axes>"
      ]
     },
     "metadata": {
      "needs_background": "light"
     },
     "output_type": "display_data"
    }
   ],
   "source": [
    "sns.distplot(df1['Total_Stops'])"
   ]
  },
  {
   "cell_type": "code",
   "execution_count": 32,
   "id": "f6f173e0",
   "metadata": {},
   "outputs": [
    {
     "data": {
      "text/plain": [
       "<AxesSubplot:xlabel='Price', ylabel='Density'>"
      ]
     },
     "execution_count": 32,
     "metadata": {},
     "output_type": "execute_result"
    },
    {
     "data": {
      "image/png": "[encoded data removed]",
      "text/plain": [
       "<Figure size 432x288 with 1 Axes>"
      ]
     },
     "metadata": {
      "needs_background": "light"
     },
     "output_type": "display_data"
    }
   ],
   "source": [
    "sns.distplot(df1['Price'])"
   ]
  },
  {
   "cell_type": "code",
   "execution_count": 33,
   "id": "f98b83b7",
   "metadata": {},
   "outputs": [
    {
     "data": {
      "text/plain": [
       "Source            AxesSubplot(0.125,0.536818;0.110714x0.343182)\n",
       "Route          AxesSubplot(0.257857,0.536818;0.110714x0.343182)\n",
       "Duration       AxesSubplot(0.390714,0.536818;0.110714x0.343182)\n",
       "Total_Stops    AxesSubplot(0.523571,0.536818;0.110714x0.343182)\n",
       "Price          AxesSubplot(0.656429,0.536818;0.110714x0.343182)\n",
       "dtype: object"
      ]
     },
     "execution_count": 33,
     "metadata": {},
     "output_type": "execute_result"
    },
    {
     "data": {
      "image/png": "[encoded data removed]",
      "text/plain": [
       "<Figure size 1080x432 with 12 Axes>"
      ]
     },
     "metadata": {
      "needs_background": "light"
     },
     "output_type": "display_data"
    }
   ],
   "source": [
    "df1.plot(kind='box',subplots=True,layout=(2,6),figsize=(15,6))\n",
    "#from the above ditribution and below box plot the data clearly displays outliers which needs to be removed as per next code"
   ]
  },
  {
   "cell_type": "code",
   "execution_count": 34,
   "id": "4b146da2",
   "metadata": {},
   "outputs": [
    {
     "data": {
      "text/html": [
       "<div>\n",
       "<style scoped>\n",
       "    .dataframe tbody tr th:only-of-type {\n",
       "        vertical-align: middle;\n",
       "    }\n",
       "\n",
       "    .dataframe tbody tr th {\n",
       "        vertical-align: top;\n",
       "    }\n",
       "\n",
       "    .dataframe thead th {\n",
       "        text-align: right;\n",
       "    }\n",
       "</style>\n",
       "<table border=\"1\" class=\"dataframe\">\n",
       "  <thead>\n",
       "    <tr style=\"text-align: right;\">\n",
       "      <th></th>\n",
       "      <th>Source</th>\n",
       "      <th>Route</th>\n",
       "      <th>Duration</th>\n",
       "      <th>Total_Stops</th>\n",
       "      <th>Price</th>\n",
       "    </tr>\n",
       "  </thead>\n",
       "  <tbody>\n",
       "    <tr>\n",
       "      <th>0</th>\n",
       "      <td>1.658441</td>\n",
       "      <td>1.547183</td>\n",
       "      <td>0.422875</td>\n",
       "      <td>1.407309</td>\n",
       "      <td>1.125548</td>\n",
       "    </tr>\n",
       "    <tr>\n",
       "      <th>1</th>\n",
       "      <td>0.890052</td>\n",
       "      <td>0.249876</td>\n",
       "      <td>1.306727</td>\n",
       "      <td>0.253632</td>\n",
       "      <td>0.309048</td>\n",
       "    </tr>\n",
       "    <tr>\n",
       "      <th>2</th>\n",
       "      <td>0.040555</td>\n",
       "      <td>1.175633</td>\n",
       "      <td>0.810835</td>\n",
       "      <td>0.253632</td>\n",
       "      <td>1.039858</td>\n",
       "    </tr>\n",
       "    <tr>\n",
       "      <th>3</th>\n",
       "      <td>0.890052</td>\n",
       "      <td>0.440473</td>\n",
       "      <td>1.076557</td>\n",
       "      <td>0.807278</td>\n",
       "      <td>0.622202</td>\n",
       "    </tr>\n",
       "    <tr>\n",
       "      <th>4</th>\n",
       "      <td>1.658441</td>\n",
       "      <td>1.247673</td>\n",
       "      <td>1.002903</td>\n",
       "      <td>0.807278</td>\n",
       "      <td>0.914076</td>\n",
       "    </tr>\n",
       "    <tr>\n",
       "      <th>...</th>\n",
       "      <td>...</td>\n",
       "      <td>...</td>\n",
       "      <td>...</td>\n",
       "      <td>...</td>\n",
       "      <td>...</td>\n",
       "    </tr>\n",
       "    <tr>\n",
       "      <th>10678</th>\n",
       "      <td>0.890052</td>\n",
       "      <td>0.294688</td>\n",
       "      <td>0.386047</td>\n",
       "      <td>1.407309</td>\n",
       "      <td>1.080006</td>\n",
       "    </tr>\n",
       "    <tr>\n",
       "      <th>10679</th>\n",
       "      <td>0.890052</td>\n",
       "      <td>0.294688</td>\n",
       "      <td>0.395254</td>\n",
       "      <td>1.407309</td>\n",
       "      <td>1.071765</td>\n",
       "    </tr>\n",
       "    <tr>\n",
       "      <th>10680</th>\n",
       "      <td>1.658441</td>\n",
       "      <td>1.547183</td>\n",
       "      <td>0.791146</td>\n",
       "      <td>1.407309</td>\n",
       "      <td>0.402951</td>\n",
       "    </tr>\n",
       "    <tr>\n",
       "      <th>10681</th>\n",
       "      <td>1.658441</td>\n",
       "      <td>1.547183</td>\n",
       "      <td>0.404461</td>\n",
       "      <td>1.407309</td>\n",
       "      <td>0.772246</td>\n",
       "    </tr>\n",
       "    <tr>\n",
       "      <th>10682</th>\n",
       "      <td>0.040555</td>\n",
       "      <td>0.903351</td>\n",
       "      <td>1.408001</td>\n",
       "      <td>0.253632</td>\n",
       "      <td>0.578151</td>\n",
       "    </tr>\n",
       "  </tbody>\n",
       "</table>\n",
       "<p>10683 rows × 5 columns</p>\n",
       "</div>"
      ],
      "text/plain": [
       "         Source     Route  Duration  Total_Stops     Price\n",
       "0      1.658441  1.547183  0.422875     1.407309  1.125548\n",
       "1      0.890052  0.249876  1.306727     0.253632  0.309048\n",
       "2      0.040555  1.175633  0.810835     0.253632  1.039858\n",
       "3      0.890052  0.440473  1.076557     0.807278  0.622202\n",
       "4      1.658441  1.247673  1.002903     0.807278  0.914076\n",
       "...         ...       ...       ...          ...       ...\n",
       "10678  0.890052  0.294688  0.386047     1.407309  1.080006\n",
       "10679  0.890052  0.294688  0.395254     1.407309  1.071765\n",
       "10680  1.658441  1.547183  0.791146     1.407309  0.402951\n",
       "10681  1.658441  1.547183  0.404461     1.407309  0.772246\n",
       "10682  0.040555  0.903351  1.408001     0.253632  0.578151\n",
       "\n",
       "[10683 rows x 5 columns]"
      ]
     },
     "execution_count": 34,
     "metadata": {},
     "output_type": "execute_result"
    }
   ],
   "source": [
    "#removing outliers from the  data using Zscore value\n",
    "from scipy.stats import zscore\n",
    "z=np.abs(zscore(df1))\n",
    "z"
   ]
  },
  {
   "cell_type": "code",
   "execution_count": 35,
   "id": "f912f42d",
   "metadata": {},
   "outputs": [],
   "source": [
    "z=np.abs(zscore(df1))"
   ]
  },
  {
   "cell_type": "code",
   "execution_count": 36,
   "id": "29211e68",
   "metadata": {},
   "outputs": [
    {
     "data": {
      "text/plain": [
       "(10683, 5)"
      ]
     },
     "execution_count": 36,
     "metadata": {},
     "output_type": "execute_result"
    }
   ],
   "source": [
    "z.shape"
   ]
  },
  {
   "cell_type": "code",
   "execution_count": 37,
   "id": "26179acd",
   "metadata": {},
   "outputs": [
    {
     "name": "stdout",
     "output_type": "stream",
     "text": [
      "(array([  123,   396,   486,   510,   597,   628,   657,   785,   826,\n",
      "         936,   946,   959,   975,  1196,  1246,  1341,  1424,  1466,\n",
      "        1478,  1629,  1654,  1785,  1918,  2055,  2099,  2108,  2495,\n",
      "        2556,  2618,  2635,  2693,  2924,  3032,  3111,  3257,  3400,\n",
      "        3535,  3700,  4012,  4521,  4676,  4829,  5013,  5136,  5372,\n",
      "        5439,  5662,  5701,  5710,  5719,  5738,  5745,  5856,  5986,\n",
      "        6314,  6407,  6576,  6588,  6605,  6991,  7351,  7356,  7377,\n",
      "        7537,  7554,  7617,  7713,  7724,  7756,  7902,  8020,  8080,\n",
      "        8451,  8470,  8536,  8598,  8856,  8940,  8957,  8990,  9019,\n",
      "        9193,  9239,  9632,  9715,  9974, 10052, 10113, 10160, 10182,\n",
      "       10189, 10353, 10364, 10383, 10439, 10511], dtype=int64), array([4, 4, 4, 4, 4, 4, 4, 4, 4, 4, 4, 4, 4, 4, 4, 4, 4, 4, 4, 4, 4, 4,\n",
      "       4, 4, 4, 4, 4, 4, 4, 4, 4, 4, 4, 4, 4, 4, 4, 4, 4, 4, 4, 4, 4, 4,\n",
      "       4, 4, 4, 4, 4, 4, 4, 4, 4, 4, 4, 4, 4, 4, 4, 4, 4, 4, 4, 4, 4, 4,\n",
      "       4, 4, 4, 4, 4, 4, 4, 4, 4, 4, 4, 4, 4, 4, 4, 4, 4, 4, 4, 4, 4, 4,\n",
      "       4, 4, 4, 4, 4, 4, 4, 4], dtype=int64))\n"
     ]
    }
   ],
   "source": [
    "threshold=3\n",
    "print(np.where(z>3))"
   ]
  },
  {
   "cell_type": "code",
   "execution_count": 38,
   "id": "12bb2e4e",
   "metadata": {},
   "outputs": [
    {
     "data": {
      "text/plain": [
       "96"
      ]
     },
     "execution_count": 38,
     "metadata": {},
     "output_type": "execute_result"
    }
   ],
   "source": [
    "len(np.where(z>3)[0])"
   ]
  },
  {
   "cell_type": "code",
   "execution_count": 39,
   "id": "6dc0521b",
   "metadata": {},
   "outputs": [],
   "source": [
    "df2=df1[(z<3).all(axis=1)]"
   ]
  },
  {
   "cell_type": "code",
   "execution_count": 40,
   "id": "cc8e07e4",
   "metadata": {},
   "outputs": [
    {
     "name": "stdout",
     "output_type": "stream",
     "text": [
      "old dataframe (10683, 5)\n",
      "new dataframe (10587, 5)\n",
      "total dropped 96\n"
     ]
    }
   ],
   "source": [
    "print(\"old dataframe\",df1.shape)\n",
    "print(\"new dataframe\",df2.shape)\n",
    "print(\"total dropped\",df1.shape[0]-df2.shape[0])"
   ]
  },
  {
   "cell_type": "code",
   "execution_count": 41,
   "id": "1d9d3b33",
   "metadata": {},
   "outputs": [
    {
     "name": "stdout",
     "output_type": "stream",
     "text": [
      "0.8986239820275204 %\n"
     ]
    }
   ],
   "source": [
    "loss_percent=(10683-10587)/10683*100\n",
    "print(loss_percent,\"%\")\n",
    "#here by removing the outliers loosign 0.89% of data which is fine as it will help in gettign better model accuracy"
   ]
  },
  {
   "cell_type": "code",
   "execution_count": 42,
   "id": "b6094ab6",
   "metadata": {},
   "outputs": [
    {
     "data": {
      "text/plain": [
       "Source        -0.437770\n",
       "Route         -0.510097\n",
       "Duration      -0.215311\n",
       "Total_Stops    0.619568\n",
       "Price          0.412076\n",
       "dtype: float64"
      ]
     },
     "execution_count": 42,
     "metadata": {},
     "output_type": "execute_result"
    }
   ],
   "source": [
    "#we will now check skewness in data\n",
    "df2.skew()"
   ]
  },
  {
   "cell_type": "code",
   "execution_count": 43,
   "id": "48906105",
   "metadata": {},
   "outputs": [],
   "source": [
    "# We will break data into input and output and then remove skewness\n",
    "x=df2.drop(\"Price\",axis=1)\n",
    "y=df2[\"Price\"]"
   ]
  },
  {
   "cell_type": "code",
   "execution_count": 44,
   "id": "7fd531e8",
   "metadata": {},
   "outputs": [
    {
     "data": {
      "text/html": [
       "<div>\n",
       "<style scoped>\n",
       "    .dataframe tbody tr th:only-of-type {\n",
       "        vertical-align: middle;\n",
       "    }\n",
       "\n",
       "    .dataframe tbody tr th {\n",
       "        vertical-align: top;\n",
       "    }\n",
       "\n",
       "    .dataframe thead th {\n",
       "        text-align: right;\n",
       "    }\n",
       "</style>\n",
       "<table border=\"1\" class=\"dataframe\">\n",
       "  <thead>\n",
       "    <tr style=\"text-align: right;\">\n",
       "      <th></th>\n",
       "      <th>Source</th>\n",
       "      <th>Route</th>\n",
       "      <th>Duration</th>\n",
       "      <th>Total_Stops</th>\n",
       "    </tr>\n",
       "  </thead>\n",
       "  <tbody>\n",
       "    <tr>\n",
       "      <th>0</th>\n",
       "      <td>0.0</td>\n",
       "      <td>18.0</td>\n",
       "      <td>240.0</td>\n",
       "      <td>4.0</td>\n",
       "    </tr>\n",
       "    <tr>\n",
       "      <th>1</th>\n",
       "      <td>3.0</td>\n",
       "      <td>84.0</td>\n",
       "      <td>336.0</td>\n",
       "      <td>1.0</td>\n",
       "    </tr>\n",
       "    <tr>\n",
       "      <th>2</th>\n",
       "      <td>2.0</td>\n",
       "      <td>118.0</td>\n",
       "      <td>106.0</td>\n",
       "      <td>1.0</td>\n",
       "    </tr>\n",
       "    <tr>\n",
       "      <th>3</th>\n",
       "      <td>3.0</td>\n",
       "      <td>91.0</td>\n",
       "      <td>311.0</td>\n",
       "      <td>0.0</td>\n",
       "    </tr>\n",
       "    <tr>\n",
       "      <th>4</th>\n",
       "      <td>0.0</td>\n",
       "      <td>29.0</td>\n",
       "      <td>303.0</td>\n",
       "      <td>0.0</td>\n",
       "    </tr>\n",
       "    <tr>\n",
       "      <th>...</th>\n",
       "      <td>...</td>\n",
       "      <td>...</td>\n",
       "      <td>...</td>\n",
       "      <td>...</td>\n",
       "    </tr>\n",
       "    <tr>\n",
       "      <th>10678</th>\n",
       "      <td>3.0</td>\n",
       "      <td>64.0</td>\n",
       "      <td>236.0</td>\n",
       "      <td>4.0</td>\n",
       "    </tr>\n",
       "    <tr>\n",
       "      <th>10679</th>\n",
       "      <td>3.0</td>\n",
       "      <td>64.0</td>\n",
       "      <td>237.0</td>\n",
       "      <td>4.0</td>\n",
       "    </tr>\n",
       "    <tr>\n",
       "      <th>10680</th>\n",
       "      <td>0.0</td>\n",
       "      <td>18.0</td>\n",
       "      <td>280.0</td>\n",
       "      <td>4.0</td>\n",
       "    </tr>\n",
       "    <tr>\n",
       "      <th>10681</th>\n",
       "      <td>0.0</td>\n",
       "      <td>18.0</td>\n",
       "      <td>238.0</td>\n",
       "      <td>4.0</td>\n",
       "    </tr>\n",
       "    <tr>\n",
       "      <th>10682</th>\n",
       "      <td>2.0</td>\n",
       "      <td>108.0</td>\n",
       "      <td>347.0</td>\n",
       "      <td>1.0</td>\n",
       "    </tr>\n",
       "  </tbody>\n",
       "</table>\n",
       "<p>10587 rows × 4 columns</p>\n",
       "</div>"
      ],
      "text/plain": [
       "       Source  Route  Duration  Total_Stops\n",
       "0         0.0   18.0     240.0          4.0\n",
       "1         3.0   84.0     336.0          1.0\n",
       "2         2.0  118.0     106.0          1.0\n",
       "3         3.0   91.0     311.0          0.0\n",
       "4         0.0   29.0     303.0          0.0\n",
       "...       ...    ...       ...          ...\n",
       "10678     3.0   64.0     236.0          4.0\n",
       "10679     3.0   64.0     237.0          4.0\n",
       "10680     0.0   18.0     280.0          4.0\n",
       "10681     0.0   18.0     238.0          4.0\n",
       "10682     2.0  108.0     347.0          1.0\n",
       "\n",
       "[10587 rows x 4 columns]"
      ]
     },
     "execution_count": 44,
     "metadata": {},
     "output_type": "execute_result"
    }
   ],
   "source": [
    "x"
   ]
  },
  {
   "cell_type": "code",
   "execution_count": 45,
   "id": "8807fd86",
   "metadata": {},
   "outputs": [
    {
     "data": {
      "text/plain": [
       "0         3897\n",
       "1         7662\n",
       "2        13882\n",
       "3         6218\n",
       "4        13302\n",
       "         ...  \n",
       "10678     4107\n",
       "10679     4145\n",
       "10680     7229\n",
       "10681    12648\n",
       "10682    11753\n",
       "Name: Price, Length: 10587, dtype: int64"
      ]
     },
     "execution_count": 45,
     "metadata": {},
     "output_type": "execute_result"
    }
   ],
   "source": [
    "y"
   ]
  },
  {
   "cell_type": "code",
   "execution_count": 46,
   "id": "c684f85f",
   "metadata": {},
   "outputs": [
    {
     "data": {
      "text/html": [
       "<div>\n",
       "<style scoped>\n",
       "    .dataframe tbody tr th:only-of-type {\n",
       "        vertical-align: middle;\n",
       "    }\n",
       "\n",
       "    .dataframe tbody tr th {\n",
       "        vertical-align: top;\n",
       "    }\n",
       "\n",
       "    .dataframe thead th {\n",
       "        text-align: right;\n",
       "    }\n",
       "</style>\n",
       "<table border=\"1\" class=\"dataframe\">\n",
       "  <thead>\n",
       "    <tr style=\"text-align: right;\">\n",
       "      <th></th>\n",
       "      <th>Variables</th>\n",
       "      <th>VIF Factor</th>\n",
       "    </tr>\n",
       "  </thead>\n",
       "  <tbody>\n",
       "    <tr>\n",
       "      <th>0</th>\n",
       "      <td>Source</td>\n",
       "      <td>4.013455</td>\n",
       "    </tr>\n",
       "    <tr>\n",
       "      <th>1</th>\n",
       "      <td>Route</td>\n",
       "      <td>5.132149</td>\n",
       "    </tr>\n",
       "    <tr>\n",
       "      <th>2</th>\n",
       "      <td>Duration</td>\n",
       "      <td>3.368817</td>\n",
       "    </tr>\n",
       "    <tr>\n",
       "      <th>3</th>\n",
       "      <td>Total_Stops</td>\n",
       "      <td>1.684411</td>\n",
       "    </tr>\n",
       "  </tbody>\n",
       "</table>\n",
       "</div>"
      ],
      "text/plain": [
       "     Variables  VIF Factor\n",
       "0       Source    4.013455\n",
       "1        Route    5.132149\n",
       "2     Duration    3.368817\n",
       "3  Total_Stops    1.684411"
      ]
     },
     "execution_count": 46,
     "metadata": {},
     "output_type": "execute_result"
    }
   ],
   "source": [
    "#checking vif to identify multicollinierity and can see below that no column is similarly correlated\n",
    "import numpy as np\n",
    "import pandas as pd\n",
    "import statsmodels.api as sm\n",
    "from scipy import stats\n",
    "from statsmodels.stats.outliers_influence import variance_inflation_factor\n",
    "def calc_vif(x):\n",
    "    vif=pd.DataFrame()\n",
    "    vif[\"Variables\"]=x.columns\n",
    "    vif[\"VIF Factor\"]=[variance_inflation_factor(x.values,i) for i in range(x.shape[1])]\n",
    "    return(vif)\n",
    "calc_vif(x)\n",
    "#There is no multicollinierity so need to drop any column further"
   ]
  },
  {
   "cell_type": "code",
   "execution_count": 47,
   "id": "f3b0e9b7",
   "metadata": {},
   "outputs": [],
   "source": [
    "#Transform data to remove skewness\n",
    "from sklearn.preprocessing import power_transform"
   ]
  },
  {
   "cell_type": "code",
   "execution_count": 48,
   "id": "3e0f6828",
   "metadata": {},
   "outputs": [
    {
     "data": {
      "text/plain": [
       "0   -0.234880\n",
       "1   -0.437798\n",
       "2   -0.390817\n",
       "3    0.318119\n",
       "dtype: float64"
      ]
     },
     "execution_count": 48,
     "metadata": {},
     "output_type": "execute_result"
    }
   ],
   "source": [
    "x1=power_transform(x,method='yeo-johnson')\n",
    "pd.DataFrame(x1).skew()"
   ]
  },
  {
   "cell_type": "code",
   "execution_count": 49,
   "id": "89ff4535",
   "metadata": {},
   "outputs": [],
   "source": [
    "# as we have now removed the skewness , let form the modekl using Linear Regression as the output is a continues variable\n",
    "from sklearn.linear_model import LinearRegression\n",
    "from sklearn.metrics import r2_score\n",
    "lr=LinearRegression()\n",
    "from sklearn.model_selection import train_test_split\n",
    "import warnings\n",
    "warnings.filterwarnings('ignore')"
   ]
  },
  {
   "cell_type": "code",
   "execution_count": 50,
   "id": "07ae0556",
   "metadata": {},
   "outputs": [
    {
     "name": "stdout",
     "output_type": "stream",
     "text": [
      "r2score 0.2999591557977035 randome state 0\n",
      "r2score 0.27721848829069307 randome state 1\n",
      "r2score 0.26777230661297136 randome state 2\n",
      "r2score 0.2934974073338329 randome state 3\n",
      "r2score 0.2630446049360671 randome state 4\n",
      "r2score 0.27939626662055506 randome state 5\n",
      "r2score 0.2998472305848592 randome state 6\n",
      "r2score 0.3118384145592217 randome state 7\n",
      "r2score 0.29917366204290663 randome state 8\n",
      "r2score 0.28975326645995614 randome state 9\n",
      "r2score 0.27563663354884704 randome state 10\n",
      "r2score 0.2726302163162072 randome state 11\n",
      "r2score 0.2991339710856077 randome state 12\n",
      "r2score 0.32361754402681064 randome state 13\n",
      "r2score 0.2896051906766067 randome state 14\n",
      "r2score 0.28930696310971193 randome state 15\n",
      "r2score 0.2763464030593935 randome state 16\n",
      "r2score 0.27253319051202873 randome state 17\n",
      "r2score 0.2925768271248623 randome state 18\n",
      "r2score 0.3043990253460551 randome state 19\n",
      "r2score 0.30481255745846647 randome state 20\n",
      "r2score 0.26053829366252446 randome state 21\n",
      "r2score 0.31054568472531807 randome state 22\n",
      "r2score 0.2938030181520279 randome state 23\n",
      "r2score 0.30222028689748104 randome state 24\n",
      "r2score 0.3094592239551731 randome state 25\n",
      "r2score 0.2835042090864103 randome state 26\n",
      "r2score 0.2962665796395535 randome state 27\n",
      "r2score 0.30930448707133573 randome state 28\n",
      "r2score 0.30638836476210096 randome state 29\n",
      "r2score 0.26971157552144454 randome state 30\n",
      "r2score 0.28017350523996554 randome state 31\n",
      "r2score 0.2778058314227406 randome state 32\n",
      "r2score 0.2927839612776785 randome state 33\n",
      "r2score 0.2693764092935361 randome state 34\n",
      "r2score 0.28366511829272434 randome state 35\n",
      "r2score 0.333117098948438 randome state 36\n",
      "r2score 0.3054768700951038 randome state 37\n",
      "r2score 0.30795736505273763 randome state 38\n",
      "r2score 0.27604004083549416 randome state 39\n",
      "r2score 0.2884732280892687 randome state 40\n",
      "r2score 0.30852953432353747 randome state 41\n",
      "r2score 0.28094720357715197 randome state 42\n",
      "r2score 0.29824569279982294 randome state 43\n",
      "r2score 0.30054079179408266 randome state 44\n",
      "r2score 0.25538121248975854 randome state 45\n",
      "r2score 0.28540118207493836 randome state 46\n",
      "r2score 0.322054667847411 randome state 47\n",
      "r2score 0.27552628343209895 randome state 48\n",
      "r2score 0.3043293836093419 randome state 49\n",
      "r2score 0.3078607622172832 randome state 50\n",
      "r2score 0.3025499954053028 randome state 51\n",
      "r2score 0.2673607668943091 randome state 52\n",
      "r2score 0.3127465769441504 randome state 53\n",
      "r2score 0.3202515591179371 randome state 54\n",
      "r2score 0.30239360990017716 randome state 55\n",
      "r2score 0.2794423393994975 randome state 56\n",
      "r2score 0.30623455180582715 randome state 57\n",
      "r2score 0.3105661836166169 randome state 58\n",
      "r2score 0.2932407337375227 randome state 59\n",
      "r2score 0.3251165414113303 randome state 60\n",
      "r2score 0.29473214564009886 randome state 61\n",
      "r2score 0.2749962070244756 randome state 62\n",
      "r2score 0.30894507786390435 randome state 63\n",
      "r2score 0.2759492988513821 randome state 64\n",
      "r2score 0.2788300164169375 randome state 65\n",
      "r2score 0.32658757378694414 randome state 66\n",
      "r2score 0.2874052052288376 randome state 67\n",
      "r2score 0.2875006636149583 randome state 68\n",
      "r2score 0.3121302732634098 randome state 69\n",
      "r2score 0.2998507535945186 randome state 70\n",
      "r2score 0.2828686617263976 randome state 71\n",
      "r2score 0.2946906207429083 randome state 72\n",
      "r2score 0.29143611305093986 randome state 73\n",
      "r2score 0.2978743405119688 randome state 74\n",
      "r2score 0.28976738959719583 randome state 75\n",
      "r2score 0.2834723436457004 randome state 76\n",
      "r2score 0.27091820338020633 randome state 77\n",
      "r2score 0.32735034409670405 randome state 78\n",
      "r2score 0.26848210506354075 randome state 79\n",
      "r2score 0.3110918933588106 randome state 80\n",
      "r2score 0.307160551032587 randome state 81\n",
      "r2score 0.3027602566742099 randome state 82\n",
      "r2score 0.30640332513991264 randome state 83\n",
      "r2score 0.29346032740004047 randome state 84\n",
      "r2score 0.2969471455859637 randome state 85\n",
      "r2score 0.30496514028917143 randome state 86\n",
      "r2score 0.2921665077573302 randome state 87\n",
      "r2score 0.31676511101006655 randome state 88\n",
      "r2score 0.27883871736916455 randome state 89\n",
      "r2score 0.30091433878474527 randome state 90\n",
      "r2score 0.3133099958588813 randome state 91\n",
      "r2score 0.31990916274999237 randome state 92\n",
      "r2score 0.2934316587255481 randome state 93\n",
      "r2score 0.298997639367226 randome state 94\n",
      "r2score 0.314111352025937 randome state 95\n",
      "r2score 0.28474939254377285 randome state 96\n",
      "r2score 0.2786812604278289 randome state 97\n",
      "r2score 0.28899153730443117 randome state 98\n",
      "r2score 0.31123745566695993 randome state 99\n",
      "Best r2 score is 0.333117098948438 on Random State 36\n"
     ]
    }
   ],
   "source": [
    "#finding best random state\n",
    "from sklearn.metrics import r2_score\n",
    "maxr2=0\n",
    "maxRS=0\n",
    "lr=LinearRegression()\n",
    "for i in range(0,100):\n",
    "    x1_train,x1_test,y_train,y_test=train_test_split(x1,y,test_size=0.2,random_state=i)\n",
    "    lr.fit(x1_train,y_train)\n",
    "    predlr=lr.predict(x1_test)\n",
    "    r2score=r2_score(y_test,predlr)\n",
    "    print('r2score',r2score,'randome state',i)\n",
    "    if r2score>maxr2:\n",
    "        maxr2=r2score\n",
    "        maxRS=i\n",
    "        \n",
    "print(\"Best r2 score is\",maxr2,\"on Random State\",maxRS)\n"
   ]
  },
  {
   "cell_type": "code",
   "execution_count": 51,
   "id": "98ca579c",
   "metadata": {},
   "outputs": [
    {
     "name": "stdout",
     "output_type": "stream",
     "text": [
      "0.333117098948438\n",
      "cross val score: 0.29314159486383184\n"
     ]
    }
   ],
   "source": [
    "#We will go with random state 3,7,17\n",
    "x1_train,x1_test,y_train,y_test=train_test_split(x1,y,test_size=0.2,random_state=36)\n",
    "lr.fit(x1_train,y_train)\n",
    "predlr=lr.predict(x1_test)\n",
    "print(r2_score(y_test,predlr))\n",
    "cvscore=cross_val_score(lr,x1,y,cv=5)\n",
    "cvm=cvscore.mean()\n",
    "print(\"cross val score:\",cvm)"
   ]
  },
  {
   "cell_type": "code",
   "execution_count": 52,
   "id": "2eb8001c",
   "metadata": {},
   "outputs": [
    {
     "name": "stdout",
     "output_type": "stream",
     "text": [
      "{'alpha': 0.1, 'random_state': 0}\n"
     ]
    }
   ],
   "source": [
    "#Hypertuning , getting best parameters\n",
    "from sklearn.model_selection import GridSearchCV\n",
    "import warnings\n",
    "warnings.filterwarnings('ignore')\n",
    "from sklearn.linear_model import Lasso\n",
    "parameters={'alpha':[.0001,.001,.1,1,10],'random_state':list(range(0,10))}\n",
    "ls=Lasso()\n",
    "clf=GridSearchCV(ls,parameters)\n",
    "clf.fit(x1_train,y_train)\n",
    "print(clf.best_params_)"
   ]
  },
  {
   "cell_type": "code",
   "execution_count": 53,
   "id": "8f9cfef0",
   "metadata": {},
   "outputs": [
    {
     "name": "stdout",
     "output_type": "stream",
     "text": [
      "accuracy score 0.33311597125570014\n",
      "cross val score: 0.2931416443980595\n"
     ]
    }
   ],
   "source": [
    "#applying the same parameters\n",
    "ls=Lasso(alpha=0.1,random_state=0)\n",
    "ls.fit(x1_train,y_train)\n",
    "ls.score(x1_train,y_train)\n",
    "pred_ls=ls.predict(x1_test)\n",
    "lss=r2_score(y_test,pred_ls)\n",
    "lss\n",
    "cvscore1=cross_val_score(ls,x1,y,cv=5)\n",
    "cvm1=cvscore1.mean()\n",
    "print(\"accuracy score\",lss)\n",
    "print(\"cross val score:\",cvm1)"
   ]
  },
  {
   "cell_type": "code",
   "execution_count": 54,
   "id": "16568757",
   "metadata": {},
   "outputs": [
    {
     "name": "stdout",
     "output_type": "stream",
     "text": [
      "{'alpha': 1, 'random_state': 0}\n"
     ]
    }
   ],
   "source": [
    "#Trying with Ridge regression technique for hypertuning\n",
    "from sklearn.model_selection import GridSearchCV\n",
    "import warnings\n",
    "warnings.filterwarnings('ignore')\n",
    "from sklearn.linear_model import Ridge\n",
    "parameters={'alpha':[.0001,.001,.1,1,10],'random_state':list(range(0,10))}\n",
    "rd=Ridge()\n",
    "cl=GridSearchCV(rd,parameters)\n",
    "cl.fit(x1_train,y_train)\n",
    "print(cl.best_params_)"
   ]
  },
  {
   "cell_type": "code",
   "execution_count": 55,
   "id": "e45194af",
   "metadata": {},
   "outputs": [
    {
     "name": "stdout",
     "output_type": "stream",
     "text": [
      "accuracy score 0.33311395993788584\n",
      "cross val score: 0.2931417107512897\n"
     ]
    }
   ],
   "source": [
    "rd=Ridge(alpha=1,random_state=0)\n",
    "rd.fit(x1_train,y_train)\n",
    "rd.score(x1_train,y_train)\n",
    "pred_rd=rd.predict(x1_test)\n",
    "rdd=r2_score(y_test,pred_rd)\n",
    "cvscore2=cross_val_score(rd,x1,y,cv=5)\n",
    "cvm2=cvscore2.mean()\n",
    "print(\"accuracy score\",rdd)\n",
    "print(\"cross val score:\",cvm2)"
   ]
  },
  {
   "cell_type": "code",
   "execution_count": 56,
   "id": "d3f1491c",
   "metadata": {},
   "outputs": [
    {
     "name": "stdout",
     "output_type": "stream",
     "text": [
      "{'criterion': 'mse', 'max_features': 'log2'}\n"
     ]
    }
   ],
   "source": [
    "#We will check more models to see if we can still get better result for more improvement\n",
    "from sklearn.model_selection import GridSearchCV\n",
    "from sklearn.ensemble import RandomForestRegressor\n",
    "parameters={'criterion':['mse','mae'],'max_features':[\"auto\",\"sqrt\",\"log2\"]}\n",
    "rf=RandomForestRegressor()\n",
    "clf=GridSearchCV(rf,parameters)\n",
    "clf.fit(x1_train,y_train)\n",
    "print(clf.best_params_)"
   ]
  },
  {
   "cell_type": "code",
   "execution_count": 57,
   "id": "50ae247d",
   "metadata": {},
   "outputs": [
    {
     "name": "stdout",
     "output_type": "stream",
     "text": [
      "accuracy score 0.6600300475790348\n",
      "cross val score: 0.6401617620323095\n"
     ]
    }
   ],
   "source": [
    "#Applying the crieterias\n",
    "rf=RandomForestRegressor(criterion=\"mse\",max_features=\"log2\")\n",
    "rf.fit(x1_train,y_train)\n",
    "rf.score(x1_train,y_train)\n",
    "pred_decision=rf.predict(x1_test)\n",
    "rfs=r2_score(y_test,pred_decision)\n",
    "cvs3=cross_val_score(rf,x1,y,cv=5)\n",
    "cvm3=cvs3.mean()\n",
    "print(\"accuracy score\",rfs)\n",
    "print(\"cross val score:\",cvm3)"
   ]
  },
  {
   "cell_type": "code",
   "execution_count": 58,
   "id": "02a2481b",
   "metadata": {},
   "outputs": [],
   "source": [
    "#above gives better % accuracy and cross val score as well and they are very close to each other\n",
    "#than previous methods so we will save this model\n",
    "import pickle"
   ]
  },
  {
   "cell_type": "code",
   "execution_count": 59,
   "id": "d1cf02e5",
   "metadata": {},
   "outputs": [],
   "source": [
    "filename='flightprice.pkl'\n",
    "pickle.dump(rf,open(filename,'wb'))"
   ]
  },
  {
   "cell_type": "code",
   "execution_count": 60,
   "id": "abbc06d3",
   "metadata": {},
   "outputs": [
    {
     "name": "stdout",
     "output_type": "stream",
     "text": [
      "0.6600300475790348\n"
     ]
    }
   ],
   "source": [
    "#Conclusion \n",
    "loaded_model=pickle.load(open('flightprice.pkl','rb'))\n",
    "result=loaded_model.score(x1_test,y_test)\n",
    "print(result)\n",
    "                        "
   ]
  },
  {
   "cell_type": "markdown",
   "id": "cc4734dc",
   "metadata": {},
   "source": [
    "Random forest Regressor with mse criteria and log2 as max features gives best score hence we will select this model and save"
   ]
  },
  {
   "cell_type": "code",
   "execution_count": 61,
   "id": "781120d5",
   "metadata": {},
   "outputs": [
    {
     "data": {
      "text/html": [
       "<div>\n",
       "<style scoped>\n",
       "    .dataframe tbody tr th:only-of-type {\n",
       "        vertical-align: middle;\n",
       "    }\n",
       "\n",
       "    .dataframe tbody tr th {\n",
       "        vertical-align: top;\n",
       "    }\n",
       "\n",
       "    .dataframe thead th {\n",
       "        text-align: right;\n",
       "    }\n",
       "</style>\n",
       "<table border=\"1\" class=\"dataframe\">\n",
       "  <thead>\n",
       "    <tr style=\"text-align: right;\">\n",
       "      <th></th>\n",
       "      <th>0</th>\n",
       "      <th>1</th>\n",
       "      <th>2</th>\n",
       "      <th>3</th>\n",
       "      <th>4</th>\n",
       "      <th>5</th>\n",
       "      <th>6</th>\n",
       "      <th>7</th>\n",
       "      <th>8</th>\n",
       "      <th>9</th>\n",
       "      <th>...</th>\n",
       "      <th>2108</th>\n",
       "      <th>2109</th>\n",
       "      <th>2110</th>\n",
       "      <th>2111</th>\n",
       "      <th>2112</th>\n",
       "      <th>2113</th>\n",
       "      <th>2114</th>\n",
       "      <th>2115</th>\n",
       "      <th>2116</th>\n",
       "      <th>2117</th>\n",
       "    </tr>\n",
       "  </thead>\n",
       "  <tbody>\n",
       "    <tr>\n",
       "      <th>Predicted</th>\n",
       "      <td>4926.541814</td>\n",
       "      <td>12507.916824</td>\n",
       "      <td>13317.625944</td>\n",
       "      <td>4405.77472</td>\n",
       "      <td>12067.794619</td>\n",
       "      <td>14017.380574</td>\n",
       "      <td>4589.469616</td>\n",
       "      <td>12353.285881</td>\n",
       "      <td>12065.852125</td>\n",
       "      <td>6594.269752</td>\n",
       "      <td>...</td>\n",
       "      <td>12799.092811</td>\n",
       "      <td>10119.725138</td>\n",
       "      <td>4579.901779</td>\n",
       "      <td>3650.706481</td>\n",
       "      <td>10547.227084</td>\n",
       "      <td>13499.376026</td>\n",
       "      <td>8244.065133</td>\n",
       "      <td>6943.756149</td>\n",
       "      <td>5454.586815</td>\n",
       "      <td>11340.811991</td>\n",
       "    </tr>\n",
       "    <tr>\n",
       "      <th>Original</th>\n",
       "      <td>4926.541814</td>\n",
       "      <td>12507.916824</td>\n",
       "      <td>13317.625944</td>\n",
       "      <td>4405.77472</td>\n",
       "      <td>12067.794619</td>\n",
       "      <td>14017.380574</td>\n",
       "      <td>4589.469616</td>\n",
       "      <td>12353.285881</td>\n",
       "      <td>12065.852125</td>\n",
       "      <td>6594.269752</td>\n",
       "      <td>...</td>\n",
       "      <td>12799.092811</td>\n",
       "      <td>10119.725138</td>\n",
       "      <td>4579.901779</td>\n",
       "      <td>3650.706481</td>\n",
       "      <td>10547.227084</td>\n",
       "      <td>13499.376026</td>\n",
       "      <td>8244.065133</td>\n",
       "      <td>6943.756149</td>\n",
       "      <td>5454.586815</td>\n",
       "      <td>11340.811991</td>\n",
       "    </tr>\n",
       "  </tbody>\n",
       "</table>\n",
       "<p>2 rows × 2118 columns</p>\n",
       "</div>"
      ],
      "text/plain": [
       "                  0             1             2           3             4     \\\n",
       "Predicted  4926.541814  12507.916824  13317.625944  4405.77472  12067.794619   \n",
       "Original   4926.541814  12507.916824  13317.625944  4405.77472  12067.794619   \n",
       "\n",
       "                   5            6             7             8            9     \\\n",
       "Predicted  14017.380574  4589.469616  12353.285881  12065.852125  6594.269752   \n",
       "Original   14017.380574  4589.469616  12353.285881  12065.852125  6594.269752   \n",
       "\n",
       "           ...          2108          2109         2110         2111  \\\n",
       "Predicted  ...  12799.092811  10119.725138  4579.901779  3650.706481   \n",
       "Original   ...  12799.092811  10119.725138  4579.901779  3650.706481   \n",
       "\n",
       "                   2112          2113         2114         2115         2116  \\\n",
       "Predicted  10547.227084  13499.376026  8244.065133  6943.756149  5454.586815   \n",
       "Original   10547.227084  13499.376026  8244.065133  6943.756149  5454.586815   \n",
       "\n",
       "                   2117  \n",
       "Predicted  11340.811991  \n",
       "Original   11340.811991  \n",
       "\n",
       "[2 rows x 2118 columns]"
      ]
     },
     "execution_count": 61,
     "metadata": {},
     "output_type": "execute_result"
    }
   ],
   "source": [
    "#predicting the wins using the model saved\n",
    "conclusion=pd.DataFrame([loaded_model.predict(x1_test)[:],pred_decision[:]],index=[\"Predicted\",\"Original\"])\n",
    "conclusion"
   ]
  },
  {
   "cell_type": "markdown",
   "id": "441d306d",
   "metadata": {},
   "source": [
    "We now need to apply this model to test data and predict the price , so we will get the test data and remove the columns which are not in our saved model"
   ]
  },
  {
   "cell_type": "code",
   "execution_count": 62,
   "id": "dac89c93",
   "metadata": {},
   "outputs": [],
   "source": [
    "#test data downloaded from github \n",
    "dtest=pd.read_csv(\"https://raw.githubusercontent.com/ajeetsingh55555/pythonfiles/main/Test_set.csv\")"
   ]
  },
  {
   "cell_type": "code",
   "execution_count": 63,
   "id": "f2331f16",
   "metadata": {},
   "outputs": [
    {
     "data": {
      "text/html": [
       "<div>\n",
       "<style scoped>\n",
       "    .dataframe tbody tr th:only-of-type {\n",
       "        vertical-align: middle;\n",
       "    }\n",
       "\n",
       "    .dataframe tbody tr th {\n",
       "        vertical-align: top;\n",
       "    }\n",
       "\n",
       "    .dataframe thead th {\n",
       "        text-align: right;\n",
       "    }\n",
       "</style>\n",
       "<table border=\"1\" class=\"dataframe\">\n",
       "  <thead>\n",
       "    <tr style=\"text-align: right;\">\n",
       "      <th></th>\n",
       "      <th>Airline</th>\n",
       "      <th>Date_of_Journey</th>\n",
       "      <th>Source</th>\n",
       "      <th>Destination</th>\n",
       "      <th>Route</th>\n",
       "      <th>Dep_Time</th>\n",
       "      <th>Arrival_Time</th>\n",
       "      <th>Duration</th>\n",
       "      <th>Total_Stops</th>\n",
       "      <th>Additional_Info</th>\n",
       "    </tr>\n",
       "  </thead>\n",
       "  <tbody>\n",
       "    <tr>\n",
       "      <th>0</th>\n",
       "      <td>Jet Airways</td>\n",
       "      <td>6/06/2019</td>\n",
       "      <td>Delhi</td>\n",
       "      <td>Cochin</td>\n",
       "      <td>DEL ? BOM ? COK</td>\n",
       "      <td>17:30</td>\n",
       "      <td>04:25 07 Jun</td>\n",
       "      <td>10h 55m</td>\n",
       "      <td>1 stop</td>\n",
       "      <td>No info</td>\n",
       "    </tr>\n",
       "    <tr>\n",
       "      <th>1</th>\n",
       "      <td>IndiGo</td>\n",
       "      <td>12/05/2019</td>\n",
       "      <td>Kolkata</td>\n",
       "      <td>Banglore</td>\n",
       "      <td>CCU ? MAA ? BLR</td>\n",
       "      <td>06:20</td>\n",
       "      <td>10:20</td>\n",
       "      <td>4h</td>\n",
       "      <td>1 stop</td>\n",
       "      <td>No info</td>\n",
       "    </tr>\n",
       "    <tr>\n",
       "      <th>2</th>\n",
       "      <td>Jet Airways</td>\n",
       "      <td>21/05/2019</td>\n",
       "      <td>Delhi</td>\n",
       "      <td>Cochin</td>\n",
       "      <td>DEL ? BOM ? COK</td>\n",
       "      <td>19:15</td>\n",
       "      <td>19:00 22 May</td>\n",
       "      <td>23h 45m</td>\n",
       "      <td>1 stop</td>\n",
       "      <td>In-flight meal not included</td>\n",
       "    </tr>\n",
       "    <tr>\n",
       "      <th>3</th>\n",
       "      <td>Multiple carriers</td>\n",
       "      <td>21/05/2019</td>\n",
       "      <td>Delhi</td>\n",
       "      <td>Cochin</td>\n",
       "      <td>DEL ? BOM ? COK</td>\n",
       "      <td>08:00</td>\n",
       "      <td>21:00</td>\n",
       "      <td>13h</td>\n",
       "      <td>1 stop</td>\n",
       "      <td>No info</td>\n",
       "    </tr>\n",
       "    <tr>\n",
       "      <th>4</th>\n",
       "      <td>Air Asia</td>\n",
       "      <td>24/06/2019</td>\n",
       "      <td>Banglore</td>\n",
       "      <td>Delhi</td>\n",
       "      <td>BLR ? DEL</td>\n",
       "      <td>23:55</td>\n",
       "      <td>02:45 25 Jun</td>\n",
       "      <td>2h 50m</td>\n",
       "      <td>non-stop</td>\n",
       "      <td>No info</td>\n",
       "    </tr>\n",
       "    <tr>\n",
       "      <th>...</th>\n",
       "      <td>...</td>\n",
       "      <td>...</td>\n",
       "      <td>...</td>\n",
       "      <td>...</td>\n",
       "      <td>...</td>\n",
       "      <td>...</td>\n",
       "      <td>...</td>\n",
       "      <td>...</td>\n",
       "      <td>...</td>\n",
       "      <td>...</td>\n",
       "    </tr>\n",
       "    <tr>\n",
       "      <th>2666</th>\n",
       "      <td>Air India</td>\n",
       "      <td>6/06/2019</td>\n",
       "      <td>Kolkata</td>\n",
       "      <td>Banglore</td>\n",
       "      <td>CCU ? DEL ? BLR</td>\n",
       "      <td>20:30</td>\n",
       "      <td>20:25 07 Jun</td>\n",
       "      <td>23h 55m</td>\n",
       "      <td>1 stop</td>\n",
       "      <td>No info</td>\n",
       "    </tr>\n",
       "    <tr>\n",
       "      <th>2667</th>\n",
       "      <td>IndiGo</td>\n",
       "      <td>27/03/2019</td>\n",
       "      <td>Kolkata</td>\n",
       "      <td>Banglore</td>\n",
       "      <td>CCU ? BLR</td>\n",
       "      <td>14:20</td>\n",
       "      <td>16:55</td>\n",
       "      <td>2h 35m</td>\n",
       "      <td>non-stop</td>\n",
       "      <td>No info</td>\n",
       "    </tr>\n",
       "    <tr>\n",
       "      <th>2668</th>\n",
       "      <td>Jet Airways</td>\n",
       "      <td>6/03/2019</td>\n",
       "      <td>Delhi</td>\n",
       "      <td>Cochin</td>\n",
       "      <td>DEL ? BOM ? COK</td>\n",
       "      <td>21:50</td>\n",
       "      <td>04:25 07 Mar</td>\n",
       "      <td>6h 35m</td>\n",
       "      <td>1 stop</td>\n",
       "      <td>No info</td>\n",
       "    </tr>\n",
       "    <tr>\n",
       "      <th>2669</th>\n",
       "      <td>Air India</td>\n",
       "      <td>6/03/2019</td>\n",
       "      <td>Delhi</td>\n",
       "      <td>Cochin</td>\n",
       "      <td>DEL ? BOM ? COK</td>\n",
       "      <td>04:00</td>\n",
       "      <td>19:15</td>\n",
       "      <td>15h 15m</td>\n",
       "      <td>1 stop</td>\n",
       "      <td>No info</td>\n",
       "    </tr>\n",
       "    <tr>\n",
       "      <th>2670</th>\n",
       "      <td>Multiple carriers</td>\n",
       "      <td>15/06/2019</td>\n",
       "      <td>Delhi</td>\n",
       "      <td>Cochin</td>\n",
       "      <td>DEL ? BOM ? COK</td>\n",
       "      <td>04:55</td>\n",
       "      <td>19:15</td>\n",
       "      <td>14h 20m</td>\n",
       "      <td>1 stop</td>\n",
       "      <td>No info</td>\n",
       "    </tr>\n",
       "  </tbody>\n",
       "</table>\n",
       "<p>2671 rows × 10 columns</p>\n",
       "</div>"
      ],
      "text/plain": [
       "                Airline Date_of_Journey    Source Destination  \\\n",
       "0           Jet Airways       6/06/2019     Delhi      Cochin   \n",
       "1                IndiGo      12/05/2019   Kolkata    Banglore   \n",
       "2           Jet Airways      21/05/2019     Delhi      Cochin   \n",
       "3     Multiple carriers      21/05/2019     Delhi      Cochin   \n",
       "4              Air Asia      24/06/2019  Banglore       Delhi   \n",
       "...                 ...             ...       ...         ...   \n",
       "2666          Air India       6/06/2019   Kolkata    Banglore   \n",
       "2667             IndiGo      27/03/2019   Kolkata    Banglore   \n",
       "2668        Jet Airways       6/03/2019     Delhi      Cochin   \n",
       "2669          Air India       6/03/2019     Delhi      Cochin   \n",
       "2670  Multiple carriers      15/06/2019     Delhi      Cochin   \n",
       "\n",
       "                Route Dep_Time  Arrival_Time Duration Total_Stops  \\\n",
       "0     DEL ? BOM ? COK    17:30  04:25 07 Jun  10h 55m      1 stop   \n",
       "1     CCU ? MAA ? BLR    06:20         10:20       4h      1 stop   \n",
       "2     DEL ? BOM ? COK    19:15  19:00 22 May  23h 45m      1 stop   \n",
       "3     DEL ? BOM ? COK    08:00         21:00      13h      1 stop   \n",
       "4           BLR ? DEL    23:55  02:45 25 Jun   2h 50m    non-stop   \n",
       "...               ...      ...           ...      ...         ...   \n",
       "2666  CCU ? DEL ? BLR    20:30  20:25 07 Jun  23h 55m      1 stop   \n",
       "2667        CCU ? BLR    14:20         16:55   2h 35m    non-stop   \n",
       "2668  DEL ? BOM ? COK    21:50  04:25 07 Mar   6h 35m      1 stop   \n",
       "2669  DEL ? BOM ? COK    04:00         19:15  15h 15m      1 stop   \n",
       "2670  DEL ? BOM ? COK    04:55         19:15  14h 20m      1 stop   \n",
       "\n",
       "                  Additional_Info  \n",
       "0                         No info  \n",
       "1                         No info  \n",
       "2     In-flight meal not included  \n",
       "3                         No info  \n",
       "4                         No info  \n",
       "...                           ...  \n",
       "2666                      No info  \n",
       "2667                      No info  \n",
       "2668                      No info  \n",
       "2669                      No info  \n",
       "2670                      No info  \n",
       "\n",
       "[2671 rows x 10 columns]"
      ]
     },
     "execution_count": 63,
     "metadata": {},
     "output_type": "execute_result"
    }
   ],
   "source": [
    "dtest"
   ]
  },
  {
   "cell_type": "code",
   "execution_count": 64,
   "id": "e7be2bae",
   "metadata": {},
   "outputs": [
    {
     "data": {
      "text/html": [
       "<div>\n",
       "<style scoped>\n",
       "    .dataframe tbody tr th:only-of-type {\n",
       "        vertical-align: middle;\n",
       "    }\n",
       "\n",
       "    .dataframe tbody tr th {\n",
       "        vertical-align: top;\n",
       "    }\n",
       "\n",
       "    .dataframe thead th {\n",
       "        text-align: right;\n",
       "    }\n",
       "</style>\n",
       "<table border=\"1\" class=\"dataframe\">\n",
       "  <thead>\n",
       "    <tr style=\"text-align: right;\">\n",
       "      <th></th>\n",
       "      <th>Source</th>\n",
       "      <th>Route</th>\n",
       "      <th>Duration</th>\n",
       "      <th>Total_Stops</th>\n",
       "    </tr>\n",
       "  </thead>\n",
       "  <tbody>\n",
       "    <tr>\n",
       "      <th>0</th>\n",
       "      <td>Delhi</td>\n",
       "      <td>DEL ? BOM ? COK</td>\n",
       "      <td>10h 55m</td>\n",
       "      <td>1 stop</td>\n",
       "    </tr>\n",
       "    <tr>\n",
       "      <th>1</th>\n",
       "      <td>Kolkata</td>\n",
       "      <td>CCU ? MAA ? BLR</td>\n",
       "      <td>4h</td>\n",
       "      <td>1 stop</td>\n",
       "    </tr>\n",
       "    <tr>\n",
       "      <th>2</th>\n",
       "      <td>Delhi</td>\n",
       "      <td>DEL ? BOM ? COK</td>\n",
       "      <td>23h 45m</td>\n",
       "      <td>1 stop</td>\n",
       "    </tr>\n",
       "    <tr>\n",
       "      <th>3</th>\n",
       "      <td>Delhi</td>\n",
       "      <td>DEL ? BOM ? COK</td>\n",
       "      <td>13h</td>\n",
       "      <td>1 stop</td>\n",
       "    </tr>\n",
       "    <tr>\n",
       "      <th>4</th>\n",
       "      <td>Banglore</td>\n",
       "      <td>BLR ? DEL</td>\n",
       "      <td>2h 50m</td>\n",
       "      <td>non-stop</td>\n",
       "    </tr>\n",
       "    <tr>\n",
       "      <th>...</th>\n",
       "      <td>...</td>\n",
       "      <td>...</td>\n",
       "      <td>...</td>\n",
       "      <td>...</td>\n",
       "    </tr>\n",
       "    <tr>\n",
       "      <th>2666</th>\n",
       "      <td>Kolkata</td>\n",
       "      <td>CCU ? DEL ? BLR</td>\n",
       "      <td>23h 55m</td>\n",
       "      <td>1 stop</td>\n",
       "    </tr>\n",
       "    <tr>\n",
       "      <th>2667</th>\n",
       "      <td>Kolkata</td>\n",
       "      <td>CCU ? BLR</td>\n",
       "      <td>2h 35m</td>\n",
       "      <td>non-stop</td>\n",
       "    </tr>\n",
       "    <tr>\n",
       "      <th>2668</th>\n",
       "      <td>Delhi</td>\n",
       "      <td>DEL ? BOM ? COK</td>\n",
       "      <td>6h 35m</td>\n",
       "      <td>1 stop</td>\n",
       "    </tr>\n",
       "    <tr>\n",
       "      <th>2669</th>\n",
       "      <td>Delhi</td>\n",
       "      <td>DEL ? BOM ? COK</td>\n",
       "      <td>15h 15m</td>\n",
       "      <td>1 stop</td>\n",
       "    </tr>\n",
       "    <tr>\n",
       "      <th>2670</th>\n",
       "      <td>Delhi</td>\n",
       "      <td>DEL ? BOM ? COK</td>\n",
       "      <td>14h 20m</td>\n",
       "      <td>1 stop</td>\n",
       "    </tr>\n",
       "  </tbody>\n",
       "</table>\n",
       "<p>2671 rows × 4 columns</p>\n",
       "</div>"
      ],
      "text/plain": [
       "        Source            Route Duration Total_Stops\n",
       "0        Delhi  DEL ? BOM ? COK  10h 55m      1 stop\n",
       "1      Kolkata  CCU ? MAA ? BLR       4h      1 stop\n",
       "2        Delhi  DEL ? BOM ? COK  23h 45m      1 stop\n",
       "3        Delhi  DEL ? BOM ? COK      13h      1 stop\n",
       "4     Banglore        BLR ? DEL   2h 50m    non-stop\n",
       "...        ...              ...      ...         ...\n",
       "2666   Kolkata  CCU ? DEL ? BLR  23h 55m      1 stop\n",
       "2667   Kolkata        CCU ? BLR   2h 35m    non-stop\n",
       "2668     Delhi  DEL ? BOM ? COK   6h 35m      1 stop\n",
       "2669     Delhi  DEL ? BOM ? COK  15h 15m      1 stop\n",
       "2670     Delhi  DEL ? BOM ? COK  14h 20m      1 stop\n",
       "\n",
       "[2671 rows x 4 columns]"
      ]
     },
     "execution_count": 64,
     "metadata": {},
     "output_type": "execute_result"
    }
   ],
   "source": [
    "#dropping the columns from test data as input of our model dont have these\n",
    "dtest1=dtest.drop([\"Airline\",\"Date_of_Journey\",\"Destination\",\"Dep_Time\",\"Arrival_Time\",\"Additional_Info\"],axis=1)\n",
    "dtest1"
   ]
  },
  {
   "cell_type": "code",
   "execution_count": 65,
   "id": "e3f6dd2d",
   "metadata": {},
   "outputs": [],
   "source": [
    "#we will now convert all string to float of test data\n",
    "for i in dtest1.columns:\n",
    "    if dtest1[i].dtypes==\"object\":\n",
    "        dtest1[i]=enc.fit_transform(dtest1[i].values.reshape(-1,1))"
   ]
  },
  {
   "cell_type": "code",
   "execution_count": 66,
   "id": "6df66df6",
   "metadata": {},
   "outputs": [
    {
     "data": {
      "text/html": [
       "<div>\n",
       "<style scoped>\n",
       "    .dataframe tbody tr th:only-of-type {\n",
       "        vertical-align: middle;\n",
       "    }\n",
       "\n",
       "    .dataframe tbody tr th {\n",
       "        vertical-align: top;\n",
       "    }\n",
       "\n",
       "    .dataframe thead th {\n",
       "        text-align: right;\n",
       "    }\n",
       "</style>\n",
       "<table border=\"1\" class=\"dataframe\">\n",
       "  <thead>\n",
       "    <tr style=\"text-align: right;\">\n",
       "      <th></th>\n",
       "      <th>Source</th>\n",
       "      <th>Route</th>\n",
       "      <th>Duration</th>\n",
       "      <th>Total_Stops</th>\n",
       "    </tr>\n",
       "  </thead>\n",
       "  <tbody>\n",
       "    <tr>\n",
       "      <th>0</th>\n",
       "      <td>2.0</td>\n",
       "      <td>76.0</td>\n",
       "      <td>10.0</td>\n",
       "      <td>0.0</td>\n",
       "    </tr>\n",
       "    <tr>\n",
       "      <th>1</th>\n",
       "      <td>3.0</td>\n",
       "      <td>65.0</td>\n",
       "      <td>248.0</td>\n",
       "      <td>0.0</td>\n",
       "    </tr>\n",
       "    <tr>\n",
       "      <th>2</th>\n",
       "      <td>2.0</td>\n",
       "      <td>76.0</td>\n",
       "      <td>148.0</td>\n",
       "      <td>0.0</td>\n",
       "    </tr>\n",
       "    <tr>\n",
       "      <th>3</th>\n",
       "      <td>2.0</td>\n",
       "      <td>76.0</td>\n",
       "      <td>36.0</td>\n",
       "      <td>0.0</td>\n",
       "    </tr>\n",
       "    <tr>\n",
       "      <th>4</th>\n",
       "      <td>0.0</td>\n",
       "      <td>16.0</td>\n",
       "      <td>216.0</td>\n",
       "      <td>4.0</td>\n",
       "    </tr>\n",
       "    <tr>\n",
       "      <th>...</th>\n",
       "      <td>...</td>\n",
       "      <td>...</td>\n",
       "      <td>...</td>\n",
       "      <td>...</td>\n",
       "    </tr>\n",
       "    <tr>\n",
       "      <th>2666</th>\n",
       "      <td>3.0</td>\n",
       "      <td>51.0</td>\n",
       "      <td>150.0</td>\n",
       "      <td>0.0</td>\n",
       "    </tr>\n",
       "    <tr>\n",
       "      <th>2667</th>\n",
       "      <td>3.0</td>\n",
       "      <td>43.0</td>\n",
       "      <td>213.0</td>\n",
       "      <td>4.0</td>\n",
       "    </tr>\n",
       "    <tr>\n",
       "      <th>2668</th>\n",
       "      <td>2.0</td>\n",
       "      <td>76.0</td>\n",
       "      <td>278.0</td>\n",
       "      <td>0.0</td>\n",
       "    </tr>\n",
       "    <tr>\n",
       "      <th>2669</th>\n",
       "      <td>2.0</td>\n",
       "      <td>76.0</td>\n",
       "      <td>60.0</td>\n",
       "      <td>0.0</td>\n",
       "    </tr>\n",
       "    <tr>\n",
       "      <th>2670</th>\n",
       "      <td>2.0</td>\n",
       "      <td>76.0</td>\n",
       "      <td>49.0</td>\n",
       "      <td>0.0</td>\n",
       "    </tr>\n",
       "  </tbody>\n",
       "</table>\n",
       "<p>2671 rows × 4 columns</p>\n",
       "</div>"
      ],
      "text/plain": [
       "      Source  Route  Duration  Total_Stops\n",
       "0        2.0   76.0      10.0          0.0\n",
       "1        3.0   65.0     248.0          0.0\n",
       "2        2.0   76.0     148.0          0.0\n",
       "3        2.0   76.0      36.0          0.0\n",
       "4        0.0   16.0     216.0          4.0\n",
       "...      ...    ...       ...          ...\n",
       "2666     3.0   51.0     150.0          0.0\n",
       "2667     3.0   43.0     213.0          4.0\n",
       "2668     2.0   76.0     278.0          0.0\n",
       "2669     2.0   76.0      60.0          0.0\n",
       "2670     2.0   76.0      49.0          0.0\n",
       "\n",
       "[2671 rows x 4 columns]"
      ]
     },
     "execution_count": 66,
     "metadata": {},
     "output_type": "execute_result"
    }
   ],
   "source": [
    "dtest1"
   ]
  },
  {
   "cell_type": "code",
   "execution_count": 68,
   "id": "a0d2e5c5",
   "metadata": {},
   "outputs": [
    {
     "data": {
      "text/plain": [
       "Source         0\n",
       "Route          0\n",
       "Duration       0\n",
       "Total_Stops    0\n",
       "dtype: int64"
      ]
     },
     "execution_count": 68,
     "metadata": {},
     "output_type": "execute_result"
    }
   ],
   "source": [
    "dtest1.isnull().sum()"
   ]
  },
  {
   "cell_type": "code",
   "execution_count": 69,
   "id": "90396273",
   "metadata": {},
   "outputs": [
    {
     "data": {
      "text/html": [
       "<div>\n",
       "<style scoped>\n",
       "    .dataframe tbody tr th:only-of-type {\n",
       "        vertical-align: middle;\n",
       "    }\n",
       "\n",
       "    .dataframe tbody tr th {\n",
       "        vertical-align: top;\n",
       "    }\n",
       "\n",
       "    .dataframe thead th {\n",
       "        text-align: right;\n",
       "    }\n",
       "</style>\n",
       "<table border=\"1\" class=\"dataframe\">\n",
       "  <thead>\n",
       "    <tr style=\"text-align: right;\">\n",
       "      <th></th>\n",
       "      <th>0</th>\n",
       "      <th>1</th>\n",
       "      <th>2</th>\n",
       "      <th>3</th>\n",
       "      <th>4</th>\n",
       "      <th>5</th>\n",
       "      <th>6</th>\n",
       "      <th>7</th>\n",
       "      <th>8</th>\n",
       "      <th>9</th>\n",
       "      <th>...</th>\n",
       "      <th>2661</th>\n",
       "      <th>2662</th>\n",
       "      <th>2663</th>\n",
       "      <th>2664</th>\n",
       "      <th>2665</th>\n",
       "      <th>2666</th>\n",
       "      <th>2667</th>\n",
       "      <th>2668</th>\n",
       "      <th>2669</th>\n",
       "      <th>2670</th>\n",
       "    </tr>\n",
       "  </thead>\n",
       "  <tbody>\n",
       "    <tr>\n",
       "      <th>0</th>\n",
       "      <td>12845.858499</td>\n",
       "      <td>12845.858499</td>\n",
       "      <td>12845.858499</td>\n",
       "      <td>12845.858499</td>\n",
       "      <td>7130.591279</td>\n",
       "      <td>12845.858499</td>\n",
       "      <td>12181.796195</td>\n",
       "      <td>12845.858499</td>\n",
       "      <td>6244.535011</td>\n",
       "      <td>12845.858499</td>\n",
       "      <td>...</td>\n",
       "      <td>14035.403193</td>\n",
       "      <td>6244.535011</td>\n",
       "      <td>12845.858499</td>\n",
       "      <td>12845.858499</td>\n",
       "      <td>6244.535011</td>\n",
       "      <td>12845.858499</td>\n",
       "      <td>6244.535011</td>\n",
       "      <td>12845.858499</td>\n",
       "      <td>12845.858499</td>\n",
       "      <td>12845.858499</td>\n",
       "    </tr>\n",
       "  </tbody>\n",
       "</table>\n",
       "<p>1 rows × 2671 columns</p>\n",
       "</div>"
      ],
      "text/plain": [
       "           0             1             2             3            4     \\\n",
       "0  12845.858499  12845.858499  12845.858499  12845.858499  7130.591279   \n",
       "\n",
       "           5             6             7            8             9     ...  \\\n",
       "0  12845.858499  12181.796195  12845.858499  6244.535011  12845.858499  ...   \n",
       "\n",
       "           2661         2662          2663          2664         2665  \\\n",
       "0  14035.403193  6244.535011  12845.858499  12845.858499  6244.535011   \n",
       "\n",
       "           2666         2667          2668          2669          2670  \n",
       "0  12845.858499  6244.535011  12845.858499  12845.858499  12845.858499  \n",
       "\n",
       "[1 rows x 2671 columns]"
      ]
     },
     "execution_count": 69,
     "metadata": {},
     "output_type": "execute_result"
    }
   ],
   "source": [
    "#predicting the ticket Price using the model saved\n",
    "conclusion=pd.DataFrame([loaded_model.predict(dtest1)[:]])\n",
    "conclusion"
   ]
  },
  {
   "cell_type": "code",
   "execution_count": null,
   "id": "f974efd4",
   "metadata": {},
   "outputs": [],
   "source": []
  }
 ],
 "metadata": {
  "kernelspec": {
   "display_name": "Python 3 (ipykernel)",
   "language": "python",
   "name": "python3"
  },
  "language_info": {
   "codemirror_mode": {
    "name": "ipython",
    "version": 3
   },
   "file_extension": ".py",
   "mimetype": "text/x-python",
   "name": "python",
   "nbconvert_exporter": "python",
   "pygments_lexer": "ipython3",
   "version": "3.9.7"
  }
 },
 "nbformat": 4,
 "nbformat_minor": 5
}
